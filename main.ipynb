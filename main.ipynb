{
 "cells": [
  {
   "cell_type": "markdown",
   "metadata": {},
   "source": [
    "# BOOTCAMP DATASCIENCE\n",
    "\n",
    "## Projekt Zaliczeniowy"
   ]
  },
  {
   "cell_type": "markdown",
   "metadata": {},
   "source": [
    "## Prognoza otrzymania pożyczki na podstawie podanych danych we wniosku"
   ]
  },
  {
   "cell_type": "markdown",
   "metadata": {},
   "source": [
    "#### IN:\n",
    "\n",
    "- ID - Unique ID (can not be used for predictions)\n",
    "- Gender- Sex\n",
    "- City - Current City\n",
    "- Monthly_Income - Monthly Income in rupees\n",
    "- DOB - Date of Birth\n",
    "- Lead_Creation_Date - Lead Created on date\n",
    "- Loan_Amount_Applied - Loan Amount Requested (INR)\n",
    "- Loan_Tenure_Applied - Loan Tenure Requested (in years)\n",
    "- Existing_EMI - EMI of Existing Loans (INR)\n",
    "- Employer_Name - Employer Name\n",
    "- Salary_Account- Salary account with Bank\n",
    "- Mobile_Verified - Mobile Verified (Y/N)\n",
    "- Var5- Continuous classified variable\n",
    "- Var1- Categorical variable with multiple levels\n",
    "- Loan_Amount_Submitted- Loan Amount Revised and Selected after seeing Eligibility\n",
    "- Loan_Tenure_Submitted- Loan Tenure Revised and Selected after seeing Eligibility (Years)\n",
    "- Interest_Rate- Interest Rate of Submitted Loan Amount\n",
    "- Processing_Fee- Processing Fee of Submitted Loan Amount (INR)\n",
    "- EMI_Loan_Submitted- EMI of Submitted Loan Amount (INR)\n",
    "- Filled_Form- Filled Application form post quote\n",
    "- Device_Type- Device from which application was made (Browser/ Mobile)\n",
    "- Var2- Categorical Variable with multiple Levels\n",
    "- Source- Categorical Variable with multiple Levels\n",
    "- Var4- Categorical Variable with multiple Levels\n",
    "\n",
    "#### OUT:\n",
    "\n",
    "- LoggedIn- Application Logged (Variable for understanding the problem – cannot be used in prediction)\n",
    "- Disbursed- Loan Disbursed (Target Variable)"
   ]
  },
  {
   "cell_type": "markdown",
   "metadata": {},
   "source": [
    "### Import bibliotek"
   ]
  },
  {
   "cell_type": "code",
   "execution_count": 1,
   "metadata": {},
   "outputs": [],
   "source": [
    "import pandas as pd\n",
    "import numpy as np\n",
    "import pprint\n",
    "import xgboost as xgb\n",
    "import matplotlib.pyplot as plt\n",
    "import math\n",
    "\n",
    "from sklearn.pipeline import Pipeline\n",
    "from sklearn.linear_model import LogisticRegression\n",
    "from sklearn.tree import DecisionTreeClassifier\n",
    "from sklearn.naive_bayes import MultinomialNB\n",
    "from sklearn.preprocessing import StandardScaler, MaxAbsScaler\n",
    "from sklearn.ensemble import BaggingClassifier, RandomForestClassifier\n",
    "from sklearn.model_selection import GridSearchCV, train_test_split, cross_val_score\n",
    "from sklearn.metrics import accuracy_score, roc_auc_score, f1_score\n",
    "from datetime import datetime\n",
    "\n",
    "np.random.seed(42)"
   ]
  },
  {
   "cell_type": "markdown",
   "metadata": {},
   "source": [
    "### Sprawdzenie dostępnych plików w systemie  WINDOWS"
   ]
  },
  {
   "cell_type": "code",
   "execution_count": 2,
   "metadata": {
    "scrolled": false
   },
   "outputs": [
    {
     "name": "stdout",
     "output_type": "stream",
     "text": [
      ".ipynb_checkpoints\n",
      "main.ipynb\n",
      "Train.csv\n"
     ]
    }
   ],
   "source": [
    "!dir /b"
   ]
  },
  {
   "cell_type": "markdown",
   "metadata": {},
   "source": [
    "### Import danych"
   ]
  },
  {
   "cell_type": "code",
   "execution_count": 3,
   "metadata": {},
   "outputs": [],
   "source": [
    "data = pd.read_csv('Train.csv', encoding = \"ISO-8859-1\")"
   ]
  },
  {
   "cell_type": "code",
   "execution_count": 4,
   "metadata": {
    "scrolled": true
   },
   "outputs": [
    {
     "name": "stdout",
     "output_type": "stream",
     "text": [
      "<class 'pandas.core.frame.DataFrame'>\n",
      "RangeIndex: 87020 entries, 0 to 87019\n",
      "Data columns (total 26 columns):\n",
      "ID                       87020 non-null object\n",
      "Gender                   87020 non-null object\n",
      "City                     86017 non-null object\n",
      "Monthly_Income           87020 non-null int64\n",
      "DOB                      87020 non-null object\n",
      "Lead_Creation_Date       87020 non-null object\n",
      "Loan_Amount_Applied      86949 non-null float64\n",
      "Loan_Tenure_Applied      86949 non-null float64\n",
      "Existing_EMI             86949 non-null float64\n",
      "Employer_Name            86949 non-null object\n",
      "Salary_Account           75256 non-null object\n",
      "Mobile_Verified          87020 non-null object\n",
      "Var5                     87020 non-null int64\n",
      "Var1                     87020 non-null object\n",
      "Loan_Amount_Submitted    52407 non-null float64\n",
      "Loan_Tenure_Submitted    52407 non-null float64\n",
      "Interest_Rate            27726 non-null float64\n",
      "Processing_Fee           27420 non-null float64\n",
      "EMI_Loan_Submitted       27726 non-null float64\n",
      "Filled_Form              87020 non-null object\n",
      "Device_Type              87020 non-null object\n",
      "Var2                     87020 non-null object\n",
      "Source                   87020 non-null object\n",
      "Var4                     87020 non-null int64\n",
      "LoggedIn                 87020 non-null int64\n",
      "Disbursed                87020 non-null int64\n",
      "dtypes: float64(8), int64(5), object(13)\n",
      "memory usage: 17.3+ MB\n"
     ]
    }
   ],
   "source": [
    "data.info()"
   ]
  },
  {
   "cell_type": "markdown",
   "metadata": {},
   "source": [
    "Na podstawie powyższych informacji - kolumny do usunięcia ze względu na małą ilość danych:\n",
    "- 'Loan_Amount_Submitted',\n",
    "- 'Loan_Tenure_Submitted',\n",
    "- 'Interest_Rate',\n",
    "- 'Processing_Fee',\n",
    "- 'EMI_Loan_Submitted'"
   ]
  },
  {
   "cell_type": "code",
   "execution_count": 5,
   "metadata": {},
   "outputs": [],
   "source": [
    "columns_to_del = ['Loan_Amount_Submitted','Loan_Tenure_Submitted','Interest_Rate',\n",
    "                  'Processing_Fee','EMI_Loan_Submitted','LoggedIn']"
   ]
  },
  {
   "cell_type": "markdown",
   "metadata": {},
   "source": [
    "### Przepisanie danych do osobnego DataFrame"
   ]
  },
  {
   "cell_type": "code",
   "execution_count": 6,
   "metadata": {},
   "outputs": [],
   "source": [
    "data_new = data.copy()"
   ]
  },
  {
   "cell_type": "code",
   "execution_count": 7,
   "metadata": {
    "scrolled": true
   },
   "outputs": [
    {
     "data": {
      "text/html": [
       "<div>\n",
       "<style scoped>\n",
       "    .dataframe tbody tr th:only-of-type {\n",
       "        vertical-align: middle;\n",
       "    }\n",
       "\n",
       "    .dataframe tbody tr th {\n",
       "        vertical-align: top;\n",
       "    }\n",
       "\n",
       "    .dataframe thead th {\n",
       "        text-align: right;\n",
       "    }\n",
       "</style>\n",
       "<table border=\"1\" class=\"dataframe\">\n",
       "  <thead>\n",
       "    <tr style=\"text-align: right;\">\n",
       "      <th></th>\n",
       "      <th>ID</th>\n",
       "      <th>Gender</th>\n",
       "      <th>City</th>\n",
       "      <th>Monthly_Income</th>\n",
       "      <th>DOB</th>\n",
       "      <th>Lead_Creation_Date</th>\n",
       "      <th>Loan_Amount_Applied</th>\n",
       "      <th>Loan_Tenure_Applied</th>\n",
       "      <th>Existing_EMI</th>\n",
       "      <th>Employer_Name</th>\n",
       "      <th>...</th>\n",
       "      <th>Interest_Rate</th>\n",
       "      <th>Processing_Fee</th>\n",
       "      <th>EMI_Loan_Submitted</th>\n",
       "      <th>Filled_Form</th>\n",
       "      <th>Device_Type</th>\n",
       "      <th>Var2</th>\n",
       "      <th>Source</th>\n",
       "      <th>Var4</th>\n",
       "      <th>LoggedIn</th>\n",
       "      <th>Disbursed</th>\n",
       "    </tr>\n",
       "  </thead>\n",
       "  <tbody>\n",
       "    <tr>\n",
       "      <th>0</th>\n",
       "      <td>ID000002C20</td>\n",
       "      <td>Female</td>\n",
       "      <td>Delhi</td>\n",
       "      <td>20000</td>\n",
       "      <td>23-May-78</td>\n",
       "      <td>15-May-15</td>\n",
       "      <td>300000.0</td>\n",
       "      <td>5.0</td>\n",
       "      <td>0.0</td>\n",
       "      <td>CYBOSOL</td>\n",
       "      <td>...</td>\n",
       "      <td>NaN</td>\n",
       "      <td>NaN</td>\n",
       "      <td>NaN</td>\n",
       "      <td>N</td>\n",
       "      <td>Web-browser</td>\n",
       "      <td>G</td>\n",
       "      <td>S122</td>\n",
       "      <td>1</td>\n",
       "      <td>0</td>\n",
       "      <td>0</td>\n",
       "    </tr>\n",
       "    <tr>\n",
       "      <th>1</th>\n",
       "      <td>ID000004E40</td>\n",
       "      <td>Male</td>\n",
       "      <td>Mumbai</td>\n",
       "      <td>35000</td>\n",
       "      <td>07-Oct-85</td>\n",
       "      <td>04-May-15</td>\n",
       "      <td>200000.0</td>\n",
       "      <td>2.0</td>\n",
       "      <td>0.0</td>\n",
       "      <td>TATA CONSULTANCY SERVICES LTD (TCS)</td>\n",
       "      <td>...</td>\n",
       "      <td>13.25</td>\n",
       "      <td>NaN</td>\n",
       "      <td>6762.9</td>\n",
       "      <td>N</td>\n",
       "      <td>Web-browser</td>\n",
       "      <td>G</td>\n",
       "      <td>S122</td>\n",
       "      <td>3</td>\n",
       "      <td>0</td>\n",
       "      <td>0</td>\n",
       "    </tr>\n",
       "    <tr>\n",
       "      <th>2</th>\n",
       "      <td>ID000007H20</td>\n",
       "      <td>Male</td>\n",
       "      <td>Panchkula</td>\n",
       "      <td>22500</td>\n",
       "      <td>10-Oct-81</td>\n",
       "      <td>19-May-15</td>\n",
       "      <td>600000.0</td>\n",
       "      <td>4.0</td>\n",
       "      <td>0.0</td>\n",
       "      <td>ALCHEMIST HOSPITALS LTD</td>\n",
       "      <td>...</td>\n",
       "      <td>NaN</td>\n",
       "      <td>NaN</td>\n",
       "      <td>NaN</td>\n",
       "      <td>N</td>\n",
       "      <td>Web-browser</td>\n",
       "      <td>B</td>\n",
       "      <td>S143</td>\n",
       "      <td>1</td>\n",
       "      <td>0</td>\n",
       "      <td>0</td>\n",
       "    </tr>\n",
       "    <tr>\n",
       "      <th>3</th>\n",
       "      <td>ID000008I30</td>\n",
       "      <td>Male</td>\n",
       "      <td>Saharsa</td>\n",
       "      <td>35000</td>\n",
       "      <td>30-Nov-87</td>\n",
       "      <td>09-May-15</td>\n",
       "      <td>1000000.0</td>\n",
       "      <td>5.0</td>\n",
       "      <td>0.0</td>\n",
       "      <td>BIHAR GOVERNMENT</td>\n",
       "      <td>...</td>\n",
       "      <td>NaN</td>\n",
       "      <td>NaN</td>\n",
       "      <td>NaN</td>\n",
       "      <td>N</td>\n",
       "      <td>Web-browser</td>\n",
       "      <td>B</td>\n",
       "      <td>S143</td>\n",
       "      <td>3</td>\n",
       "      <td>0</td>\n",
       "      <td>0</td>\n",
       "    </tr>\n",
       "    <tr>\n",
       "      <th>4</th>\n",
       "      <td>ID000009J40</td>\n",
       "      <td>Male</td>\n",
       "      <td>Bengaluru</td>\n",
       "      <td>100000</td>\n",
       "      <td>17-Feb-84</td>\n",
       "      <td>20-May-15</td>\n",
       "      <td>500000.0</td>\n",
       "      <td>2.0</td>\n",
       "      <td>25000.0</td>\n",
       "      <td>GLOBAL EDGE SOFTWARE</td>\n",
       "      <td>...</td>\n",
       "      <td>NaN</td>\n",
       "      <td>NaN</td>\n",
       "      <td>NaN</td>\n",
       "      <td>N</td>\n",
       "      <td>Web-browser</td>\n",
       "      <td>B</td>\n",
       "      <td>S134</td>\n",
       "      <td>3</td>\n",
       "      <td>1</td>\n",
       "      <td>0</td>\n",
       "    </tr>\n",
       "  </tbody>\n",
       "</table>\n",
       "<p>5 rows × 26 columns</p>\n",
       "</div>"
      ],
      "text/plain": [
       "            ID  Gender       City  Monthly_Income        DOB  \\\n",
       "0  ID000002C20  Female      Delhi           20000  23-May-78   \n",
       "1  ID000004E40    Male     Mumbai           35000  07-Oct-85   \n",
       "2  ID000007H20    Male  Panchkula           22500  10-Oct-81   \n",
       "3  ID000008I30    Male    Saharsa           35000  30-Nov-87   \n",
       "4  ID000009J40    Male  Bengaluru          100000  17-Feb-84   \n",
       "\n",
       "  Lead_Creation_Date  Loan_Amount_Applied  Loan_Tenure_Applied  Existing_EMI  \\\n",
       "0          15-May-15             300000.0                  5.0           0.0   \n",
       "1          04-May-15             200000.0                  2.0           0.0   \n",
       "2          19-May-15             600000.0                  4.0           0.0   \n",
       "3          09-May-15            1000000.0                  5.0           0.0   \n",
       "4          20-May-15             500000.0                  2.0       25000.0   \n",
       "\n",
       "                         Employer_Name    ...    Interest_Rate Processing_Fee  \\\n",
       "0                              CYBOSOL    ...              NaN            NaN   \n",
       "1  TATA CONSULTANCY SERVICES LTD (TCS)    ...            13.25            NaN   \n",
       "2              ALCHEMIST HOSPITALS LTD    ...              NaN            NaN   \n",
       "3                     BIHAR GOVERNMENT    ...              NaN            NaN   \n",
       "4                 GLOBAL EDGE SOFTWARE    ...              NaN            NaN   \n",
       "\n",
       "   EMI_Loan_Submitted Filled_Form  Device_Type  Var2  Source  Var4  LoggedIn  \\\n",
       "0                 NaN           N  Web-browser     G    S122     1         0   \n",
       "1              6762.9           N  Web-browser     G    S122     3         0   \n",
       "2                 NaN           N  Web-browser     B    S143     1         0   \n",
       "3                 NaN           N  Web-browser     B    S143     3         0   \n",
       "4                 NaN           N  Web-browser     B    S134     3         1   \n",
       "\n",
       "  Disbursed  \n",
       "0         0  \n",
       "1         0  \n",
       "2         0  \n",
       "3         0  \n",
       "4         0  \n",
       "\n",
       "[5 rows x 26 columns]"
      ]
     },
     "execution_count": 7,
     "metadata": {},
     "output_type": "execute_result"
    }
   ],
   "source": [
    "data_new.head()"
   ]
  },
  {
   "cell_type": "markdown",
   "metadata": {},
   "source": [
    "### Wyliczenie sensownego wieku (w dniach) na podstawie daty urodzenia i daty złożenia wniosku\n",
    "#### Correcting Date of birth"
   ]
  },
  {
   "cell_type": "code",
   "execution_count": 8,
   "metadata": {
    "scrolled": true
   },
   "outputs": [],
   "source": [
    "data_new['DOB_new'] = ['-'.join([item.split('-')[0],item.split('-')[1],'19' + item.split('-')[2]]) for item in data['DOB']]"
   ]
  },
  {
   "cell_type": "code",
   "execution_count": 9,
   "metadata": {},
   "outputs": [],
   "source": [
    "data_new['DOB_new'] = pd.to_datetime(data_new['DOB_new'])"
   ]
  },
  {
   "cell_type": "markdown",
   "metadata": {},
   "source": [
    "#### Correcting Lead Creation Date"
   ]
  },
  {
   "cell_type": "code",
   "execution_count": 10,
   "metadata": {},
   "outputs": [],
   "source": [
    "data_new['Lead_Creation_Date_new'] = pd.to_datetime(data_new['Lead_Creation_Date'])"
   ]
  },
  {
   "cell_type": "markdown",
   "metadata": {},
   "source": [
    "#### Creating Age in Days when lead was created"
   ]
  },
  {
   "cell_type": "code",
   "execution_count": 11,
   "metadata": {},
   "outputs": [],
   "source": [
    "data_new['Age_In_Days'] = (data_new['Lead_Creation_Date_new']-data_new['DOB_new']).astype('timedelta64[D]')"
   ]
  },
  {
   "cell_type": "markdown",
   "metadata": {},
   "source": [
    "### Usunięcie niepotrzebnych kolumn i kolumn tymczasowych"
   ]
  },
  {
   "cell_type": "code",
   "execution_count": 12,
   "metadata": {},
   "outputs": [],
   "source": [
    "data_new = data_new.drop(['ID','DOB','Lead_Creation_Date','DOB_new','Lead_Creation_Date_new'], axis=1)"
   ]
  },
  {
   "cell_type": "code",
   "execution_count": 13,
   "metadata": {},
   "outputs": [],
   "source": [
    "data_new = data_new.drop(columns_to_del, axis=1)"
   ]
  },
  {
   "cell_type": "code",
   "execution_count": 14,
   "metadata": {
    "scrolled": true
   },
   "outputs": [
    {
     "data": {
      "text/plain": [
       "Index(['Gender', 'City', 'Monthly_Income', 'Loan_Amount_Applied',\n",
       "       'Loan_Tenure_Applied', 'Existing_EMI', 'Employer_Name',\n",
       "       'Salary_Account', 'Mobile_Verified', 'Var5', 'Var1', 'Filled_Form',\n",
       "       'Device_Type', 'Var2', 'Source', 'Var4', 'Disbursed', 'Age_In_Days'],\n",
       "      dtype='object')"
      ]
     },
     "execution_count": 14,
     "metadata": {},
     "output_type": "execute_result"
    }
   ],
   "source": [
    "data_new.columns"
   ]
  },
  {
   "cell_type": "markdown",
   "metadata": {},
   "source": [
    "### Czyszczenie danych - przygotowanie pod modelowanie"
   ]
  },
  {
   "cell_type": "code",
   "execution_count": 15,
   "metadata": {
    "scrolled": true
   },
   "outputs": [
    {
     "name": "stdout",
     "output_type": "stream",
     "text": [
      "<class 'pandas.core.frame.DataFrame'>\n",
      "RangeIndex: 87020 entries, 0 to 87019\n",
      "Data columns (total 18 columns):\n",
      "Gender                 87020 non-null object\n",
      "City                   86017 non-null object\n",
      "Monthly_Income         87020 non-null int64\n",
      "Loan_Amount_Applied    86949 non-null float64\n",
      "Loan_Tenure_Applied    86949 non-null float64\n",
      "Existing_EMI           86949 non-null float64\n",
      "Employer_Name          86949 non-null object\n",
      "Salary_Account         75256 non-null object\n",
      "Mobile_Verified        87020 non-null object\n",
      "Var5                   87020 non-null int64\n",
      "Var1                   87020 non-null object\n",
      "Filled_Form            87020 non-null object\n",
      "Device_Type            87020 non-null object\n",
      "Var2                   87020 non-null object\n",
      "Source                 87020 non-null object\n",
      "Var4                   87020 non-null int64\n",
      "Disbursed              87020 non-null int64\n",
      "Age_In_Days            87020 non-null float64\n",
      "dtypes: float64(4), int64(4), object(10)\n",
      "memory usage: 12.0+ MB\n"
     ]
    }
   ],
   "source": [
    "data_new.info()"
   ]
  },
  {
   "cell_type": "code",
   "execution_count": 16,
   "metadata": {
    "scrolled": true
   },
   "outputs": [
    {
     "data": {
      "text/plain": [
       "Gender                     0\n",
       "City                    1003\n",
       "Monthly_Income             0\n",
       "Loan_Amount_Applied       71\n",
       "Loan_Tenure_Applied       71\n",
       "Existing_EMI              71\n",
       "Employer_Name             71\n",
       "Salary_Account         11764\n",
       "Mobile_Verified            0\n",
       "Var5                       0\n",
       "Var1                       0\n",
       "Filled_Form                0\n",
       "Device_Type                0\n",
       "Var2                       0\n",
       "Source                     0\n",
       "Var4                       0\n",
       "Disbursed                  0\n",
       "Age_In_Days                0\n",
       "dtype: int64"
      ]
     },
     "execution_count": 16,
     "metadata": {},
     "output_type": "execute_result"
    }
   ],
   "source": [
    "null_search = data_new.isnull().sum()\n",
    "null_search"
   ]
  },
  {
   "cell_type": "markdown",
   "metadata": {},
   "source": [
    "#### Zgrupowanie mało istotnych wartości dla poszczególnych kolumn oraz uzupełnienie pustych wartości \n",
    "Wszystkie wartości pojawiające się mniej niż 1% w całej próbce zmieniamy na OTHER"
   ]
  },
  {
   "cell_type": "code",
   "execution_count": 17,
   "metadata": {},
   "outputs": [],
   "source": [
    "OTHER_TRESHOLD = 1"
   ]
  },
  {
   "cell_type": "markdown",
   "metadata": {},
   "source": [
    "#### Kolumna: VAR1"
   ]
  },
  {
   "cell_type": "code",
   "execution_count": 18,
   "metadata": {
    "scrolled": true
   },
   "outputs": [
    {
     "data": {
      "text/plain": [
       "array(['HBXX', 'HBXA', 'HAXM', 'HAXB', 'HBXC', 'HBXD', 'HBXH', 'HAXA',\n",
       "       'HBXB', 'HAYT', 'HCXD', 'HVYS', 'HAVC', 'HCXG', 'HAZD', 'HCYS',\n",
       "       'HCXF', 'HAXC', 'HAXF'], dtype=object)"
      ]
     },
     "execution_count": 18,
     "metadata": {},
     "output_type": "execute_result"
    }
   ],
   "source": [
    "data_new['Var1'].unique()"
   ]
  },
  {
   "cell_type": "code",
   "execution_count": 19,
   "metadata": {
    "scrolled": true
   },
   "outputs": [
    {
     "name": "stdout",
     "output_type": "stream",
     "text": [
      "0 ::: HBXX ::: 59294 ::: 68.13835899793152  :::  68.13835899793152\n",
      "1 ::: HBXC ::: 9010 ::: 10.35394162261549  :::  78.49230062054701\n",
      "2 ::: HBXB ::: 4479 ::: 5.147092622385658  :::  83.63939324293267\n",
      "3 ::: HAXA ::: 2909 ::: 3.3429096759365664  :::  86.98230291886924\n",
      "4 ::: HBXA ::: 2123 ::: 2.4396690415996325  :::  89.42197196046887\n",
      "5 ::: HAXB ::: 2011 ::: 2.310962997012181  :::  91.73293495748105\n",
      "6 ::: HBXD ::: 1964 ::: 2.2569524247299473  :::  93.989887382211\n",
      "7 ::: HAXC ::: 1536 ::: 1.7651114686279015  :::  95.7549988508389\n",
      "8 ::: HBXH ::: 970 ::: 1.1146862790163181  :::  96.86968512985523\n",
      "9 ::: HCXF ::: 722 ::: 0.8296943231441047  :::  97.69937945299932\n",
      "10 ::: HAYT ::: 508 ::: 0.5837738450930821  :::  98.2831532980924\n",
      "11 ::: HAVC ::: 384 ::: 0.44127786715697537  :::  98.72443116524938\n",
      "12 ::: HAXM ::: 268 ::: 0.30797517811997244  :::  99.03240634336935\n",
      "13 ::: HCXD ::: 237 ::: 0.27235118363594574  :::  99.3047575270053\n",
      "14 ::: HCYS ::: 217 ::: 0.24936796138818662  :::  99.55412548839348\n",
      "15 ::: HVYS ::: 186 ::: 0.21374396690415995  :::  99.76786945529764\n",
      "16 ::: HAZD ::: 109 ::: 0.12525856125028728  :::  99.89312801654793\n",
      "17 ::: HCXG ::: 78 ::: 0.08963456676626062  :::  99.98276258331418\n",
      "18 ::: HAXF ::: 15 ::: 0.01723741668581935  :::  100.0\n"
     ]
    }
   ],
   "source": [
    "suma = 0\n",
    "for _, item in enumerate(data_new.Var1.value_counts()):\n",
    "    suma += item / data_new.shape[0]\n",
    "    print(_, ':::', data_new.Var1.value_counts().index[_], ':::' , item, ':::',100 * (item / data_new.shape[0]) , ' ::: ' ,str(suma*100))"
   ]
  },
  {
   "cell_type": "code",
   "execution_count": 20,
   "metadata": {},
   "outputs": [],
   "source": [
    "map_var1 = dict()\n",
    "for _, item in enumerate(data_new.Var1.value_counts()):\n",
    "    if 100 * (item / data_new.shape[0]) < OTHER_TRESHOLD:\n",
    "        key = data_new.Var1.value_counts().index[_]\n",
    "        map_var1[key] = 'OTHER'"
   ]
  },
  {
   "cell_type": "code",
   "execution_count": 21,
   "metadata": {},
   "outputs": [],
   "source": [
    "data_new.Var1.replace(to_replace=map_var1, inplace=True)"
   ]
  },
  {
   "cell_type": "code",
   "execution_count": 22,
   "metadata": {
    "scrolled": true
   },
   "outputs": [
    {
     "name": "stdout",
     "output_type": "stream",
     "text": [
      "0 ::: HBXX ::: 59294 ::: 68.13835899793152  :::  68.13835899793152\n",
      "1 ::: HBXC ::: 9010 ::: 10.35394162261549  :::  78.49230062054701\n",
      "2 ::: HBXB ::: 4479 ::: 5.147092622385658  :::  83.63939324293267\n",
      "3 ::: HAXA ::: 2909 ::: 3.3429096759365664  :::  86.98230291886924\n",
      "4 ::: OTHER ::: 2724 ::: 3.1303148701447943  :::  90.11261778901402\n",
      "5 ::: HBXA ::: 2123 ::: 2.4396690415996325  :::  92.55228683061367\n",
      "6 ::: HAXB ::: 2011 ::: 2.310962997012181  :::  94.86324982762584\n",
      "7 ::: HBXD ::: 1964 ::: 2.2569524247299473  :::  97.1202022523558\n",
      "8 ::: HAXC ::: 1536 ::: 1.7651114686279015  :::  98.88531372098369\n",
      "9 ::: HBXH ::: 970 ::: 1.1146862790163181  :::  100.0\n"
     ]
    }
   ],
   "source": [
    "suma = 0\n",
    "for _, item in enumerate(data_new.Var1.value_counts()):\n",
    "    suma += item / data_new.shape[0]\n",
    "    print(_, ':::', data_new.Var1.value_counts().index[_], ':::' , item, ':::',100 * (item / data_new.shape[0]) , ' ::: ' ,str(suma*100))"
   ]
  },
  {
   "cell_type": "markdown",
   "metadata": {},
   "source": [
    "#### Kolumna: VAR2"
   ]
  },
  {
   "cell_type": "code",
   "execution_count": 23,
   "metadata": {},
   "outputs": [
    {
     "name": "stdout",
     "output_type": "stream",
     "text": [
      "0 ::: B ::: 37280 ::: 42.84072626982303  :::  42.84072626982303\n",
      "1 ::: G ::: 33032 ::: 37.95908986439899  :::  80.79981613422203\n",
      "2 ::: C ::: 14210 ::: 16.329579407032867  :::  97.1293955412549\n",
      "3 ::: E ::: 1315 ::: 1.5111468627901632  :::  98.64054240404505\n",
      "4 ::: D ::: 634 ::: 0.7285681452539646  :::  99.36911054929901\n",
      "5 ::: F ::: 544 ::: 0.6251436451390485  :::  99.99425419443806\n",
      "6 ::: A ::: 5 ::: 0.005745805561939783  :::  100.0\n"
     ]
    }
   ],
   "source": [
    "suma = 0\n",
    "for _, item in enumerate(data_new.Var2.value_counts()):\n",
    "    suma += item / data_new.shape[0]\n",
    "    print(_, ':::', data_new.Var2.value_counts().index[_], ':::' , item, ':::',100 * (item / data_new.shape[0]) , ' ::: ' ,str(suma*100))"
   ]
  },
  {
   "cell_type": "code",
   "execution_count": 24,
   "metadata": {},
   "outputs": [],
   "source": [
    "map_var2 = dict()\n",
    "for _, item in enumerate(data_new.Var2.value_counts()):\n",
    "    if 100 * (item / data_new.shape[0]) < OTHER_TRESHOLD:\n",
    "        key = data_new.Var2.value_counts().index[_]\n",
    "        map_var2[key] = 'OTHER'"
   ]
  },
  {
   "cell_type": "code",
   "execution_count": 25,
   "metadata": {},
   "outputs": [],
   "source": [
    "data_new.Var2.replace(to_replace=map_var2, inplace=True)"
   ]
  },
  {
   "cell_type": "code",
   "execution_count": 26,
   "metadata": {
    "scrolled": true
   },
   "outputs": [
    {
     "name": "stdout",
     "output_type": "stream",
     "text": [
      "0 ::: B ::: 37280 ::: 42.84072626982303  :::  42.84072626982303\n",
      "1 ::: G ::: 33032 ::: 37.95908986439899  :::  80.79981613422203\n",
      "2 ::: C ::: 14210 ::: 16.329579407032867  :::  97.1293955412549\n",
      "3 ::: E ::: 1315 ::: 1.5111468627901632  :::  98.64054240404505\n",
      "4 ::: OTHER ::: 1183 ::: 1.3594575959549529  :::  100.0\n"
     ]
    }
   ],
   "source": [
    "suma = 0\n",
    "for _, item in enumerate(data_new.Var2.value_counts()):\n",
    "    suma += item / data_new.shape[0]\n",
    "    print(_, ':::', data_new.Var2.value_counts().index[_], ':::' , item, ':::',100 * (item / data_new.shape[0]) , ' ::: ' ,str(suma*100))"
   ]
  },
  {
   "cell_type": "markdown",
   "metadata": {},
   "source": [
    "#### Kolumna: SALARY_ACCOUNT"
   ]
  },
  {
   "cell_type": "markdown",
   "metadata": {},
   "source": [
    "wyświetlenie ~20 najczęściej pojawiających się banków"
   ]
  },
  {
   "cell_type": "code",
   "execution_count": 27,
   "metadata": {
    "scrolled": true
   },
   "outputs": [
    {
     "name": "stdout",
     "output_type": "stream",
     "text": [
      "0 ::: HDFC Bank ::: 17695 ::: 20.334405883704896  :::  20.334405883704896\n",
      "1 ::: ICICI Bank ::: 13636 ::: 15.669960928522178  :::  36.004366812227076\n",
      "2 ::: State Bank of India ::: 11843 ::: 13.609515054010574  :::  49.61388186623765\n",
      "3 ::: Axis Bank ::: 8783 ::: 10.093082050103424  :::  59.706963916341074\n",
      "4 ::: Citibank ::: 2376 ::: 2.7304068030337856  :::  62.437370719374854\n",
      "5 ::: Kotak Bank ::: 2067 ::: 2.375316019305907  :::  64.81268673868075\n",
      "6 ::: IDBI Bank ::: 1550 ::: 1.7811997242013329  :::  66.5938864628821\n",
      "7 ::: Punjab National Bank ::: 1201 ::: 1.3801424959779363  :::  67.97402895886002\n",
      "8 ::: Bank of India ::: 1170 ::: 1.3445185014939096  :::  69.31854746035393\n",
      "9 ::: Bank of Baroda ::: 1126 ::: 1.2939554125488393  :::  70.61250287290277\n",
      "10 ::: Standard Chartered Bank ::: 995 ::: 1.143415306826017  :::  71.75591817972878\n",
      "11 ::: Canara Bank ::: 990 ::: 1.1376695012640774  :::  72.89358768099287\n",
      "12 ::: Union Bank of India ::: 951 ::: 1.0928522178809468  :::  73.98643989887381\n",
      "13 ::: Yes Bank ::: 779 ::: 0.8951965065502183  :::  74.88163640542403\n",
      "14 ::: ING Vysya ::: 678 ::: 0.7791312341990347  :::  75.66076763962307\n",
      "15 ::: Corporation bank ::: 649 ::: 0.745805561939784  :::  76.40657320156285\n",
      "16 ::: Indian Overseas Bank ::: 612 ::: 0.7032866007814296  :::  77.10985980234429\n",
      "17 ::: State Bank of Hyderabad ::: 597 ::: 0.6860491840956102  :::  77.79590898643988\n",
      "18 ::: Indian Bank ::: 555 ::: 0.637784417375316  :::  78.43369340381521\n",
      "19 ::: Oriental Bank of Commerce ::: 524 ::: 0.6021604228912893  :::  79.03585382670649\n",
      "20 ::: IndusInd Bank ::: 503 ::: 0.5780280395311423  :::  79.61388186623763\n",
      "21 ::: Andhra Bank ::: 485 ::: 0.5573431395081591  :::  80.1712250057458\n"
     ]
    }
   ],
   "source": [
    "suma = 0\n",
    "for _, item in enumerate(data_new.Salary_Account.value_counts()):\n",
    "    suma += item / data_new.shape[0]\n",
    "    print(_, ':::', data_new.Salary_Account.value_counts().index[_], ':::' , item, ':::',100 * (item / data_new.shape[0]) , ' ::: ' ,str(suma*100))\n",
    "    if _ > 20:\n",
    "        break"
   ]
  },
  {
   "cell_type": "code",
   "execution_count": 28,
   "metadata": {},
   "outputs": [],
   "source": [
    "map_salaryacc = dict()\n",
    "for _, item in enumerate(data_new.Salary_Account.value_counts()):\n",
    "    if 100 * (item / data_new.shape[0]) < OTHER_TRESHOLD:\n",
    "        key = data_new.Salary_Account.value_counts().index[_]\n",
    "        map_salaryacc[key] = 'OTHER'"
   ]
  },
  {
   "cell_type": "code",
   "execution_count": 29,
   "metadata": {},
   "outputs": [],
   "source": [
    "data_new.Salary_Account.replace(to_replace=map_salaryacc, inplace=True)"
   ]
  },
  {
   "cell_type": "markdown",
   "metadata": {},
   "source": [
    "##### Puste wartość w kolumnie Salary_Account \n",
    "Puste wartości mogą oznaczać, że klient otrzymuje wypłatę do ręki co może być istotne w modelowaniu, dlatego uzupełniamy wartością \"None\""
   ]
  },
  {
   "cell_type": "code",
   "execution_count": 30,
   "metadata": {},
   "outputs": [],
   "source": [
    "data_new['Salary_Account'].fillna('None',inplace=True)"
   ]
  },
  {
   "cell_type": "code",
   "execution_count": 31,
   "metadata": {
    "scrolled": true
   },
   "outputs": [
    {
     "name": "stdout",
     "output_type": "stream",
     "text": [
      "0 ::: HDFC Bank ::: 17695 ::: 20.334405883704896  :::  20.334405883704896\n",
      "1 ::: ICICI Bank ::: 13636 ::: 15.669960928522178  :::  36.004366812227076\n",
      "2 ::: State Bank of India ::: 11843 ::: 13.609515054010574  :::  49.61388186623765\n",
      "3 ::: None ::: 11764 ::: 13.518731326131924  :::  63.13261319236957\n",
      "4 ::: OTHER ::: 10873 ::: 12.494828774994254  :::  75.62744196736382\n",
      "5 ::: Axis Bank ::: 8783 ::: 10.093082050103424  :::  85.72052401746724\n",
      "6 ::: Citibank ::: 2376 ::: 2.7304068030337856  :::  88.45093082050101\n",
      "7 ::: Kotak Bank ::: 2067 ::: 2.375316019305907  :::  90.82624683980693\n",
      "8 ::: IDBI Bank ::: 1550 ::: 1.7811997242013329  :::  92.60744656400826\n",
      "9 ::: Punjab National Bank ::: 1201 ::: 1.3801424959779363  :::  93.98758905998619\n",
      "10 ::: Bank of India ::: 1170 ::: 1.3445185014939096  :::  95.3321075614801\n",
      "11 ::: Bank of Baroda ::: 1126 ::: 1.2939554125488393  :::  96.62606297402894\n",
      "12 ::: Standard Chartered Bank ::: 995 ::: 1.143415306826017  :::  97.76947828085495\n",
      "13 ::: Canara Bank ::: 990 ::: 1.1376695012640774  :::  98.90714778211903\n",
      "14 ::: Union Bank of India ::: 951 ::: 1.0928522178809468  :::  99.99999999999997\n"
     ]
    }
   ],
   "source": [
    "suma = 0\n",
    "for _, item in enumerate(data_new.Salary_Account.value_counts()):\n",
    "    suma += item / data_new.shape[0]\n",
    "    print(_, ':::', data_new.Salary_Account.value_counts().index[_], ':::' , item, ':::',100 * (item / data_new.shape[0]) , ' ::: ' ,str(suma*100))"
   ]
  },
  {
   "cell_type": "markdown",
   "metadata": {},
   "source": [
    "#### Kolumna: CITY"
   ]
  },
  {
   "cell_type": "markdown",
   "metadata": {},
   "source": [
    "wyświetlenie ~20 najczęściej pojawiających się miast"
   ]
  },
  {
   "cell_type": "code",
   "execution_count": 32,
   "metadata": {},
   "outputs": [
    {
     "name": "stdout",
     "output_type": "stream",
     "text": [
      "0 ::: Delhi ::: 12527 ::: 14.395541254883934  :::  14.395541254883934\n",
      "1 ::: Bengaluru ::: 10824 ::: 12.438519880487245  :::  26.83406113537118\n",
      "2 ::: Mumbai ::: 10795 ::: 12.405194208227993  :::  39.23925534359917\n",
      "3 ::: Hyderabad ::: 7272 ::: 8.356699609285222  :::  47.5959549528844\n",
      "4 ::: Chennai ::: 6916 ::: 7.9475982532751095  :::  55.5435532061595\n",
      "5 ::: Pune ::: 5207 ::: 5.983681912204091  :::  61.527235118363585\n",
      "6 ::: Kolkata ::: 2888 ::: 3.318777292576419  :::  64.84601241094\n",
      "7 ::: Ahmedabad ::: 1788 ::: 2.054700068949667  :::  66.90071247988968\n",
      "8 ::: Jaipur ::: 1331 ::: 1.5295334405883705  :::  68.43024592047804\n",
      "9 ::: Gurgaon ::: 1212 ::: 1.3927832682142036  :::  69.82302918869226\n",
      "10 ::: Coimbatore ::: 1147 ::: 1.3180877959089863  :::  71.14111698460124\n",
      "11 ::: Thane ::: 905 ::: 1.0399908067111008  :::  72.18110779131234\n",
      "12 ::: Chandigarh ::: 870 ::: 0.9997701677775225  :::  73.18087795908987\n",
      "13 ::: Surat ::: 802 ::: 0.9216272121351412  :::  74.102505171225\n",
      "14 ::: Visakhapatnam ::: 764 ::: 0.877959089864399  :::  74.98046426108941\n",
      "15 ::: Indore ::: 734 ::: 0.8434842564927603  :::  75.82394851758217\n",
      "16 ::: Vadodara ::: 624 ::: 0.717076534130085  :::  76.54102505171225\n",
      "17 ::: Nagpur ::: 594 ::: 0.6826017007584464  :::  77.2236267524707\n",
      "18 ::: Lucknow ::: 580 ::: 0.666513445185015  :::  77.89014019765571\n",
      "19 ::: Ghaziabad ::: 560 ::: 0.6435302229372558  :::  78.53367042059297\n",
      "20 ::: Bhopal ::: 513 ::: 0.5895196506550219  :::  79.12319007124799\n",
      "21 ::: Kochi ::: 492 ::: 0.5653872672948748  :::  79.68857733854287\n"
     ]
    }
   ],
   "source": [
    "suma = 0\n",
    "for _, item in enumerate(data_new.City.value_counts()):\n",
    "    suma += item / data_new.shape[0]\n",
    "    print(_, ':::', data_new.City.value_counts().index[_], ':::' , item, ':::',100 * (item / data_new.shape[0]) , ' ::: ' ,str(suma*100))\n",
    "    if _ > 20:\n",
    "        break"
   ]
  },
  {
   "cell_type": "code",
   "execution_count": 33,
   "metadata": {},
   "outputs": [],
   "source": [
    "map_city = dict()\n",
    "for _, item in enumerate(data_new.City.value_counts()):\n",
    "    if 100 * (item / data_new.shape[0]) < OTHER_TRESHOLD:\n",
    "        key = data_new.City.value_counts().index[_]\n",
    "        map_city[key] = 'OTHER'"
   ]
  },
  {
   "cell_type": "code",
   "execution_count": 34,
   "metadata": {},
   "outputs": [],
   "source": [
    "data_new.City.replace(to_replace=map_city, inplace=True)"
   ]
  },
  {
   "cell_type": "markdown",
   "metadata": {},
   "source": [
    "##### Wypełnianie pustych wartości w polu City wpisem 'OTHER'"
   ]
  },
  {
   "cell_type": "code",
   "execution_count": 35,
   "metadata": {},
   "outputs": [],
   "source": [
    "data_new['City'].fillna('OTHER',inplace=True)"
   ]
  },
  {
   "cell_type": "code",
   "execution_count": 36,
   "metadata": {
    "scrolled": true
   },
   "outputs": [
    {
     "data": {
      "text/plain": [
       "OTHER         24208\n",
       "Delhi         12527\n",
       "Bengaluru     10824\n",
       "Mumbai        10795\n",
       "Hyderabad      7272\n",
       "Chennai        6916\n",
       "Pune           5207\n",
       "Kolkata        2888\n",
       "Ahmedabad      1788\n",
       "Jaipur         1331\n",
       "Gurgaon        1212\n",
       "Coimbatore     1147\n",
       "Thane           905\n",
       "Name: City, dtype: int64"
      ]
     },
     "execution_count": 36,
     "metadata": {},
     "output_type": "execute_result"
    }
   ],
   "source": [
    "data_new.City.value_counts()"
   ]
  },
  {
   "cell_type": "markdown",
   "metadata": {},
   "source": [
    "#### Kolumna: EMPLOYER NAME"
   ]
  },
  {
   "cell_type": "code",
   "execution_count": 37,
   "metadata": {
    "scrolled": true
   },
   "outputs": [
    {
     "data": {
      "text/plain": [
       "0                                               4914\n",
       "TATA CONSULTANCY SERVICES LTD (TCS)              550\n",
       "COGNIZANT TECHNOLOGY SOLUTIONS INDIA PVT LTD     404\n",
       "ACCENTURE SERVICES PVT LTD                       324\n",
       "GOOGLE                                           301\n",
       "HCL TECHNOLOGIES LTD                             250\n",
       "ICICI BANK LTD                                   239\n",
       "INDIAN AIR FORCE                                 191\n",
       "INFOSYS TECHNOLOGIES                             181\n",
       "GENPACT                                          179\n",
       "IBM CORPORATION                                  173\n",
       "INDIAN ARMY                                      171\n",
       "TYPE SLOWLY FOR AUTO FILL                        162\n",
       "WIPRO TECHNOLOGIES                               155\n",
       "HDFC BANK LTD                                    148\n",
       "IKYA HUMAN CAPITAL SOLUTIONS LTD                 142\n",
       "STATE GOVERNMENT                                 134\n",
       "INDIAN RAILWAY                                   130\n",
       "INDIAN NAVY                                      128\n",
       "ARMY                                             126\n",
       "WIPRO BPO                                        116\n",
       "OTHERS                                           115\n",
       "TECH MAHINDRA LTD                                113\n",
       "CONVERGYS INDIA SERVICES PVT LTD                 113\n",
       "SERCO BPO PVT LTD                                108\n",
       "IBM GLOBAL SERVICES INDIA LTD                    104\n",
       "CONCENTRIX DAKSH SERVICES INDIA PVT LTD           99\n",
       "RANDSTAD INDIA LTD                                96\n",
       "CAPGEMINI INDIA PVT LTD                           96\n",
       "ADECCO INDIA PVT LTD                              95\n",
       "                                                ... \n",
       "JUDGES -HIGH COURT                                 1\n",
       "AROKIAFERNANDEZ                                    1\n",
       "SBIINDIA                                           1\n",
       "PYRAMID FACILITY SERVICES PVT LTD                  1\n",
       "TRIOON PROPERTIES INDIA PVT LTD.                   1\n",
       "MAZARS                                             1\n",
       "PRINCIPAL DR.M.K.UMATHE COLLEGE NAGPUR             1\n",
       "BERTELSMANN MARKETING SERVICES INDIA PVT LTD       1\n",
       "MEDIENT PHARMACEUTICALS PVT. LTD.                  1\n",
       "BUDDIES INFOTECH PVT LTD                           1\n",
       "SOURCE ONE MANAGEMENT SERVICES PVT LTD             1\n",
       "M.VENKATESH                                        1\n",
       "PARAGON APPAREL PVT LTD                            1\n",
       "BROCADE COMMUNICATIONS RESEARCH PVT LTD            1\n",
       "UP AGRICULTER DEPARTMENT                           1\n",
       "THOOTHUKUDI NAZARETH DIOCESE                       1\n",
       "RAM LAL RAM CHANDRA INDIA LTD                      1\n",
       "AIRTEL                                             1\n",
       "HONEYWELL TURBO                                    1\n",
       "SHETH M P MUNICIPAL HIGH SCHOOL.                   1\n",
       "NONGWOO SEED INDIA PVT LTD                         1\n",
       "KRISTU JAYANTI COLLEGE                             1\n",
       "AMAZE TECH SOLUTIONS PVT LTD                       1\n",
       "FBS INTERNATIONAL                                  1\n",
       "AMRITANSHU AKSHAY                                  1\n",
       "TELEONE CONSUMER PRODUCT PVT.LTD                   1\n",
       "CHEMTEK FIBREGLASS INDUSTRIES                      1\n",
       "SAIKAT MAJUMDAR                                    1\n",
       "DEEPAK BHANDARI                                    1\n",
       "ADANI GAS LTD                                      1\n",
       "Name: Employer_Name, Length: 43567, dtype: int64"
      ]
     },
     "execution_count": 37,
     "metadata": {},
     "output_type": "execute_result"
    }
   ],
   "source": [
    "data_new.Employer_Name.value_counts()"
   ]
  },
  {
   "cell_type": "markdown",
   "metadata": {},
   "source": [
    "wyświetlenie ~30 najczęściej pojawiających się pracodawców"
   ]
  },
  {
   "cell_type": "code",
   "execution_count": 38,
   "metadata": {
    "scrolled": true
   },
   "outputs": [
    {
     "name": "stdout",
     "output_type": "stream",
     "text": [
      "0 ::: 0 ::: 4914 ::: 5.64697770627442  :::  5.64697770627442\n",
      "1 ::: TATA CONSULTANCY SERVICES LTD (TCS) ::: 550 ::: 0.6320386118133762  :::  6.2790163180877965\n",
      "2 ::: COGNIZANT TECHNOLOGY SOLUTIONS INDIA PVT LTD ::: 404 ::: 0.4642610894047346  :::  6.74327740749253\n",
      "3 ::: ACCENTURE SERVICES PVT LTD ::: 324 ::: 0.37232820041369796  :::  7.115605607906228\n",
      "4 ::: GOOGLE ::: 301 ::: 0.345897494828775  :::  7.461503102735002\n",
      "5 ::: HCL TECHNOLOGIES LTD ::: 250 ::: 0.2872902780969892  :::  7.748793380831992\n",
      "6 ::: ICICI BANK LTD ::: 239 ::: 0.2746495058607217  :::  8.023442886692713\n",
      "7 ::: INDIAN AIR FORCE ::: 191 ::: 0.21948977246609974  :::  8.242932659158814\n",
      "8 ::: INFOSYS TECHNOLOGIES ::: 181 ::: 0.20799816134222018  :::  8.450930820501034\n",
      "9 ::: GENPACT ::: 179 ::: 0.20569983911744427  :::  8.656630659618477\n",
      "10 ::: IBM CORPORATION ::: 173 ::: 0.19880487244311654  :::  8.855435532061593\n",
      "11 ::: INDIAN ARMY ::: 171 ::: 0.19650655021834063  :::  9.051942082279934\n",
      "12 ::: TYPE SLOWLY FOR AUTO FILL ::: 162 ::: 0.18616410020684898  :::  9.238106182486785\n",
      "13 ::: WIPRO TECHNOLOGIES ::: 155 ::: 0.1781199724201333  :::  9.416226154906918\n",
      "14 ::: HDFC BANK LTD ::: 148 ::: 0.1700758446334176  :::  9.586301999540336\n",
      "15 ::: IKYA HUMAN CAPITAL SOLUTIONS LTD ::: 142 ::: 0.16318087795908987  :::  9.749482877499425\n",
      "16 ::: STATE GOVERNMENT ::: 134 ::: 0.15398758905998622  :::  9.903470466559412\n",
      "17 ::: INDIAN RAILWAY ::: 130 ::: 0.1493909446104344  :::  10.052861411169847\n",
      "18 ::: INDIAN NAVY ::: 128 ::: 0.14709262238565848  :::  10.199954033555505\n",
      "19 ::: ARMY ::: 126 ::: 0.14479430016088257  :::  10.344748333716389\n",
      "20 ::: WIPRO BPO ::: 116 ::: 0.13330268903700299  :::  10.478051022753391\n",
      "21 ::: OTHERS ::: 115 ::: 0.13215352792461502  :::  10.610204550678008\n",
      "22 ::: TECH MAHINDRA LTD ::: 113 ::: 0.1298552056998391  :::  10.740059756377846\n",
      "23 ::: CONVERGYS INDIA SERVICES PVT LTD ::: 113 ::: 0.1298552056998391  :::  10.869914962077685\n",
      "24 ::: SERCO BPO PVT LTD ::: 108 ::: 0.12410940013789934  :::  10.994024362215583\n",
      "25 ::: IBM GLOBAL SERVICES INDIA LTD ::: 104 ::: 0.11951275568834752  :::  11.113537117903931\n",
      "26 ::: CONCENTRIX DAKSH SERVICES INDIA PVT LTD ::: 99 ::: 0.11376695012640771  :::  11.227304068030339\n",
      "27 ::: RANDSTAD INDIA LTD ::: 96 ::: 0.11031946678924384  :::  11.337623534819583\n",
      "28 ::: CAPGEMINI INDIA PVT LTD ::: 96 ::: 0.11031946678924384  :::  11.447943001608825\n",
      "29 ::: ADECCO INDIA PVT LTD ::: 95 ::: 0.10917030567685589  :::  11.557113307285682\n",
      "30 ::: WNS GLOBAL SERVICES PVT LTD ::: 90 ::: 0.10342450011491611  :::  11.6605378074006\n",
      "31 ::: CIPLA LTD ::: 90 ::: 0.10342450011491611  :::  11.763962307515516\n"
     ]
    }
   ],
   "source": [
    "suma = 0\n",
    "for _, item in enumerate(data_new.Employer_Name.value_counts()):\n",
    "    suma += item / data_new.shape[0]\n",
    "    print(_, ':::', data_new.Employer_Name.value_counts().index[_], ':::' , item, ':::',100 * (item / data_new.shape[0]) , ' ::: ' ,str(suma*100))\n",
    "    if _ > 30:\n",
    "        break"
   ]
  },
  {
   "cell_type": "markdown",
   "metadata": {},
   "source": [
    "##### Wypełnienie pustych wierszy w kolumnie wartością \"0\""
   ]
  },
  {
   "cell_type": "code",
   "execution_count": 39,
   "metadata": {},
   "outputs": [],
   "source": [
    "data_new['Employer_Name'].fillna('0',inplace=True)"
   ]
  },
  {
   "cell_type": "markdown",
   "metadata": {},
   "source": [
    "##### Zamiana niewypełnionych i prawdopodobnie niewypełnionych wierszy przy wniosku oraz wypełnionych jako \"OTHERS\" na \"OTHERS\""
   ]
  },
  {
   "cell_type": "code",
   "execution_count": 40,
   "metadata": {},
   "outputs": [],
   "source": [
    "others_emp = ['TYPE SLOWLY FOR AUTO FILL', '0', 'OTHERS']"
   ]
  },
  {
   "cell_type": "code",
   "execution_count": 41,
   "metadata": {},
   "outputs": [],
   "source": [
    "data_new.loc[data_new['Employer_Name'].isin(others_emp), 'Employer_Name'] = 'OTHERS'"
   ]
  },
  {
   "cell_type": "markdown",
   "metadata": {},
   "source": [
    "##### Ujednolicenie popularnych nazw pracodawców (IBM, TATA)"
   ]
  },
  {
   "cell_type": "code",
   "execution_count": 42,
   "metadata": {},
   "outputs": [],
   "source": [
    "data_new.loc[data_new['Employer_Name'].str.contains('IBM'), 'Employer_Name'] = 'IBM'"
   ]
  },
  {
   "cell_type": "code",
   "execution_count": 43,
   "metadata": {},
   "outputs": [],
   "source": [
    "data_new.loc[data_new['Employer_Name'].str.contains('TATA'), 'Employer_Name'] = 'TATA CAPITAL GROUP'"
   ]
  },
  {
   "cell_type": "markdown",
   "metadata": {},
   "source": [
    "##### Do dalszej analizy branie tylko 20 pracodawców, których pracownicy najczęściej otrzymują pożyczki\n",
    "Czyli przygotowanie najistotniejszych pracodawców i tych mniej istotnych"
   ]
  },
  {
   "cell_type": "code",
   "execution_count": 44,
   "metadata": {
    "scrolled": true
   },
   "outputs": [],
   "source": [
    "emp_importance = data_new.groupby('Employer_Name')['Disbursed'].sum().sort_values(ascending=False)\n",
    "emp_important = list(emp_importance[:20].index)"
   ]
  },
  {
   "cell_type": "code",
   "execution_count": 45,
   "metadata": {},
   "outputs": [],
   "source": [
    "data_new.loc[ ~data_new['Employer_Name'].isin(emp_important), 'Employer_Name'] = 'Not Important Emp'"
   ]
  },
  {
   "cell_type": "code",
   "execution_count": 46,
   "metadata": {
    "scrolled": true
   },
   "outputs": [
    {
     "data": {
      "text/plain": [
       "Not Important Emp                                78022\n",
       "OTHERS                                            5262\n",
       "TATA CAPITAL GROUP                                1158\n",
       "IBM                                                484\n",
       "COGNIZANT TECHNOLOGY SOLUTIONS INDIA PVT LTD       404\n",
       "ACCENTURE SERVICES PVT LTD                         324\n",
       "HCL TECHNOLOGIES LTD                               250\n",
       "GENPACT                                            179\n",
       "IKYA HUMAN CAPITAL SOLUTIONS LTD                   142\n",
       "INDIAN RAILWAY                                     130\n",
       "CAPGEMINI INDIA PVT LTD                             96\n",
       "CIPLA LTD                                           90\n",
       "HSBC ELECTRONIC DATA PROCESSING INDIA PVT LTD       78\n",
       "KOTAK MAHINDRA BANK LTD                             76\n",
       "TCS AND ASSOCIATES PVT LTD                          69\n",
       "ERICSSON INDIA GLOBAL SERVICES PVT LTD              65\n",
       "DR REDDYS LABORATORIES LTD                          58\n",
       "BSNL                                                56\n",
       "IDEA CELLULAR LTD                                   46\n",
       "HCL - HEWLETT-PACKARD LTD                           21\n",
       "HCL AVITAS PVT LTD                                  10\n",
       "Name: Employer_Name, dtype: int64"
      ]
     },
     "execution_count": 46,
     "metadata": {},
     "output_type": "execute_result"
    }
   ],
   "source": [
    "data_new.Employer_Name.value_counts()"
   ]
  },
  {
   "cell_type": "markdown",
   "metadata": {},
   "source": [
    "#### Kolumna: SOURCE"
   ]
  },
  {
   "cell_type": "code",
   "execution_count": 47,
   "metadata": {
    "scrolled": true
   },
   "outputs": [
    {
     "data": {
      "text/plain": [
       "array(['S122', 'S143', 'S134', 'S133', 'S159', 'S151', 'S137', 'S127',\n",
       "       'S144', 'S123', 'S156', 'S153', 'S124', 'S161', 'S139', 'S154',\n",
       "       'S157', 'S138', 'S162', 'S141', 'S158', 'S125', 'S129', 'S136',\n",
       "       'S130', 'S155', 'S160', 'S150', 'S135', 'S140'], dtype=object)"
      ]
     },
     "execution_count": 47,
     "metadata": {},
     "output_type": "execute_result"
    }
   ],
   "source": [
    "data_new['Source'].unique()"
   ]
  },
  {
   "cell_type": "code",
   "execution_count": 48,
   "metadata": {
    "scrolled": true
   },
   "outputs": [
    {
     "name": "stdout",
     "output_type": "stream",
     "text": [
      "0 ::: S122 ::: 38567 ::: 44.319696621466335  :::  44.319696621466335\n",
      "1 ::: S133 ::: 29885 ::: 34.342679843714095  :::  78.66237646518042\n",
      "2 ::: S159 ::: 5599 ::: 6.43415306826017  :::  85.09652953344059\n",
      "3 ::: S143 ::: 4332 ::: 4.978165938864628  :::  90.07469547230522\n",
      "4 ::: S127 ::: 1931 ::: 2.2190301080211445  :::  92.29372558032637\n",
      "5 ::: S137 ::: 1724 ::: 1.9811537577568377  :::  94.27487933808321\n",
      "6 ::: S134 ::: 1301 ::: 1.4950586072167318  :::  95.76993794529994\n",
      "7 ::: S161 ::: 769 ::: 0.8837048954263387  :::  96.65364284072628\n",
      "8 ::: S151 ::: 720 ::: 0.8273960009193289  :::  97.48103884164561\n",
      "9 ::: S157 ::: 650 ::: 0.7469547230521719  :::  98.2279935646978\n",
      "10 ::: S153 ::: 494 ::: 0.5676855895196506  :::  98.79567915421744\n",
      "11 ::: S156 ::: 308 ::: 0.35394162261549067  :::  99.14962077683293\n",
      "12 ::: S144 ::: 299 ::: 0.3435991726039991  :::  99.49321994943693\n",
      "13 ::: S158 ::: 208 ::: 0.23902551137669503  :::  99.73224546081364\n",
      "14 ::: S123 ::: 73 ::: 0.08388876120432084  :::  99.81613422201796\n",
      "15 ::: S141 ::: 57 ::: 0.06550218340611354  :::  99.88163640542408\n",
      "16 ::: S162 ::: 36 ::: 0.041369800045966444  :::  99.92300620547005\n",
      "17 ::: S124 ::: 24 ::: 0.02757986669731096  :::  99.95058607216735\n",
      "18 ::: S160 ::: 11 ::: 0.012640772236267524  :::  99.96322684440364\n",
      "19 ::: S150 ::: 10 ::: 0.011491611123879567  :::  99.97471845552751\n",
      "20 ::: S155 ::: 4 ::: 0.004596644449551828  :::  99.97931509997706\n",
      "21 ::: S138 ::: 3 ::: 0.00344748333716387  :::  99.98276258331423\n",
      "22 ::: S136 ::: 3 ::: 0.00344748333716387  :::  99.98621006665138\n",
      "23 ::: S139 ::: 3 ::: 0.00344748333716387  :::  99.98965754998854\n",
      "24 ::: S129 ::: 3 ::: 0.00344748333716387  :::  99.9931050333257\n",
      "25 ::: S135 ::: 2 ::: 0.002298322224775914  :::  99.99540335555048\n",
      "26 ::: S130 ::: 1 ::: 0.001149161112387957  :::  99.99655251666287\n",
      "27 ::: S125 ::: 1 ::: 0.001149161112387957  :::  99.99770167777527\n",
      "28 ::: S140 ::: 1 ::: 0.001149161112387957  :::  99.99885083888765\n",
      "29 ::: S154 ::: 1 ::: 0.001149161112387957  :::  100.00000000000004\n"
     ]
    }
   ],
   "source": [
    "suma = 0\n",
    "for _, item in enumerate(data_new.Source.value_counts()):\n",
    "    suma += item / data_new.shape[0]\n",
    "    print(_, ':::', data_new.Source.value_counts().index[_], ':::' , item, ':::',100 * (item / data_new.shape[0]) , ' ::: ' ,str(suma*100))"
   ]
  },
  {
   "cell_type": "code",
   "execution_count": 49,
   "metadata": {},
   "outputs": [],
   "source": [
    "map_var1 = dict()\n",
    "for _, item in enumerate(data_new.Source.value_counts()):\n",
    "    if 100 * (item / data_new.shape[0]) < OTHER_TRESHOLD:\n",
    "        key = data_new.Source.value_counts().index[_]\n",
    "        map_var1[key] = 'OTHER'"
   ]
  },
  {
   "cell_type": "code",
   "execution_count": 50,
   "metadata": {},
   "outputs": [],
   "source": [
    "data_new.Source.replace(to_replace=map_var1, inplace=True)"
   ]
  },
  {
   "cell_type": "code",
   "execution_count": 51,
   "metadata": {
    "scrolled": true
   },
   "outputs": [
    {
     "name": "stdout",
     "output_type": "stream",
     "text": [
      "0 ::: S122 ::: 38567 ::: 44.319696621466335  :::  44.319696621466335\n",
      "1 ::: S133 ::: 29885 ::: 34.342679843714095  :::  78.66237646518042\n",
      "2 ::: S159 ::: 5599 ::: 6.43415306826017  :::  85.09652953344059\n",
      "3 ::: S143 ::: 4332 ::: 4.978165938864628  :::  90.07469547230522\n",
      "4 ::: OTHER ::: 3681 ::: 4.23006205470007  :::  94.3047575270053\n",
      "5 ::: S127 ::: 1931 ::: 2.2190301080211445  :::  96.52378763502644\n",
      "6 ::: S137 ::: 1724 ::: 1.9811537577568377  :::  98.50494139278328\n",
      "7 ::: S134 ::: 1301 ::: 1.4950586072167318  :::  100.0\n"
     ]
    }
   ],
   "source": [
    "suma = 0\n",
    "for _, item in enumerate(data_new.Source.value_counts()):\n",
    "    suma += item / data_new.shape[0]\n",
    "    print(_, ':::', data_new.Source.value_counts().index[_], ':::' , item, ':::',100 * (item / data_new.shape[0]) , ' ::: ' ,str(suma*100))"
   ]
  },
  {
   "cell_type": "markdown",
   "metadata": {},
   "source": [
    "### Zamiana w kolumnach wartości na liczbowe gdzie można zrobić to \"ręcznie\"\n",
    "#### Kolumna: GENDER\n",
    "Zamiana na wartości liczbowe"
   ]
  },
  {
   "cell_type": "code",
   "execution_count": 52,
   "metadata": {},
   "outputs": [],
   "source": [
    "data_new.Gender.replace(to_replace=dict(Female=0, Male=1), inplace=True)"
   ]
  },
  {
   "cell_type": "markdown",
   "metadata": {},
   "source": [
    "#### Kolumna: FILLED_FORM\n",
    "Zamiana na wartości liczbowe"
   ]
  },
  {
   "cell_type": "code",
   "execution_count": 53,
   "metadata": {},
   "outputs": [],
   "source": [
    "data_new.Filled_Form.replace(to_replace=dict(N=0, Y=1), inplace=True)"
   ]
  },
  {
   "cell_type": "markdown",
   "metadata": {},
   "source": [
    "#### Kolumna: DEVICE TYPE\n",
    "Zamiana na wartości liczbowe"
   ]
  },
  {
   "cell_type": "code",
   "execution_count": 54,
   "metadata": {},
   "outputs": [
    {
     "name": "stdout",
     "output_type": "stream",
     "text": [
      "0 ::: Web-browser ::: 64316 ::: 73.90944610434383  :::  73.90944610434383\n",
      "1 ::: Mobile ::: 22704 ::: 26.09055389565617  :::  100.0\n"
     ]
    }
   ],
   "source": [
    "suma = 0\n",
    "for _, item in enumerate(data_new.Device_Type.value_counts()):\n",
    "    suma += item / data_new.shape[0]\n",
    "    print(_, ':::', data_new.Device_Type.value_counts().index[_], ':::' , item, ':::',100 * (item / data_new.shape[0]) , ' ::: ' ,str(suma*100))"
   ]
  },
  {
   "cell_type": "code",
   "execution_count": 55,
   "metadata": {},
   "outputs": [],
   "source": [
    "data_new.Device_Type.replace(to_replace={'Mobile': 0, 'Web-browser': 1}, inplace=True)"
   ]
  },
  {
   "cell_type": "code",
   "execution_count": 56,
   "metadata": {},
   "outputs": [
    {
     "name": "stdout",
     "output_type": "stream",
     "text": [
      "0 ::: 1 ::: 64316 ::: 73.90944610434383  :::  73.90944610434383\n",
      "1 ::: 0 ::: 22704 ::: 26.09055389565617  :::  100.0\n"
     ]
    }
   ],
   "source": [
    "suma = 0\n",
    "for _, item in enumerate(data_new.Device_Type.value_counts()):\n",
    "    suma += item / data_new.shape[0]\n",
    "    print(_, ':::', data_new.Device_Type.value_counts().index[_], ':::' , item, ':::',100 * (item / data_new.shape[0]) , ' ::: ' ,str(suma*100))"
   ]
  },
  {
   "cell_type": "markdown",
   "metadata": {},
   "source": [
    "#### Kolumna: MOBILE VERIFIED\n",
    "Zamiana na wartości liczbowe"
   ]
  },
  {
   "cell_type": "code",
   "execution_count": 57,
   "metadata": {},
   "outputs": [
    {
     "data": {
      "text/plain": [
       "Y    56481\n",
       "N    30539\n",
       "Name: Mobile_Verified, dtype: int64"
      ]
     },
     "execution_count": 57,
     "metadata": {},
     "output_type": "execute_result"
    }
   ],
   "source": [
    "data_new.Mobile_Verified.value_counts()"
   ]
  },
  {
   "cell_type": "code",
   "execution_count": 58,
   "metadata": {},
   "outputs": [],
   "source": [
    "data_new.Mobile_Verified.replace(to_replace=dict(N=0, Y=1), inplace=True)"
   ]
  },
  {
   "cell_type": "markdown",
   "metadata": {},
   "source": [
    "### Analiza pozostałych pustych wartośći w wierszach"
   ]
  },
  {
   "cell_type": "code",
   "execution_count": 59,
   "metadata": {
    "scrolled": true
   },
   "outputs": [
    {
     "data": {
      "text/plain": [
       "Gender                  0\n",
       "City                    0\n",
       "Monthly_Income          0\n",
       "Loan_Amount_Applied    71\n",
       "Loan_Tenure_Applied    71\n",
       "Existing_EMI           71\n",
       "Employer_Name           0\n",
       "Salary_Account          0\n",
       "Mobile_Verified         0\n",
       "Var5                    0\n",
       "Var1                    0\n",
       "Filled_Form             0\n",
       "Device_Type             0\n",
       "Var2                    0\n",
       "Source                  0\n",
       "Var4                    0\n",
       "Disbursed               0\n",
       "Age_In_Days             0\n",
       "dtype: int64"
      ]
     },
     "execution_count": 59,
     "metadata": {},
     "output_type": "execute_result"
    }
   ],
   "source": [
    "null_search = data_new.isnull().sum()\n",
    "null_search"
   ]
  },
  {
   "cell_type": "markdown",
   "metadata": {},
   "source": [
    "#### Wypełnienie pustych wartości średnimi z danej kolumny"
   ]
  },
  {
   "cell_type": "code",
   "execution_count": 60,
   "metadata": {},
   "outputs": [],
   "source": [
    "list_average = ['Loan_Amount_Applied','Loan_Tenure_Applied','Existing_EMI']\n",
    "\n",
    "for column in list_average:\n",
    "    data_new[column] = data_new[column].fillna(data_new[column].mean())"
   ]
  },
  {
   "cell_type": "markdown",
   "metadata": {},
   "source": [
    "##### weryfikacja"
   ]
  },
  {
   "cell_type": "code",
   "execution_count": 61,
   "metadata": {
    "scrolled": false
   },
   "outputs": [
    {
     "data": {
      "text/plain": [
       "Gender                 0\n",
       "City                   0\n",
       "Monthly_Income         0\n",
       "Loan_Amount_Applied    0\n",
       "Loan_Tenure_Applied    0\n",
       "Existing_EMI           0\n",
       "Employer_Name          0\n",
       "Salary_Account         0\n",
       "Mobile_Verified        0\n",
       "Var5                   0\n",
       "Var1                   0\n",
       "Filled_Form            0\n",
       "Device_Type            0\n",
       "Var2                   0\n",
       "Source                 0\n",
       "Var4                   0\n",
       "Disbursed              0\n",
       "Age_In_Days            0\n",
       "dtype: int64"
      ]
     },
     "execution_count": 61,
     "metadata": {},
     "output_type": "execute_result"
    }
   ],
   "source": [
    "null_search = data_new.isnull().sum()\n",
    "null_search"
   ]
  },
  {
   "cell_type": "markdown",
   "metadata": {},
   "source": [
    "###  Przygotowanie nowego DataFrame do ostatecznego modelowania\n",
    "Zamiana w automatyczny sposób kolumn z kategoriami na wartośći liczbowe"
   ]
  },
  {
   "cell_type": "code",
   "execution_count": 62,
   "metadata": {},
   "outputs": [],
   "source": [
    "#data_for_ml = pd.get_dummies(data_new, drop_first=True)\n",
    "data_s = pd.get_dummies(data_new, drop_first=True)"
   ]
  },
  {
   "cell_type": "markdown",
   "metadata": {},
   "source": [
    "##### weryfikacja"
   ]
  },
  {
   "cell_type": "code",
   "execution_count": 63,
   "metadata": {
    "scrolled": true
   },
   "outputs": [
    {
     "data": {
      "text/plain": [
       "78"
      ]
     },
     "execution_count": 63,
     "metadata": {},
     "output_type": "execute_result"
    }
   ],
   "source": [
    "len(data_for_ml.columns)"
   ]
  },
  {
   "cell_type": "code",
   "execution_count": 64,
   "metadata": {
    "scrolled": false
   },
   "outputs": [
    {
     "data": {
      "text/plain": [
       "Index(['Gender', 'Monthly_Income', 'Loan_Amount_Applied',\n",
       "       'Loan_Tenure_Applied', 'Existing_EMI', 'Mobile_Verified', 'Var5',\n",
       "       'Filled_Form', 'Device_Type', 'Var4', 'Disbursed', 'Age_In_Days',\n",
       "       'City_Bengaluru', 'City_Chennai', 'City_Coimbatore', 'City_Delhi',\n",
       "       'City_Gurgaon', 'City_Hyderabad', 'City_Jaipur', 'City_Kolkata',\n",
       "       'City_Mumbai', 'City_OTHER', 'City_Pune', 'City_Thane',\n",
       "       'Employer_Name_BSNL', 'Employer_Name_CAPGEMINI INDIA PVT LTD',\n",
       "       'Employer_Name_CIPLA LTD',\n",
       "       'Employer_Name_COGNIZANT TECHNOLOGY SOLUTIONS INDIA PVT LTD',\n",
       "       'Employer_Name_DR REDDYS LABORATORIES LTD',\n",
       "       'Employer_Name_ERICSSON INDIA GLOBAL SERVICES PVT LTD',\n",
       "       'Employer_Name_GENPACT', 'Employer_Name_HCL - HEWLETT-PACKARD LTD',\n",
       "       'Employer_Name_HCL AVITAS PVT LTD',\n",
       "       'Employer_Name_HCL TECHNOLOGIES LTD',\n",
       "       'Employer_Name_HSBC ELECTRONIC DATA PROCESSING INDIA PVT LTD',\n",
       "       'Employer_Name_IBM', 'Employer_Name_IDEA CELLULAR LTD',\n",
       "       'Employer_Name_IKYA HUMAN CAPITAL SOLUTIONS LTD',\n",
       "       'Employer_Name_INDIAN RAILWAY', 'Employer_Name_KOTAK MAHINDRA BANK LTD',\n",
       "       'Employer_Name_Not Important Emp', 'Employer_Name_OTHERS',\n",
       "       'Employer_Name_TATA CAPITAL GROUP',\n",
       "       'Employer_Name_TCS AND ASSOCIATES PVT LTD',\n",
       "       'Salary_Account_Bank of Baroda', 'Salary_Account_Bank of India',\n",
       "       'Salary_Account_Canara Bank', 'Salary_Account_Citibank',\n",
       "       'Salary_Account_HDFC Bank', 'Salary_Account_ICICI Bank',\n",
       "       'Salary_Account_IDBI Bank', 'Salary_Account_Kotak Bank',\n",
       "       'Salary_Account_None', 'Salary_Account_OTHER',\n",
       "       'Salary_Account_Punjab National Bank',\n",
       "       'Salary_Account_Standard Chartered Bank',\n",
       "       'Salary_Account_State Bank of India',\n",
       "       'Salary_Account_Union Bank of India', 'Var1_HAXB', 'Var1_HAXC',\n",
       "       'Var1_HBXA', 'Var1_HBXB', 'Var1_HBXC', 'Var1_HBXD', 'Var1_HBXH',\n",
       "       'Var1_HBXX', 'Var1_OTHER', 'Var2_C', 'Var2_E', 'Var2_G', 'Var2_OTHER',\n",
       "       'Source_S122', 'Source_S127', 'Source_S133', 'Source_S134',\n",
       "       'Source_S137', 'Source_S143', 'Source_S159'],\n",
       "      dtype='object')"
      ]
     },
     "execution_count": 64,
     "metadata": {},
     "output_type": "execute_result"
    }
   ],
   "source": [
    "data_for_ml.columns"
   ]
  },
  {
   "cell_type": "markdown",
   "metadata": {},
   "source": [
    "### Modelowanie"
   ]
  },
  {
   "cell_type": "markdown",
   "metadata": {},
   "source": [
    "Do oceny modelu użyjemy roc_auc_score. \n",
    "\n",
    "AUC - jest to prawdopodobieństwo tego, że klasyfikator przydzieli wyższą rangę dla losowo wybranego przypadku pozytywnego niż negatywnego (zakładając, że wynik pozytywny ma wyższą rangę niż negatywny)."
   ]
  },
  {
   "cell_type": "markdown",
   "metadata": {},
   "source": [
    "#### Podział na X, y oraz zbiór treningowy i testowy"
   ]
  },
  {
   "cell_type": "code",
   "execution_count": 65,
   "metadata": {},
   "outputs": [],
   "source": [
    "y = data_for_ml['Disbursed']\n",
    "X = data_for_ml.drop([\n",
    "        'Disbursed'\n",
    "], axis=1)\n",
    "\n",
    "X_train, X_test, y_train, y_test = train_test_split(X, y, test_size=0.3, random_state=42)"
   ]
  },
  {
   "cell_type": "markdown",
   "metadata": {},
   "source": [
    "#### Jeden model nauczymy i sprawdzimy na teście"
   ]
  },
  {
   "cell_type": "code",
   "execution_count": 66,
   "metadata": {
    "scrolled": true
   },
   "outputs": [
    {
     "name": "stderr",
     "output_type": "stream",
     "text": [
      "C:\\Anaconda\\lib\\site-packages\\sklearn\\linear_model\\logistic.py:433: FutureWarning: Default solver will be changed to 'lbfgs' in 0.22. Specify a solver to silence this warning.\n",
      "  FutureWarning)\n"
     ]
    },
    {
     "data": {
      "text/plain": [
       "Pipeline(memory=None,\n",
       "     steps=[('model', LogisticRegression(C=1.0, class_weight=None, dual=False, fit_intercept=True,\n",
       "          intercept_scaling=1, max_iter=100, multi_class='warn',\n",
       "          n_jobs=None, penalty='l2', random_state=None, solver='warn',\n",
       "          tol=0.0001, verbose=0, warm_start=False))])"
      ]
     },
     "execution_count": 66,
     "metadata": {},
     "output_type": "execute_result"
    }
   ],
   "source": [
    "pipe = Pipeline([(\"model\",LogisticRegression())])\n",
    "pipe.fit(X_train, y_train)"
   ]
  },
  {
   "cell_type": "code",
   "execution_count": 67,
   "metadata": {
    "scrolled": false
   },
   "outputs": [
    {
     "name": "stdout",
     "output_type": "stream",
     "text": [
      "Accuracy Train: 0.9855534031585514\n",
      "Accuracy Test: 0.984869378686892\n",
      "AUC Train:  0.4999916715249438\n",
      "AUC Test: 0.49998055382700685\n",
      "F1 Train:  0.0\n",
      "F1 Test: 0.0\n",
      "Suma predykcji: 1\n"
     ]
    }
   ],
   "source": [
    "print('Accuracy Train:', accuracy_score(y_train, pipe.predict(X_train)))\n",
    "print('Accuracy Test:', accuracy_score(y_test, pipe.predict(X_test)))\n",
    "print('AUC Train: ', roc_auc_score(y_train, pipe.predict(X_train)))\n",
    "print('AUC Test:', roc_auc_score(y_test, pipe.predict(X_test)))\n",
    "print('F1 Train: ', f1_score(y_train, pipe.predict(X_train)))\n",
    "print('F1 Test:', f1_score(y_test, pipe.predict(X_test)))\n",
    "\n",
    "print('Suma predykcji:', pipe.predict(X_test).sum())"
   ]
  },
  {
   "cell_type": "markdown",
   "metadata": {},
   "source": [
    "Model zazwyczaj przewiduje wartość '0' (tylko w jednym przypadku dał '1'). auc_score potwierdza, że model nie jest dobry."
   ]
  },
  {
   "cell_type": "markdown",
   "metadata": {},
   "source": [
    "##### Zbadanie liczebności 0 i 1 - wniosków gdzie nieudzielono i udzielono pożyczki"
   ]
  },
  {
   "cell_type": "code",
   "execution_count": 68,
   "metadata": {
    "scrolled": true
   },
   "outputs": [
    {
     "name": "stdout",
     "output_type": "stream",
     "text": [
      "count_class_0:  85747 , count_class_1:  1273\n"
     ]
    },
    {
     "data": {
      "text/plain": [
       "<matplotlib.axes._subplots.AxesSubplot at 0x2e580f1b710>"
      ]
     },
     "execution_count": 68,
     "metadata": {},
     "output_type": "execute_result"
    },
    {
     "data": {
      "image/png": "[encoded data removed]",
      "text/plain": [
       "<Figure size 432x288 with 1 Axes>"
      ]
     },
     "metadata": {
      "needs_background": "light"
     },
     "output_type": "display_data"
    }
   ],
   "source": [
    "#data_s = data_for_ml.copy()\n",
    "count_class_0, count_class_1 = data_s['Disbursed'].value_counts()\n",
    "print('count_class_0: ', count_class_0, ', count_class_1: ', count_class_1)\n",
    "data_s_class_0=data_s[data_s['Disbursed']==0]\n",
    "data_s_class_1=data_s[data_s['Disbursed']==1]\n",
    "data_s['Disbursed'].value_counts().plot(kind='bar', title='Count (Disbursed)')"
   ]
  },
  {
   "cell_type": "code",
   "execution_count": 69,
   "metadata": {},
   "outputs": [
    {
     "data": {
      "text/plain": [
       "1.462882096069869"
      ]
     },
     "execution_count": 69,
     "metadata": {},
     "output_type": "execute_result"
    }
   ],
   "source": [
    "count_class_1 / len(data_s) * 100"
   ]
  },
  {
   "cell_type": "markdown",
   "metadata": {},
   "source": [
    "Wniosków zakończonych sukcesem jest znacznie mniej - poniżej 1,5 % - niezbalansowane dane"
   ]
  },
  {
   "cell_type": "markdown",
   "metadata": {},
   "source": [
    "#### Under & Over Sampling\n",
    "\n",
    "##### Przygotowanie do Under i Over Sampling"
   ]
  },
  {
   "cell_type": "code",
   "execution_count": 70,
   "metadata": {},
   "outputs": [
    {
     "name": "stdout",
     "output_type": "stream",
     "text": [
      "count_class_0:  60035 , count_class_1:  879\n"
     ]
    },
    {
     "data": {
      "text/plain": [
       "<matplotlib.axes._subplots.AxesSubplot at 0x2e5849aaf98>"
      ]
     },
     "execution_count": 70,
     "metadata": {},
     "output_type": "execute_result"
    },
    {
     "data": {
      "image/png": "[encoded data removed]",
      "text/plain": [
       "<Figure size 432x288 with 1 Axes>"
      ]
     },
     "metadata": {
      "needs_background": "light"
     },
     "output_type": "display_data"
    }
   ],
   "source": [
    "X_concat = pd.concat([X_train, y_train], axis=1)\n",
    "\n",
    "count_class_0, count_class_1 = X_concat['Disbursed'].value_counts()\n",
    "print('count_class_0: ', count_class_0, ', count_class_1: ', count_class_1)\n",
    "data_s_class_0 = X_concat[X_concat['Disbursed']==0]\n",
    "data_s_class_1 = X_concat[X_concat['Disbursed']==1]\n",
    "X_concat['Disbursed'].value_counts().plot(kind='bar', title='Count (Disbursed)')"
   ]
  },
  {
   "cell_type": "markdown",
   "metadata": {},
   "source": [
    "##### Under Sampling"
   ]
  },
  {
   "cell_type": "code",
   "execution_count": 71,
   "metadata": {
    "scrolled": true
   },
   "outputs": [
    {
     "name": "stdout",
     "output_type": "stream",
     "text": [
      "1    879\n",
      "0    879\n",
      "Name: Disbursed, dtype: int64\n"
     ]
    },
    {
     "data": {
      "text/plain": [
       "<matplotlib.axes._subplots.AxesSubplot at 0x2e585548630>"
      ]
     },
     "execution_count": 71,
     "metadata": {},
     "output_type": "execute_result"
    },
    {
     "data": {
      "image/png": "[encoded data removed]",
      "text/plain": [
       "<Figure size 432x288 with 1 Axes>"
      ]
     },
     "metadata": {
      "needs_background": "light"
     },
     "output_type": "display_data"
    }
   ],
   "source": [
    "data_s_class_0_under = data_s_class_0.sample(count_class_1)\n",
    "data_s_under = pd.concat([data_s_class_0_under,data_s_class_1],axis=0)\n",
    "print(data_s_under['Disbursed'].value_counts())\n",
    "data_s_under['Disbursed'].value_counts().plot(kind='bar', title='Count (Disbursed)')"
   ]
  },
  {
   "cell_type": "code",
   "execution_count": 72,
   "metadata": {},
   "outputs": [],
   "source": [
    "X_train_under = data_s_under.drop([\"Disbursed\"], axis = 1)\n",
    "y_train_under = data_s_under.Disbursed"
   ]
  },
  {
   "cell_type": "code",
   "execution_count": 73,
   "metadata": {
    "scrolled": true
   },
   "outputs": [
    {
     "name": "stderr",
     "output_type": "stream",
     "text": [
      "C:\\Anaconda\\lib\\site-packages\\sklearn\\linear_model\\logistic.py:433: FutureWarning: Default solver will be changed to 'lbfgs' in 0.22. Specify a solver to silence this warning.\n",
      "  FutureWarning)\n"
     ]
    },
    {
     "data": {
      "text/plain": [
       "Pipeline(memory=None,\n",
       "     steps=[('model', LogisticRegression(C=1.0, class_weight=None, dual=False, fit_intercept=True,\n",
       "          intercept_scaling=1, max_iter=100, multi_class='warn',\n",
       "          n_jobs=None, penalty='l2', random_state=None, solver='warn',\n",
       "          tol=0.0001, verbose=0, warm_start=False))])"
      ]
     },
     "execution_count": 73,
     "metadata": {},
     "output_type": "execute_result"
    }
   ],
   "source": [
    "pipe = Pipeline([(\"model\",LogisticRegression())])\n",
    "pipe.fit(X_train_under, y_train_under)"
   ]
  },
  {
   "cell_type": "code",
   "execution_count": 74,
   "metadata": {
    "scrolled": true
   },
   "outputs": [
    {
     "name": "stdout",
     "output_type": "stream",
     "text": [
      "Accuracy Train: 0.7389078498293515\n",
      "Accuracy Test: 0.6995709798513752\n",
      "AUC Train:  0.7389078498293515\n",
      "AUC Test: 0.6862866377744575\n",
      "F1 Train:  0.7440044617958729\n",
      "F1 Test: 0.06329869819658425\n",
      "Suma predykcji: 7979\n"
     ]
    }
   ],
   "source": [
    "print('Accuracy Train:', accuracy_score(y_train_under, pipe.predict(X_train_under)))\n",
    "print('Accuracy Test:', accuracy_score(y_test, pipe.predict(X_test)))\n",
    "print('AUC Train: ', roc_auc_score(y_train_under, pipe.predict(X_train_under)))\n",
    "print('AUC Test:', roc_auc_score(y_test, pipe.predict(X_test)))\n",
    "print('F1 Train: ', f1_score(y_train_under, pipe.predict(X_train_under)))\n",
    "print('F1 Test:', f1_score(y_test, pipe.predict(X_test)))\n",
    "print('Suma predykcji:', pipe.predict(X_test).sum())"
   ]
  },
  {
   "cell_type": "markdown",
   "metadata": {},
   "source": [
    "##### Over Sampling"
   ]
  },
  {
   "cell_type": "code",
   "execution_count": 75,
   "metadata": {
    "scrolled": true
   },
   "outputs": [
    {
     "name": "stdout",
     "output_type": "stream",
     "text": [
      "1    60035\n",
      "0    60035\n",
      "Name: Disbursed, dtype: int64\n"
     ]
    },
    {
     "data": {
      "text/plain": [
       "<matplotlib.axes._subplots.AxesSubplot at 0x2e5855ae1d0>"
      ]
     },
     "execution_count": 75,
     "metadata": {},
     "output_type": "execute_result"
    },
    {
     "data": {
      "image/png": "[encoded data removed]",
      "text/plain": [
       "<Figure size 432x288 with 1 Axes>"
      ]
     },
     "metadata": {
      "needs_background": "light"
     },
     "output_type": "display_data"
    }
   ],
   "source": [
    "data_s_class_1_over = data_s_class_1.sample(count_class_0, replace=True) # z powtórzeniami, aby zwielokrotnić dane\n",
    "data_s_over = pd.concat([data_s_class_0, data_s_class_1_over], axis=0)\n",
    "print(data_s_over['Disbursed'].value_counts())\n",
    "data_s_over['Disbursed'].value_counts().plot(kind='bar', title='Count (Disbursed)')"
   ]
  },
  {
   "cell_type": "code",
   "execution_count": 76,
   "metadata": {},
   "outputs": [],
   "source": [
    "X_train_over = data_s_over.drop([\"Disbursed\"], axis = 1)\n",
    "y_train_over = data_s_over.Disbursed"
   ]
  },
  {
   "cell_type": "code",
   "execution_count": 77,
   "metadata": {
    "scrolled": false
   },
   "outputs": [
    {
     "name": "stderr",
     "output_type": "stream",
     "text": [
      "C:\\Anaconda\\lib\\site-packages\\sklearn\\linear_model\\logistic.py:433: FutureWarning: Default solver will be changed to 'lbfgs' in 0.22. Specify a solver to silence this warning.\n",
      "  FutureWarning)\n"
     ]
    },
    {
     "data": {
      "text/plain": [
       "Pipeline(memory=None,\n",
       "     steps=[('model', LogisticRegression(C=1.0, class_weight=None, dual=False, fit_intercept=True,\n",
       "          intercept_scaling=1, max_iter=100, multi_class='warn',\n",
       "          n_jobs=None, penalty='l2', random_state=None, solver='warn',\n",
       "          tol=0.0001, verbose=0, warm_start=False))])"
      ]
     },
     "execution_count": 77,
     "metadata": {},
     "output_type": "execute_result"
    }
   ],
   "source": [
    "pipe = Pipeline([(\"model\",LogisticRegression())])\n",
    "pipe.fit(X_train_over, y_train_over)"
   ]
  },
  {
   "cell_type": "code",
   "execution_count": 78,
   "metadata": {
    "scrolled": true
   },
   "outputs": [
    {
     "name": "stdout",
     "output_type": "stream",
     "text": [
      "Accuracy Train: 0.656400433080703\n",
      "Accuracy Test: 0.7307898567379146\n",
      "AUC Train:  0.6564004330807028\n",
      "AUC Test: 0.614664013563755\n",
      "F1 Train:  0.6259112835950817\n",
      "F1 Test: 0.052574818010245356\n",
      "Suma predykcji: 7024\n"
     ]
    }
   ],
   "source": [
    "print('Accuracy Train:', accuracy_score(y_train_over, pipe.predict(X_train_over)))\n",
    "print('Accuracy Test:', accuracy_score(y_test, pipe.predict(X_test)))\n",
    "print('AUC Train: ', roc_auc_score(y_train_over, pipe.predict(X_train_over)))\n",
    "print('AUC Test:', roc_auc_score(y_test, pipe.predict(X_test)))\n",
    "print('F1 Train: ', f1_score(y_train_over, pipe.predict(X_train_over)))\n",
    "print('F1 Test:', f1_score(y_test, pipe.predict(X_test)))\n",
    "print('Suma predykcji:', pipe.predict(X_test).sum())"
   ]
  },
  {
   "cell_type": "markdown",
   "metadata": {},
   "source": [
    "### Zdefiniowanie automatycznego doboru parametrów do modeli"
   ]
  },
  {
   "cell_type": "markdown",
   "metadata": {},
   "source": [
    "#### Zdefiniowanie funkcji do modelowania z określonymi parametrami"
   ]
  },
  {
   "cell_type": "code",
   "execution_count": 79,
   "metadata": {},
   "outputs": [],
   "source": [
    "def modelowanie(X_train, y_train, X_test, y_test, names, models, parameters, scoring_p, models_run):\n",
    "    best_names = []\n",
    "    best_models = []\n",
    "    best_params = []\n",
    "    acc_test_tbl = []\n",
    "    auc_test_tbl = []\n",
    "    f1_test_tbl = []\n",
    "    \n",
    "    if len(names) != len(models) or len(models) != len(parameters) or len(models) != len(models_run):\n",
    "        raise ValueError(\"Listy wejściowe nie są równej długości!\", len(names), len(models), len(parameters) , len(models_run))\n",
    "    \n",
    "    for name, model, parameter, model_run in zip(names, models, parameters, models_run):\n",
    "        if not model_run:\n",
    "            continue\n",
    "        print(\"Tunuję: \", name)\n",
    "        pipe = Pipeline(model)\n",
    "        gs = GridSearchCV(pipe, parameter, cv=10, scoring=scoring_p, n_jobs=-1)\n",
    "        gs.fit(X_train, y_train)\n",
    "    \n",
    "        for mean, std, params in zip(gs.cv_results_[\"mean_test_score\"], gs.cv_results_[\"std_test_score\"], gs.cv_results_[\"params\"]):\n",
    "            print(\"mean: \", mean, \", std: \", std, params)\n",
    "    \n",
    "        best_names.append(name)\n",
    "        best_models.append(gs.best_estimator_)\n",
    "        best_params.append(gs.best_params_)        \n",
    "    \n",
    "    print()\n",
    "    print(\"Wyniki na testowym:\")\n",
    "\n",
    "    for name, best_model, best_param in zip(best_names, best_models, best_params):\n",
    "        acc_test_score = accuracy_score(y_test, best_model.predict(X_test))\n",
    "        auc_test_score = roc_auc_score(y_test, best_model.predict(X_test))\n",
    "        f1_test_score = f1_score(y_test, best_model.predict(X_test))\n",
    "        print(name, \" (\", best_param, \"):\", acc_test_score, \" :\", auc_test_score, \" :\", f1_test_score)\n",
    "        acc_test_tbl.append(acc_test_score)\n",
    "        auc_test_tbl.append(auc_test_score)\n",
    "        f1_test_tbl.append(f1_test_score)\n",
    "    \n",
    "    compare_dict = {'Method': best_names,\n",
    "                    #'Best estimator': best_models,\n",
    "                    #'Best params': best_params,\n",
    "                    'Accuracy Score Test': acc_test_tbl,\n",
    "                    'AUC Score test': auc_test_tbl,\n",
    "                    'F1 Score test': f1_test_tbl           \n",
    "                    }\n",
    "    compare_df = pd.DataFrame(compare_dict)\n",
    "    display(compare_df)"
   ]
  },
  {
   "cell_type": "markdown",
   "metadata": {},
   "source": [
    "#### Przygotowanie parametrów"
   ]
  },
  {
   "cell_type": "code",
   "execution_count": 80,
   "metadata": {},
   "outputs": [],
   "source": [
    "names = [\"Regresja logistyczna\", \n",
    "         \"Regresja logistyczna - StandardScaler\", \n",
    "         \"Regresja logistyczna - MaxAbsScaler\", \n",
    "         \"Drzewo decyzyjne\", \n",
    "         \"Naiwny Bayes\", \n",
    "         \"BaggingClassifier\",\n",
    "         \"RandomForest\"\n",
    "        ]\n",
    "\n",
    "models = [\n",
    "    [(\"model\", LogisticRegression())],\n",
    "    [(\"scaler\", StandardScaler()), (\"model\", LogisticRegression())],\n",
    "    [(\"scaler\", MaxAbsScaler()), (\"model\", LogisticRegression())],\n",
    "    [(\"model\", DecisionTreeClassifier())],\n",
    "    [(\"model\", MultinomialNB())],\n",
    "    [(\"model\", BaggingClassifier())],\n",
    "    [(\"model\", RandomForestClassifier())]\n",
    "]\n",
    "\n",
    "models_run = [\n",
    "    True, #LR\n",
    "    True, #LR with StandardScaler\n",
    "    True, #LR with MaxAbsScaler\n",
    "    True, #DTC\n",
    "    True, #MNB\n",
    "    True, #BC\n",
    "    True  #RF\n",
    "]\n",
    "\n",
    "LR_params = [\n",
    "    {\"model__C\": [0.01, 1, 10, 100, 1000], \"model__penalty\": [\"l1\",\"l2\"]}\n",
    "]\n",
    "\n",
    "parameters = [\n",
    "    LR_params, \n",
    "    LR_params,\n",
    "    LR_params,\n",
    "    {\"model__criterion\":[\"gini\",\"entropy\"]},\n",
    "    {},\n",
    "    {\"model__n_estimators\": [10, 100, 1000], \"model__max_samples\": [0.5, 0.8 ,1], \"model__max_features\": [0.5,0.8, 1], \"model__bootstrap\": [False], \"model__bootstrap_features\": [False]},\n",
    "    {\"model__n_estimators\": [10, 100, 1000], \"model__max_depth\": [10, 100, 1000], \"model__min_samples_split\": [2,4,8]}\n",
    "]\n",
    "\n",
    "#if len(names) != len(models) or len(models) != len(parameters) or len(models) != len(models_run):\n",
    "#    raise ValueError(\"Listy wejściowe nie są równej długości!\", len(names), len(models), len(parameters) , len(models_run))"
   ]
  },
  {
   "cell_type": "markdown",
   "metadata": {},
   "source": [
    "#### Modelowanie dla under i over sampling"
   ]
  },
  {
   "cell_type": "code",
   "execution_count": 81,
   "metadata": {
    "scrolled": true
   },
   "outputs": [
    {
     "name": "stdout",
     "output_type": "stream",
     "text": [
      "Tunuję:  Regresja logistyczna\n"
     ]
    },
    {
     "name": "stderr",
     "output_type": "stream",
     "text": [
      "C:\\Anaconda\\lib\\site-packages\\sklearn\\linear_model\\logistic.py:433: FutureWarning: Default solver will be changed to 'lbfgs' in 0.22. Specify a solver to silence this warning.\n",
      "  FutureWarning)\n"
     ]
    },
    {
     "name": "stdout",
     "output_type": "stream",
     "text": [
      "mean:  0.7914691816362994 , std:  0.02778593200163873 {'model__C': 0.01, 'model__penalty': 'l1'}\n",
      "mean:  0.7699324657662896 , std:  0.041381047344006744 {'model__C': 0.01, 'model__penalty': 'l2'}\n",
      "mean:  0.8289720198335003 , std:  0.021847690940839454 {'model__C': 1, 'model__penalty': 'l1'}\n",
      "mean:  0.7702427357011329 , std:  0.04666631076018627 {'model__C': 1, 'model__penalty': 'l2'}\n",
      "mean:  0.8248616861803869 , std:  0.024798532098065113 {'model__C': 10, 'model__penalty': 'l1'}\n",
      "mean:  0.7702818166364124 , std:  0.04541680366694524 {'model__C': 10, 'model__penalty': 'l2'}\n",
      "mean:  0.8242029569556932 , std:  0.025860506679075777 {'model__C': 100, 'model__penalty': 'l1'}\n",
      "mean:  0.7621818098604023 , std:  0.040640524154908084 {'model__C': 100, 'model__penalty': 'l2'}\n",
      "mean:  0.8244488845142017 , std:  0.02568389331966374 {'model__C': 1000, 'model__penalty': 'l1'}\n",
      "mean:  0.7729119784404002 , std:  0.04068556066034783 {'model__C': 1000, 'model__penalty': 'l2'}\n",
      "Tunuję:  Regresja logistyczna - StandardScaler\n"
     ]
    },
    {
     "name": "stderr",
     "output_type": "stream",
     "text": [
      "C:\\Anaconda\\lib\\site-packages\\sklearn\\preprocessing\\data.py:625: DataConversionWarning: Data with input dtype uint8, int64, float64 were all converted to float64 by StandardScaler.\n",
      "  return self.partial_fit(X, y)\n",
      "C:\\Anaconda\\lib\\site-packages\\sklearn\\base.py:465: DataConversionWarning: Data with input dtype uint8, int64, float64 were all converted to float64 by StandardScaler.\n",
      "  return self.fit(X, y, **fit_params).transform(X)\n",
      "C:\\Anaconda\\lib\\site-packages\\sklearn\\linear_model\\logistic.py:433: FutureWarning: Default solver will be changed to 'lbfgs' in 0.22. Specify a solver to silence this warning.\n",
      "  FutureWarning)\n"
     ]
    },
    {
     "name": "stdout",
     "output_type": "stream",
     "text": [
      "mean:  0.7993480022063639 , std:  0.02726839041312405 {'model__C': 0.01, 'model__penalty': 'l1'}\n",
      "mean:  0.8218002967179147 , std:  0.024279440588467417 {'model__C': 0.01, 'model__penalty': 'l2'}\n",
      "mean:  0.824474443148681 , std:  0.02575119435621261 {'model__C': 1, 'model__penalty': 'l1'}\n",
      "mean:  0.8243065288640198 , std:  0.025584760796788883 {'model__C': 1, 'model__penalty': 'l2'}\n",
      "mean:  0.8242675965254523 , std:  0.02577839930826248 {'model__C': 10, 'model__penalty': 'l1'}\n",
      "mean:  0.8243842449444426 , std:  0.02584025247530768 {'model__C': 10, 'model__penalty': 'l2'}\n",
      "mean:  0.8243063802673077 , std:  0.025887139406800236 {'model__C': 100, 'model__penalty': 'l1'}\n",
      "mean:  0.8242933037566438 , std:  0.025834168847154167 {'model__C': 100, 'model__penalty': 'l2'}\n",
      "mean:  0.8242545200147883 , std:  0.02582887148065779 {'model__C': 1000, 'model__penalty': 'l1'}\n",
      "mean:  0.824280375842692 , std:  0.025827497708612646 {'model__C': 1000, 'model__penalty': 'l2'}\n",
      "Tunuję:  Regresja logistyczna - MaxAbsScaler\n"
     ]
    },
    {
     "name": "stderr",
     "output_type": "stream",
     "text": [
      "C:\\Anaconda\\lib\\site-packages\\sklearn\\linear_model\\logistic.py:433: FutureWarning: Default solver will be changed to 'lbfgs' in 0.22. Specify a solver to silence this warning.\n",
      "  FutureWarning)\n"
     ]
    },
    {
     "name": "stdout",
     "output_type": "stream",
     "text": [
      "mean:  0.7593483677542757 , std:  0.03221296485029188 {'model__C': 0.01, 'model__penalty': 'l1'}\n",
      "mean:  0.7825441659147672 , std:  0.019747377545833958 {'model__C': 0.01, 'model__penalty': 'l2'}\n",
      "mean:  0.8272380448001255 , std:  0.022157297050763736 {'model__C': 1, 'model__penalty': 'l1'}\n",
      "mean:  0.8213662457219006 , std:  0.022094410905350702 {'model__C': 1, 'model__penalty': 'l2'}\n",
      "mean:  0.8249382134871132 , std:  0.02420300448503634 {'model__C': 10, 'model__penalty': 'l1'}\n",
      "mean:  0.8252587365950906 , std:  0.023503846174444922 {'model__C': 10, 'model__penalty': 'l2'}\n",
      "mean:  0.8244356594068258 , std:  0.025721760955202577 {'model__C': 100, 'model__penalty': 'l1'}\n",
      "mean:  0.824603425094775 , std:  0.025135543269976975 {'model__C': 100, 'model__penalty': 'l2'}\n",
      "mean:  0.8243451640091631 , std:  0.02583942354310752 {'model__C': 1000, 'model__penalty': 'l1'}\n",
      "mean:  0.8244098035789221 , std:  0.025770110773252555 {'model__C': 1000, 'model__penalty': 'l2'}\n",
      "Tunuję:  Drzewo decyzyjne\n",
      "mean:  0.6877133105802048 , std:  0.03227028566717123 {'model__criterion': 'gini'}\n",
      "mean:  0.6865756541524459 , std:  0.0382106129423204 {'model__criterion': 'entropy'}\n",
      "Tunuję:  Naiwny Bayes\n",
      "mean:  0.5901805955280711 , std:  0.04133251654414687 {}\n",
      "Tunuję:  BaggingClassifier\n",
      "mean:  0.7956001702323935 , std:  0.02577412499923238 {'model__bootstrap': False, 'model__bootstrap_features': False, 'model__max_features': 0.5, 'model__max_samples': 0.5, 'model__n_estimators': 10}\n",
      "mean:  0.8354606438636097 , std:  0.020422365230024008 {'model__bootstrap': False, 'model__bootstrap_features': False, 'model__max_features': 0.5, 'model__max_samples': 0.5, 'model__n_estimators': 100}\n",
      "mean:  0.8419980076152843 , std:  0.016938224696551676 {'model__bootstrap': False, 'model__bootstrap_features': False, 'model__max_features': 0.5, 'model__max_samples': 0.5, 'model__n_estimators': 1000}\n",
      "mean:  0.7999458810774569 , std:  0.021976750407722942 {'model__bootstrap': False, 'model__bootstrap_features': False, 'model__max_features': 0.5, 'model__max_samples': 0.8, 'model__n_estimators': 10}\n",
      "mean:  0.8337752599550882 , std:  0.021372026898204142 {'model__bootstrap': False, 'model__bootstrap_features': False, 'model__max_features': 0.5, 'model__max_samples': 0.8, 'model__n_estimators': 100}\n",
      "mean:  0.8363242879542749 , std:  0.02193008306777101 {'model__bootstrap': False, 'model__bootstrap_features': False, 'model__max_features': 0.5, 'model__max_samples': 0.8, 'model__n_estimators': 1000}\n",
      "mean:  0.5 , std:  0.0 {'model__bootstrap': False, 'model__bootstrap_features': False, 'model__max_features': 0.5, 'model__max_samples': 1, 'model__n_estimators': 10}\n",
      "mean:  0.5 , std:  0.0 {'model__bootstrap': False, 'model__bootstrap_features': False, 'model__max_features': 0.5, 'model__max_samples': 1, 'model__n_estimators': 100}\n",
      "mean:  0.5 , std:  0.0 {'model__bootstrap': False, 'model__bootstrap_features': False, 'model__max_features': 0.5, 'model__max_samples': 1, 'model__n_estimators': 1000}\n",
      "mean:  0.814131369003677 , std:  0.012812321676705743 {'model__bootstrap': False, 'model__bootstrap_features': False, 'model__max_features': 0.8, 'model__max_samples': 0.5, 'model__n_estimators': 10}\n",
      "mean:  0.8401166989418725 , std:  0.02118594442915952 {'model__bootstrap': False, 'model__bootstrap_features': False, 'model__max_features': 0.8, 'model__max_samples': 0.5, 'model__n_estimators': 100}\n",
      "mean:  0.8414864634339155 , std:  0.02162637799227696 {'model__bootstrap': False, 'model__bootstrap_features': False, 'model__max_features': 0.8, 'model__max_samples': 0.5, 'model__n_estimators': 1000}\n",
      "mean:  0.810063236816797 , std:  0.030195888047997825 {'model__bootstrap': False, 'model__bootstrap_features': False, 'model__max_features': 0.8, 'model__max_samples': 0.8, 'model__n_estimators': 10}\n",
      "mean:  0.8284182741858981 , std:  0.026677720457284795 {'model__bootstrap': False, 'model__bootstrap_features': False, 'model__max_features': 0.8, 'model__max_samples': 0.8, 'model__n_estimators': 100}\n",
      "mean:  0.8343644459185238 , std:  0.025836769386662396 {'model__bootstrap': False, 'model__bootstrap_features': False, 'model__max_features': 0.8, 'model__max_samples': 0.8, 'model__n_estimators': 1000}\n",
      "mean:  0.5 , std:  0.0 {'model__bootstrap': False, 'model__bootstrap_features': False, 'model__max_features': 0.8, 'model__max_samples': 1, 'model__n_estimators': 10}\n",
      "mean:  0.5 , std:  0.0 {'model__bootstrap': False, 'model__bootstrap_features': False, 'model__max_features': 0.8, 'model__max_samples': 1, 'model__n_estimators': 100}\n",
      "mean:  0.5 , std:  0.0 {'model__bootstrap': False, 'model__bootstrap_features': False, 'model__max_features': 0.8, 'model__max_samples': 1, 'model__n_estimators': 1000}\n",
      "mean:  0.660566697337028 , std:  0.06374308929421738 {'model__bootstrap': False, 'model__bootstrap_features': False, 'model__max_features': 1, 'model__max_samples': 0.5, 'model__n_estimators': 10}\n",
      "mean:  0.7813264158591923 , std:  0.030825849667034957 {'model__bootstrap': False, 'model__bootstrap_features': False, 'model__max_features': 1, 'model__max_samples': 0.5, 'model__n_estimators': 100}\n",
      "mean:  0.8031554214618827 , std:  0.025273899631392524 {'model__bootstrap': False, 'model__bootstrap_features': False, 'model__max_features': 1, 'model__max_samples': 0.5, 'model__n_estimators': 1000}\n",
      "mean:  0.6851797366390752 , std:  0.0519258107670423 {'model__bootstrap': False, 'model__bootstrap_features': False, 'model__max_features': 1, 'model__max_samples': 0.8, 'model__n_estimators': 10}\n",
      "mean:  0.768671176874072 , std:  0.039610344352107286 {'model__bootstrap': False, 'model__bootstrap_features': False, 'model__max_features': 1, 'model__max_samples': 0.8, 'model__n_estimators': 100}\n",
      "mean:  0.7991620334211836 , std:  0.029386398626501834 {'model__bootstrap': False, 'model__bootstrap_features': False, 'model__max_features': 1, 'model__max_samples': 0.8, 'model__n_estimators': 1000}\n",
      "mean:  0.5 , std:  0.0 {'model__bootstrap': False, 'model__bootstrap_features': False, 'model__max_features': 1, 'model__max_samples': 1, 'model__n_estimators': 10}\n",
      "mean:  0.5 , std:  0.0 {'model__bootstrap': False, 'model__bootstrap_features': False, 'model__max_features': 1, 'model__max_samples': 1, 'model__n_estimators': 100}\n",
      "mean:  0.5 , std:  0.0 {'model__bootstrap': False, 'model__bootstrap_features': False, 'model__max_features': 1, 'model__max_samples': 1, 'model__n_estimators': 1000}\n",
      "Tunuję:  RandomForest\n",
      "mean:  0.8190689405529937 , std:  0.019822527130276258 {'model__max_depth': 10, 'model__min_samples_split': 2, 'model__n_estimators': 10}\n",
      "mean:  0.8379000074892743 , std:  0.022047702564236542 {'model__max_depth': 10, 'model__min_samples_split': 2, 'model__n_estimators': 100}\n",
      "mean:  0.8396908950633795 , std:  0.021557950557914585 {'model__max_depth': 10, 'model__min_samples_split': 2, 'model__n_estimators': 1000}\n",
      "mean:  0.8312248202871364 , std:  0.018530362611730376 {'model__max_depth': 10, 'model__min_samples_split': 4, 'model__n_estimators': 10}\n",
      "mean:  0.8372075468109362 , std:  0.02320268637655797 {'model__max_depth': 10, 'model__min_samples_split': 4, 'model__n_estimators': 100}\n",
      "mean:  0.840376074502825 , std:  0.021205031266828853 {'model__max_depth': 10, 'model__min_samples_split': 4, 'model__n_estimators': 1000}\n",
      "mean:  0.8309892202001181 , std:  0.021842263795775172 {'model__max_depth': 10, 'model__min_samples_split': 8, 'model__n_estimators': 10}\n",
      "mean:  0.8372671340924842 , std:  0.02106240594310769 {'model__max_depth': 10, 'model__min_samples_split': 8, 'model__n_estimators': 100}\n",
      "mean:  0.8417602528759407 , std:  0.0210199646241482 {'model__max_depth': 10, 'model__min_samples_split': 8, 'model__n_estimators': 1000}\n",
      "mean:  0.8079126709010787 , std:  0.026449289773857763 {'model__max_depth': 100, 'model__min_samples_split': 2, 'model__n_estimators': 10}\n",
      "mean:  0.8376331277943613 , std:  0.02298969086317888 {'model__max_depth': 100, 'model__min_samples_split': 2, 'model__n_estimators': 100}\n",
      "mean:  0.8411362952818762 , std:  0.018162834829362547 {'model__max_depth': 100, 'model__min_samples_split': 2, 'model__n_estimators': 1000}\n",
      "mean:  0.8170968392884952 , std:  0.021752026440130537 {'model__max_depth': 100, 'model__min_samples_split': 4, 'model__n_estimators': 10}\n",
      "mean:  0.8377877426732906 , std:  0.021657241797611984 {'model__max_depth': 100, 'model__min_samples_split': 4, 'model__n_estimators': 100}\n",
      "mean:  0.8423001047309626 , std:  0.017329724635279938 {'model__max_depth': 100, 'model__min_samples_split': 4, 'model__n_estimators': 1000}\n",
      "mean:  0.8267640955869154 , std:  0.01143661522623037 {'model__max_depth': 100, 'model__min_samples_split': 8, 'model__n_estimators': 10}\n",
      "mean:  0.8412617109068796 , std:  0.020115129030843813 {'model__max_depth': 100, 'model__min_samples_split': 8, 'model__n_estimators': 100}\n",
      "mean:  0.8438223294496097 , std:  0.017877833206579406 {'model__max_depth': 100, 'model__min_samples_split': 8, 'model__n_estimators': 1000}\n",
      "mean:  0.811965051836477 , std:  0.023946102239237637 {'model__max_depth': 1000, 'model__min_samples_split': 2, 'model__n_estimators': 10}\n",
      "mean:  0.8368854634374818 , std:  0.019100704170137147 {'model__max_depth': 1000, 'model__min_samples_split': 2, 'model__n_estimators': 100}\n",
      "mean:  0.8402722054010744 , std:  0.017740788507267014 {'model__max_depth': 1000, 'model__min_samples_split': 2, 'model__n_estimators': 1000}\n",
      "mean:  0.8221552942630971 , std:  0.023321542166911232 {'model__max_depth': 1000, 'model__min_samples_split': 4, 'model__n_estimators': 10}\n",
      "mean:  0.8386441055250636 , std:  0.01739384759166895 {'model__max_depth': 1000, 'model__min_samples_split': 4, 'model__n_estimators': 100}\n",
      "mean:  0.8416675285275967 , std:  0.016966376907150638 {'model__max_depth': 1000, 'model__min_samples_split': 4, 'model__n_estimators': 1000}\n",
      "mean:  0.8176428579070686 , std:  0.02159213647849952 {'model__max_depth': 1000, 'model__min_samples_split': 8, 'model__n_estimators': 10}\n",
      "mean:  0.840732260821704 , std:  0.01826631900305666 {'model__max_depth': 1000, 'model__min_samples_split': 8, 'model__n_estimators': 100}\n",
      "mean:  0.8445067659054948 , std:  0.0181956047298626 {'model__max_depth': 1000, 'model__min_samples_split': 8, 'model__n_estimators': 1000}\n",
      "\n",
      "Wyniki na testowym:\n",
      "Regresja logistyczna  ( {'model__C': 1, 'model__penalty': 'l1'} ): 0.7453075921244159  : 0.73449715552832  : 0.07895830447430392\n",
      "Regresja logistyczna - StandardScaler  ( {'model__C': 1, 'model__penalty': 'l1'} ): 0.7459587834214357  : 0.7310789723891983  : 0.0783768760422457\n"
     ]
    },
    {
     "name": "stderr",
     "output_type": "stream",
     "text": [
      "C:\\Anaconda\\lib\\site-packages\\sklearn\\pipeline.py:331: DataConversionWarning: Data with input dtype uint8, int64, float64 were all converted to float64 by StandardScaler.\n",
      "  Xt = transform.transform(Xt)\n",
      "C:\\Anaconda\\lib\\site-packages\\sklearn\\pipeline.py:331: DataConversionWarning: Data with input dtype uint8, int64, float64 were all converted to float64 by StandardScaler.\n",
      "  Xt = transform.transform(Xt)\n",
      "C:\\Anaconda\\lib\\site-packages\\sklearn\\pipeline.py:331: DataConversionWarning: Data with input dtype uint8, int64, float64 were all converted to float64 by StandardScaler.\n",
      "  Xt = transform.transform(Xt)\n"
     ]
    },
    {
     "name": "stdout",
     "output_type": "stream",
     "text": [
      "Regresja logistyczna - MaxAbsScaler  ( {'model__C': 1, 'model__penalty': 'l1'} ): 0.740710947674864  : 0.7321636147691414  : 0.07766725711949857\n",
      "Drzewo decyzyjne  ( {'model__criterion': 'gini'} ): 0.7055466176357925  : 0.676824347161372  : 0.06221788459192387\n",
      "Naiwny Bayes  ( {} ): 0.63835899793151  : 0.5964809534113128  : 0.04414295838817455\n",
      "BaggingClassifier  ( {'model__bootstrap': False, 'model__bootstrap_features': False, 'model__max_features': 0.5, 'model__max_samples': 0.5, 'model__n_estimators': 1000} ): 0.7122883628284685  : 0.7527230564882698  : 0.07693253041661548\n",
      "RandomForest  ( {'model__max_depth': 1000, 'model__min_samples_split': 8, 'model__n_estimators': 1000} ): 0.7102581781965832  : 0.755441177399638  : 0.07711078574914593\n"
     ]
    },
    {
     "data": {
      "text/html": [
       "<div>\n",
       "<style scoped>\n",
       "    .dataframe tbody tr th:only-of-type {\n",
       "        vertical-align: middle;\n",
       "    }\n",
       "\n",
       "    .dataframe tbody tr th {\n",
       "        vertical-align: top;\n",
       "    }\n",
       "\n",
       "    .dataframe thead th {\n",
       "        text-align: right;\n",
       "    }\n",
       "</style>\n",
       "<table border=\"1\" class=\"dataframe\">\n",
       "  <thead>\n",
       "    <tr style=\"text-align: right;\">\n",
       "      <th></th>\n",
       "      <th>Method</th>\n",
       "      <th>Accuracy Score Test</th>\n",
       "      <th>AUC Score test</th>\n",
       "      <th>F1 Score test</th>\n",
       "    </tr>\n",
       "  </thead>\n",
       "  <tbody>\n",
       "    <tr>\n",
       "      <th>0</th>\n",
       "      <td>Regresja logistyczna</td>\n",
       "      <td>0.745308</td>\n",
       "      <td>0.734497</td>\n",
       "      <td>0.078958</td>\n",
       "    </tr>\n",
       "    <tr>\n",
       "      <th>1</th>\n",
       "      <td>Regresja logistyczna - StandardScaler</td>\n",
       "      <td>0.745959</td>\n",
       "      <td>0.731079</td>\n",
       "      <td>0.078377</td>\n",
       "    </tr>\n",
       "    <tr>\n",
       "      <th>2</th>\n",
       "      <td>Regresja logistyczna - MaxAbsScaler</td>\n",
       "      <td>0.740711</td>\n",
       "      <td>0.732164</td>\n",
       "      <td>0.077667</td>\n",
       "    </tr>\n",
       "    <tr>\n",
       "      <th>3</th>\n",
       "      <td>Drzewo decyzyjne</td>\n",
       "      <td>0.705547</td>\n",
       "      <td>0.676824</td>\n",
       "      <td>0.062218</td>\n",
       "    </tr>\n",
       "    <tr>\n",
       "      <th>4</th>\n",
       "      <td>Naiwny Bayes</td>\n",
       "      <td>0.638359</td>\n",
       "      <td>0.596481</td>\n",
       "      <td>0.044143</td>\n",
       "    </tr>\n",
       "    <tr>\n",
       "      <th>5</th>\n",
       "      <td>BaggingClassifier</td>\n",
       "      <td>0.712288</td>\n",
       "      <td>0.752723</td>\n",
       "      <td>0.076933</td>\n",
       "    </tr>\n",
       "    <tr>\n",
       "      <th>6</th>\n",
       "      <td>RandomForest</td>\n",
       "      <td>0.710258</td>\n",
       "      <td>0.755441</td>\n",
       "      <td>0.077111</td>\n",
       "    </tr>\n",
       "  </tbody>\n",
       "</table>\n",
       "</div>"
      ],
      "text/plain": [
       "                                  Method  Accuracy Score Test  AUC Score test  \\\n",
       "0                   Regresja logistyczna             0.745308        0.734497   \n",
       "1  Regresja logistyczna - StandardScaler             0.745959        0.731079   \n",
       "2    Regresja logistyczna - MaxAbsScaler             0.740711        0.732164   \n",
       "3                       Drzewo decyzyjne             0.705547        0.676824   \n",
       "4                           Naiwny Bayes             0.638359        0.596481   \n",
       "5                      BaggingClassifier             0.712288        0.752723   \n",
       "6                           RandomForest             0.710258        0.755441   \n",
       "\n",
       "   F1 Score test  \n",
       "0       0.078958  \n",
       "1       0.078377  \n",
       "2       0.077667  \n",
       "3       0.062218  \n",
       "4       0.044143  \n",
       "5       0.076933  \n",
       "6       0.077111  "
      ]
     },
     "metadata": {},
     "output_type": "display_data"
    }
   ],
   "source": [
    "modelowanie(X_train_under, y_train_under, X_test, y_test, names, models, parameters, \"roc_auc\", models_run)"
   ]
  },
  {
   "cell_type": "code",
   "execution_count": 82,
   "metadata": {
    "scrolled": true
   },
   "outputs": [
    {
     "name": "stdout",
     "output_type": "stream",
     "text": [
      "Tunuję:  Regresja logistyczna\n"
     ]
    },
    {
     "name": "stderr",
     "output_type": "stream",
     "text": [
      "C:\\Anaconda\\lib\\site-packages\\sklearn\\linear_model\\logistic.py:433: FutureWarning: Default solver will be changed to 'lbfgs' in 0.22. Specify a solver to silence this warning.\n",
      "  FutureWarning)\n"
     ]
    },
    {
     "name": "stdout",
     "output_type": "stream",
     "text": [
      "mean:  0.8379275310280054 , std:  0.005467318368183224 {'model__C': 0.01, 'model__penalty': 'l1'}\n",
      "mean:  0.7507334531816678 , std:  0.050960429476385766 {'model__C': 0.01, 'model__penalty': 'l2'}\n",
      "mean:  0.8425247381295524 , std:  0.005147742506569918 {'model__C': 1, 'model__penalty': 'l1'}\n",
      "mean:  0.751233097631921 , std:  0.054603454132264674 {'model__C': 1, 'model__penalty': 'l2'}\n",
      "mean:  0.8425018620839786 , std:  0.005151434845866373 {'model__C': 10, 'model__penalty': 'l1'}\n",
      "mean:  0.7597839019933381 , std:  0.044973954808338386 {'model__C': 10, 'model__penalty': 'l2'}\n",
      "mean:  0.842490796543692 , std:  0.0051482651281267 {'model__C': 100, 'model__penalty': 'l1'}\n",
      "mean:  0.739903382884504 , std:  0.052557668311450215 {'model__C': 100, 'model__penalty': 'l2'}\n",
      "mean:  0.8424902132890529 , std:  0.00514001929213015 {'model__C': 1000, 'model__penalty': 'l1'}\n",
      "mean:  0.7570991303690406 , std:  0.049589541906196216 {'model__C': 1000, 'model__penalty': 'l2'}\n",
      "Tunuję:  Regresja logistyczna - StandardScaler\n"
     ]
    },
    {
     "name": "stderr",
     "output_type": "stream",
     "text": [
      "C:\\Anaconda\\lib\\site-packages\\sklearn\\preprocessing\\data.py:625: DataConversionWarning: Data with input dtype uint8, int64, float64 were all converted to float64 by StandardScaler.\n",
      "  return self.partial_fit(X, y)\n",
      "C:\\Anaconda\\lib\\site-packages\\sklearn\\base.py:465: DataConversionWarning: Data with input dtype uint8, int64, float64 were all converted to float64 by StandardScaler.\n",
      "  return self.fit(X, y, **fit_params).transform(X)\n",
      "C:\\Anaconda\\lib\\site-packages\\sklearn\\linear_model\\logistic.py:433: FutureWarning: Default solver will be changed to 'lbfgs' in 0.22. Specify a solver to silence this warning.\n",
      "  FutureWarning)\n"
     ]
    },
    {
     "name": "stdout",
     "output_type": "stream",
     "text": [
      "mean:  0.8422978348690608 , std:  0.005225209781574167 {'model__C': 0.01, 'model__penalty': 'l1'}\n",
      "mean:  0.842333083122946 , std:  0.005131049205277774 {'model__C': 0.01, 'model__penalty': 'l2'}\n",
      "mean:  0.84250658470257 , std:  0.00513128579160123 {'model__C': 1, 'model__penalty': 'l1'}\n",
      "mean:  0.8425021368916753 , std:  0.005129198528491886 {'model__C': 1, 'model__penalty': 'l2'}\n",
      "mean:  0.8425008411651405 , std:  0.00512918305976448 {'model__C': 10, 'model__penalty': 'l1'}\n",
      "mean:  0.8424998477509189 , std:  0.005129207378734205 {'model__C': 10, 'model__penalty': 'l2'}\n",
      "mean:  0.8425007689647125 , std:  0.005129812082793857 {'model__C': 100, 'model__penalty': 'l1'}\n",
      "mean:  0.8424998061409084 , std:  0.005129358801488197 {'model__C': 100, 'model__penalty': 'l2'}\n",
      "mean:  0.8425010075857725 , std:  0.005129453128992654 {'model__C': 1000, 'model__penalty': 'l1'}\n",
      "mean:  0.8424997256697774 , std:  0.0051293840941094 {'model__C': 1000, 'model__penalty': 'l2'}\n",
      "Tunuję:  Regresja logistyczna - MaxAbsScaler\n"
     ]
    },
    {
     "name": "stderr",
     "output_type": "stream",
     "text": [
      "C:\\Anaconda\\lib\\site-packages\\sklearn\\linear_model\\logistic.py:433: FutureWarning: Default solver will be changed to 'lbfgs' in 0.22. Specify a solver to silence this warning.\n",
      "  FutureWarning)\n"
     ]
    },
    {
     "name": "stdout",
     "output_type": "stream",
     "text": [
      "mean:  0.8225115052818903 , std:  0.005587503164099172 {'model__C': 0.01, 'model__penalty': 'l1'}\n",
      "mean:  0.8244572849140273 , std:  0.005174998135831394 {'model__C': 0.01, 'model__penalty': 'l2'}\n",
      "mean:  0.8419965139450388 , std:  0.005118052592073445 {'model__C': 1, 'model__penalty': 'l1'}\n",
      "mean:  0.8290174170482532 , std:  0.0051771625083718775 {'model__C': 1, 'model__penalty': 'l2'}\n",
      "mean:  0.8425168079228635 , std:  0.00513384746011895 {'model__C': 10, 'model__penalty': 'l1'}\n",
      "mean:  0.8327650015717334 , std:  0.004795034544792591 {'model__C': 10, 'model__penalty': 'l2'}\n",
      "mean:  0.8425035436534156 , std:  0.0051292657926037015 {'model__C': 100, 'model__penalty': 'l1'}\n",
      "mean:  0.8399568286206377 , std:  0.004909254949633861 {'model__C': 100, 'model__penalty': 'l2'}\n",
      "mean:  0.8425009937890975 , std:  0.0051312812616899975 {'model__C': 1000, 'model__penalty': 'l1'}\n",
      "mean:  0.8423282624542825 , std:  0.005118116927507183 {'model__C': 1000, 'model__penalty': 'l2'}\n",
      "Tunuję:  Drzewo decyzyjne\n",
      "mean:  0.9917065366422039 , std:  0.0008857458386587805 {'model__criterion': 'gini'}\n",
      "mean:  0.9913380681556206 , std:  0.0008177610976314388 {'model__criterion': 'entropy'}\n",
      "Tunuję:  Naiwny Bayes\n",
      "mean:  0.5694453845642536 , std:  0.006834322942569018 {}\n",
      "Tunuję:  BaggingClassifier\n",
      "mean:  0.9999540597776244 , std:  6.356640898441687e-05 {'model__bootstrap': False, 'model__bootstrap_features': False, 'model__max_features': 0.5, 'model__max_samples': 0.5, 'model__n_estimators': 10}\n",
      "mean:  0.9999632680916998 , std:  4.923562616402703e-05 {'model__bootstrap': False, 'model__bootstrap_features': False, 'model__max_features': 0.5, 'model__max_samples': 0.5, 'model__n_estimators': 100}\n",
      "mean:  0.9999693302143376 , std:  4.15307726648819e-05 {'model__bootstrap': False, 'model__bootstrap_features': False, 'model__max_features': 0.5, 'model__max_samples': 0.5, 'model__n_estimators': 1000}\n",
      "mean:  0.999978547316035 , std:  3.240722297949412e-05 {'model__bootstrap': False, 'model__bootstrap_features': False, 'model__max_features': 0.5, 'model__max_samples': 0.8, 'model__n_estimators': 10}\n",
      "mean:  0.9999783865071045 , std:  2.8722142861504148e-05 {'model__bootstrap': False, 'model__bootstrap_features': False, 'model__max_features': 0.5, 'model__max_samples': 0.8, 'model__n_estimators': 100}\n",
      "mean:  0.9999713663984876 , std:  3.962527545924111e-05 {'model__bootstrap': False, 'model__bootstrap_features': False, 'model__max_features': 0.5, 'model__max_samples': 0.8, 'model__n_estimators': 1000}\n",
      "mean:  0.5 , std:  0.0 {'model__bootstrap': False, 'model__bootstrap_features': False, 'model__max_features': 0.5, 'model__max_samples': 1, 'model__n_estimators': 10}\n",
      "mean:  0.5 , std:  0.0 {'model__bootstrap': False, 'model__bootstrap_features': False, 'model__max_features': 0.5, 'model__max_samples': 1, 'model__n_estimators': 100}\n",
      "mean:  0.5 , std:  0.0 {'model__bootstrap': False, 'model__bootstrap_features': False, 'model__max_features': 0.5, 'model__max_samples': 1, 'model__n_estimators': 1000}\n",
      "mean:  0.9999207057169341 , std:  8.247232396738207e-05 {'model__bootstrap': False, 'model__bootstrap_features': False, 'model__max_features': 0.8, 'model__max_samples': 0.5, 'model__n_estimators': 10}\n",
      "mean:  0.9999732789736157 , std:  6.748986931346704e-05 {'model__bootstrap': False, 'model__bootstrap_features': False, 'model__max_features': 0.8, 'model__max_samples': 0.5, 'model__n_estimators': 100}\n",
      "mean:  0.9999723730192139 , std:  5.480243626794899e-05 {'model__bootstrap': False, 'model__bootstrap_features': False, 'model__max_features': 0.8, 'model__max_samples': 0.5, 'model__n_estimators': 1000}\n",
      "mean:  0.9999382090260323 , std:  7.710445008862117e-05 {'model__bootstrap': False, 'model__bootstrap_features': False, 'model__max_features': 0.8, 'model__max_samples': 0.8, 'model__n_estimators': 10}\n",
      "mean:  0.9999754405197365 , std:  4.8980183762460444e-05 {'model__bootstrap': False, 'model__bootstrap_features': False, 'model__max_features': 0.8, 'model__max_samples': 0.8, 'model__n_estimators': 100}\n",
      "mean:  0.9999728932799893 , std:  5.392427740864344e-05 {'model__bootstrap': False, 'model__bootstrap_features': False, 'model__max_features': 0.8, 'model__max_samples': 0.8, 'model__n_estimators': 1000}\n",
      "mean:  0.5 , std:  0.0 {'model__bootstrap': False, 'model__bootstrap_features': False, 'model__max_features': 0.8, 'model__max_samples': 1, 'model__n_estimators': 10}\n",
      "mean:  0.5 , std:  0.0 {'model__bootstrap': False, 'model__bootstrap_features': False, 'model__max_features': 0.8, 'model__max_samples': 1, 'model__n_estimators': 100}\n",
      "mean:  0.5 , std:  0.0 {'model__bootstrap': False, 'model__bootstrap_features': False, 'model__max_features': 0.8, 'model__max_samples': 1, 'model__n_estimators': 1000}\n",
      "mean:  0.6803263097917276 , std:  0.10677558155210096 {'model__bootstrap': False, 'model__bootstrap_features': False, 'model__max_features': 1, 'model__max_samples': 0.5, 'model__n_estimators': 10}\n",
      "mean:  0.8966548878278756 , std:  0.04969572908156419 {'model__bootstrap': False, 'model__bootstrap_features': False, 'model__max_features': 1, 'model__max_samples': 0.5, 'model__n_estimators': 100}\n",
      "mean:  0.9557816053489061 , std:  0.010929690415713712 {'model__bootstrap': False, 'model__bootstrap_features': False, 'model__max_features': 1, 'model__max_samples': 0.5, 'model__n_estimators': 1000}\n",
      "mean:  0.7553314499962497 , std:  0.11999650827417288 {'model__bootstrap': False, 'model__bootstrap_features': False, 'model__max_features': 1, 'model__max_samples': 0.8, 'model__n_estimators': 10}\n",
      "mean:  0.9049781234242016 , std:  0.08006715418585465 {'model__bootstrap': False, 'model__bootstrap_features': False, 'model__max_features': 1, 'model__max_samples': 0.8, 'model__n_estimators': 100}\n",
      "mean:  0.9569985639987453 , std:  0.011865476397442077 {'model__bootstrap': False, 'model__bootstrap_features': False, 'model__max_features': 1, 'model__max_samples': 0.8, 'model__n_estimators': 1000}\n",
      "mean:  0.5 , std:  0.0 {'model__bootstrap': False, 'model__bootstrap_features': False, 'model__max_features': 1, 'model__max_samples': 1, 'model__n_estimators': 10}\n",
      "mean:  0.5 , std:  0.0 {'model__bootstrap': False, 'model__bootstrap_features': False, 'model__max_features': 1, 'model__max_samples': 1, 'model__n_estimators': 100}\n",
      "mean:  0.5 , std:  0.0 {'model__bootstrap': False, 'model__bootstrap_features': False, 'model__max_features': 1, 'model__max_samples': 1, 'model__n_estimators': 1000}\n",
      "Tunuję:  RandomForest\n",
      "mean:  0.9274411468101484 , std:  0.0022231521174677013 {'model__max_depth': 10, 'model__min_samples_split': 2, 'model__n_estimators': 10}\n",
      "mean:  0.9370598387987171 , std:  0.0019309811746412524 {'model__max_depth': 10, 'model__min_samples_split': 2, 'model__n_estimators': 100}\n",
      "mean:  0.9387092658539455 , std:  0.0024997166289405758 {'model__max_depth': 10, 'model__min_samples_split': 2, 'model__n_estimators': 1000}\n",
      "mean:  0.9281190404692212 , std:  0.0038026219844763697 {'model__max_depth': 10, 'model__min_samples_split': 4, 'model__n_estimators': 10}\n",
      "mean:  0.9379369818743477 , std:  0.0022115199784064287 {'model__max_depth': 10, 'model__min_samples_split': 4, 'model__n_estimators': 100}\n",
      "mean:  0.9386620909171833 , std:  0.0022980563304458514 {'model__max_depth': 10, 'model__min_samples_split': 4, 'model__n_estimators': 1000}\n",
      "mean:  0.9262635768667498 , std:  0.005308112464139339 {'model__max_depth': 10, 'model__min_samples_split': 8, 'model__n_estimators': 10}\n",
      "mean:  0.937727218780581 , std:  0.00337604491460403 {'model__max_depth': 10, 'model__min_samples_split': 8, 'model__n_estimators': 100}\n",
      "mean:  0.938734462965855 , std:  0.002505503256462617 {'model__max_depth': 10, 'model__min_samples_split': 8, 'model__n_estimators': 1000}\n",
      "mean:  0.9999580232890805 , std:  5.60918260043281e-05 {'model__max_depth': 100, 'model__min_samples_split': 2, 'model__n_estimators': 10}\n",
      "mean:  0.9999581342757597 , std:  5.604574358063949e-05 {'model__max_depth': 100, 'model__min_samples_split': 2, 'model__n_estimators': 100}\n",
      "mean:  0.9999664516563538 , std:  5.532611435434908e-05 {'model__max_depth': 100, 'model__min_samples_split': 2, 'model__n_estimators': 1000}\n",
      "mean:  0.9999413802167513 , std:  6.527084719895764e-05 {'model__max_depth': 100, 'model__min_samples_split': 4, 'model__n_estimators': 10}\n",
      "mean:  0.9999581259486741 , std:  5.601476178800084e-05 {'model__max_depth': 100, 'model__min_samples_split': 4, 'model__n_estimators': 100}\n",
      "mean:  0.9999581675702386 , std:  5.6045573847438456e-05 {'model__max_depth': 100, 'model__min_samples_split': 4, 'model__n_estimators': 1000}\n",
      "mean:  0.9999581093065184 , std:  5.606045348854204e-05 {'model__max_depth': 100, 'model__min_samples_split': 8, 'model__n_estimators': 10}\n",
      "mean:  0.9999581148495902 , std:  5.6006589395832425e-05 {'model__max_depth': 100, 'model__min_samples_split': 8, 'model__n_estimators': 100}\n",
      "mean:  0.9999664516563538 , std:  5.5326114354325466e-05 {'model__max_depth': 100, 'model__min_samples_split': 8, 'model__n_estimators': 1000}\n",
      "mean:  0.9999581093097535 , std:  5.608960444918737e-05 {'model__max_depth': 1000, 'model__min_samples_split': 2, 'model__n_estimators': 10}\n",
      "mean:  0.9999581509216127 , std:  5.603321766386617e-05 {'model__max_depth': 1000, 'model__min_samples_split': 2, 'model__n_estimators': 100}\n",
      "mean:  0.9999664655278978 , std:  5.533426254345889e-05 {'model__max_depth': 1000, 'model__min_samples_split': 2, 'model__n_estimators': 1000}\n",
      "mean:  0.9999496892672554 , std:  5.5417193200033054e-05 {'model__max_depth': 1000, 'model__min_samples_split': 4, 'model__n_estimators': 10}\n",
      "mean:  0.9999581814417826 , std:  5.603516561746651e-05 {'model__max_depth': 1000, 'model__min_samples_split': 4, 'model__n_estimators': 100}\n",
      "mean:  0.9999664516563538 , std:  5.532611435434895e-05 {'model__max_depth': 1000, 'model__min_samples_split': 4, 'model__n_estimators': 1000}\n",
      "mean:  0.9999581356612968 , std:  5.6030147906866636e-05 {'model__max_depth': 1000, 'model__min_samples_split': 8, 'model__n_estimators': 10}\n",
      "mean:  0.9999581203968212 , std:  5.5990070822637845e-05 {'model__max_depth': 1000, 'model__min_samples_split': 8, 'model__n_estimators': 100}\n",
      "mean:  0.9999664516563538 , std:  5.532611435434222e-05 {'model__max_depth': 1000, 'model__min_samples_split': 8, 'model__n_estimators': 1000}\n",
      "\n",
      "Wyniki na testowym:\n",
      "Regresja logistyczna  ( {'model__C': 1, 'model__penalty': 'l1'} ): 0.7535815521336091  : 0.7386975288948414  : 0.08139368841924889\n"
     ]
    },
    {
     "name": "stderr",
     "output_type": "stream",
     "text": [
      "C:\\Anaconda\\lib\\site-packages\\sklearn\\pipeline.py:331: DataConversionWarning: Data with input dtype uint8, int64, float64 were all converted to float64 by StandardScaler.\n",
      "  Xt = transform.transform(Xt)\n",
      "C:\\Anaconda\\lib\\site-packages\\sklearn\\pipeline.py:331: DataConversionWarning: Data with input dtype uint8, int64, float64 were all converted to float64 by StandardScaler.\n",
      "  Xt = transform.transform(Xt)\n",
      "C:\\Anaconda\\lib\\site-packages\\sklearn\\pipeline.py:331: DataConversionWarning: Data with input dtype uint8, int64, float64 were all converted to float64 by StandardScaler.\n",
      "  Xt = transform.transform(Xt)\n"
     ]
    },
    {
     "name": "stdout",
     "output_type": "stream",
     "text": [
      "Regresja logistyczna - StandardScaler  ( {'model__C': 1, 'model__penalty': 'l1'} ): 0.7538496897264997  : 0.7400832414657952  : 0.08173763932552158\n",
      "Regresja logistyczna - MaxAbsScaler  ( {'model__C': 10, 'model__penalty': 'l1'} ): 0.7536964682448479  : 0.7375062780538192  : 0.08116604744212633\n",
      "Drzewo decyzyjne  ( {'model__criterion': 'gini'} ): 0.9693557036696545  : 0.5220949984048215  : 0.05660377358490566\n",
      "Naiwny Bayes  ( {} ): 0.578717536198575  : 0.5412114748609352  : 0.03475513428120063\n",
      "BaggingClassifier  ( {'model__bootstrap': False, 'model__bootstrap_features': False, 'model__max_features': 0.5, 'model__max_samples': 0.8, 'model__n_estimators': 10} ): 0.9842181873898721  : 0.500899558246125  : 0.004830917874396135\n",
      "RandomForest  ( {'model__max_depth': 1000, 'model__min_samples_split': 2, 'model__n_estimators': 1000} ): 0.9841415766490462  : 0.5008606659001387  : 0.004807692307692307\n"
     ]
    },
    {
     "data": {
      "text/html": [
       "<div>\n",
       "<style scoped>\n",
       "    .dataframe tbody tr th:only-of-type {\n",
       "        vertical-align: middle;\n",
       "    }\n",
       "\n",
       "    .dataframe tbody tr th {\n",
       "        vertical-align: top;\n",
       "    }\n",
       "\n",
       "    .dataframe thead th {\n",
       "        text-align: right;\n",
       "    }\n",
       "</style>\n",
       "<table border=\"1\" class=\"dataframe\">\n",
       "  <thead>\n",
       "    <tr style=\"text-align: right;\">\n",
       "      <th></th>\n",
       "      <th>Method</th>\n",
       "      <th>Accuracy Score Test</th>\n",
       "      <th>AUC Score test</th>\n",
       "      <th>F1 Score test</th>\n",
       "    </tr>\n",
       "  </thead>\n",
       "  <tbody>\n",
       "    <tr>\n",
       "      <th>0</th>\n",
       "      <td>Regresja logistyczna</td>\n",
       "      <td>0.753582</td>\n",
       "      <td>0.738698</td>\n",
       "      <td>0.081394</td>\n",
       "    </tr>\n",
       "    <tr>\n",
       "      <th>1</th>\n",
       "      <td>Regresja logistyczna - StandardScaler</td>\n",
       "      <td>0.753850</td>\n",
       "      <td>0.740083</td>\n",
       "      <td>0.081738</td>\n",
       "    </tr>\n",
       "    <tr>\n",
       "      <th>2</th>\n",
       "      <td>Regresja logistyczna - MaxAbsScaler</td>\n",
       "      <td>0.753696</td>\n",
       "      <td>0.737506</td>\n",
       "      <td>0.081166</td>\n",
       "    </tr>\n",
       "    <tr>\n",
       "      <th>3</th>\n",
       "      <td>Drzewo decyzyjne</td>\n",
       "      <td>0.969356</td>\n",
       "      <td>0.522095</td>\n",
       "      <td>0.056604</td>\n",
       "    </tr>\n",
       "    <tr>\n",
       "      <th>4</th>\n",
       "      <td>Naiwny Bayes</td>\n",
       "      <td>0.578718</td>\n",
       "      <td>0.541211</td>\n",
       "      <td>0.034755</td>\n",
       "    </tr>\n",
       "    <tr>\n",
       "      <th>5</th>\n",
       "      <td>BaggingClassifier</td>\n",
       "      <td>0.984218</td>\n",
       "      <td>0.500900</td>\n",
       "      <td>0.004831</td>\n",
       "    </tr>\n",
       "    <tr>\n",
       "      <th>6</th>\n",
       "      <td>RandomForest</td>\n",
       "      <td>0.984142</td>\n",
       "      <td>0.500861</td>\n",
       "      <td>0.004808</td>\n",
       "    </tr>\n",
       "  </tbody>\n",
       "</table>\n",
       "</div>"
      ],
      "text/plain": [
       "                                  Method  Accuracy Score Test  AUC Score test  \\\n",
       "0                   Regresja logistyczna             0.753582        0.738698   \n",
       "1  Regresja logistyczna - StandardScaler             0.753850        0.740083   \n",
       "2    Regresja logistyczna - MaxAbsScaler             0.753696        0.737506   \n",
       "3                       Drzewo decyzyjne             0.969356        0.522095   \n",
       "4                           Naiwny Bayes             0.578718        0.541211   \n",
       "5                      BaggingClassifier             0.984218        0.500900   \n",
       "6                           RandomForest             0.984142        0.500861   \n",
       "\n",
       "   F1 Score test  \n",
       "0       0.081394  \n",
       "1       0.081738  \n",
       "2       0.081166  \n",
       "3       0.056604  \n",
       "4       0.034755  \n",
       "5       0.004831  \n",
       "6       0.004808  "
      ]
     },
     "metadata": {},
     "output_type": "display_data"
    }
   ],
   "source": [
    "modelowanie(X_train_over, y_train_over, X_test, y_test, names, models, parameters, \"roc_auc\", models_run)"
   ]
  },
  {
   "cell_type": "code",
   "execution_count": null,
   "metadata": {},
   "outputs": [],
   "source": []
  },
  {
   "cell_type": "code",
   "execution_count": null,
   "metadata": {},
   "outputs": [],
   "source": []
  },
  {
   "cell_type": "code",
   "execution_count": null,
   "metadata": {},
   "outputs": [],
   "source": []
  }
 ],
 "metadata": {
  "kernelspec": {
   "display_name": "Python 3",
   "language": "python",
   "name": "python3"
  },
  "language_info": {
   "codemirror_mode": {
    "name": "ipython",
    "version": 3
   },
   "file_extension": ".py",
   "mimetype": "text/x-python",
   "name": "python",
   "nbconvert_exporter": "python",
   "pygments_lexer": "ipython3",
   "version": "3.7.1"
  }
 },
 "nbformat": 4,
 "nbformat_minor": 2
}
