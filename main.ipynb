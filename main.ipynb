{
 "cells": [
  {
   "cell_type": "markdown",
   "metadata": {},
   "source": [
    "# BOOTCAMP DATASCIENCE\n",
    "\n",
    "## Projekt Zaliczeniowy"
   ]
  },
  {
   "cell_type": "markdown",
   "metadata": {},
   "source": [
    "## Prognoza otrzymania pożyczki na podstawie podanych danych we wniosku"
   ]
  },
  {
   "cell_type": "markdown",
   "metadata": {},
   "source": [
    "#### IN:\n",
    "\n",
    "- ID - Unique ID (can not be used for predictions)\n",
    "- Gender- Sex\n",
    "- City - Current City\n",
    "- Monthly_Income - Monthly Income in rupees\n",
    "- DOB - Date of Birth\n",
    "- Lead_Creation_Date - Lead Created on date\n",
    "- Loan_Amount_Applied - Loan Amount Requested (INR)\n",
    "- Loan_Tenure_Applied - Loan Tenure Requested (in years)\n",
    "- Existing_EMI - EMI of Existing Loans (INR)\n",
    "- Employer_Name - Employer Name\n",
    "- Salary_Account- Salary account with Bank\n",
    "- Mobile_Verified - Mobile Verified (Y/N)\n",
    "- Var5- Continuous classified variable\n",
    "- Var1- Categorical variable with multiple levels\n",
    "- Loan_Amount_Submitted- Loan Amount Revised and Selected after seeing Eligibility\n",
    "- Loan_Tenure_Submitted- Loan Tenure Revised and Selected after seeing Eligibility (Years)\n",
    "- Interest_Rate- Interest Rate of Submitted Loan Amount\n",
    "- Processing_Fee- Processing Fee of Submitted Loan Amount (INR)\n",
    "- EMI_Loan_Submitted- EMI of Submitted Loan Amount (INR)\n",
    "- Filled_Form- Filled Application form post quote\n",
    "- Device_Type- Device from which application was made (Browser/ Mobile)\n",
    "- Var2- Categorical Variable with multiple Levels\n",
    "- Source- Categorical Variable with multiple Levels\n",
    "- Var4- Categorical Variable with multiple Levels\n",
    "\n",
    "#### OUT:\n",
    "\n",
    "- LoggedIn- Application Logged (Variable for understanding the problem – cannot be used in prediction)\n",
    "- Disbursed- Loan Disbursed (Target Variable)"
   ]
  },
  {
   "cell_type": "markdown",
   "metadata": {},
   "source": [
    "### Import bibliotek"
   ]
  },
  {
   "cell_type": "code",
   "execution_count": 1,
   "metadata": {},
   "outputs": [],
   "source": [
    "import pandas as pd\n",
    "import numpy as np\n",
    "import pprint\n",
    "import xgboost as xgb\n",
    "import matplotlib.pyplot as plt\n",
    "import math\n",
    "\n",
    "from sklearn.pipeline import Pipeline\n",
    "from sklearn.linear_model import LogisticRegression\n",
    "from sklearn.tree import DecisionTreeClassifier\n",
    "from sklearn.naive_bayes import MultinomialNB\n",
    "from sklearn.preprocessing import StandardScaler, MaxAbsScaler\n",
    "from sklearn.ensemble import BaggingClassifier, RandomForestClassifier\n",
    "from sklearn.model_selection import GridSearchCV, train_test_split\n",
    "from sklearn.metrics import accuracy_score, roc_auc_score, f1_score\n",
    "from datetime import datetime\n",
    "\n",
    "np.random.seed(123)"
   ]
  },
  {
   "cell_type": "markdown",
   "metadata": {},
   "source": [
    "### Sprawdzenie dostępnych plików w systemie  WINDOWS"
   ]
  },
  {
   "cell_type": "code",
   "execution_count": 2,
   "metadata": {
    "scrolled": false
   },
   "outputs": [
    {
     "name": "stdout",
     "output_type": "stream",
     "text": [
      ".ipynb_checkpoints\n",
      "main.ipynb\n",
      "Train.csv\n"
     ]
    }
   ],
   "source": [
    "!dir /b"
   ]
  },
  {
   "cell_type": "markdown",
   "metadata": {},
   "source": [
    "### Import danych"
   ]
  },
  {
   "cell_type": "code",
   "execution_count": 3,
   "metadata": {},
   "outputs": [],
   "source": [
    "data = pd.read_csv('Train.csv', encoding = \"ISO-8859-1\")"
   ]
  },
  {
   "cell_type": "code",
   "execution_count": 4,
   "metadata": {
    "scrolled": true
   },
   "outputs": [
    {
     "name": "stdout",
     "output_type": "stream",
     "text": [
      "<class 'pandas.core.frame.DataFrame'>\n",
      "RangeIndex: 87020 entries, 0 to 87019\n",
      "Data columns (total 26 columns):\n",
      "ID                       87020 non-null object\n",
      "Gender                   87020 non-null object\n",
      "City                     86017 non-null object\n",
      "Monthly_Income           87020 non-null int64\n",
      "DOB                      87020 non-null object\n",
      "Lead_Creation_Date       87020 non-null object\n",
      "Loan_Amount_Applied      86949 non-null float64\n",
      "Loan_Tenure_Applied      86949 non-null float64\n",
      "Existing_EMI             86949 non-null float64\n",
      "Employer_Name            86949 non-null object\n",
      "Salary_Account           75256 non-null object\n",
      "Mobile_Verified          87020 non-null object\n",
      "Var5                     87020 non-null int64\n",
      "Var1                     87020 non-null object\n",
      "Loan_Amount_Submitted    52407 non-null float64\n",
      "Loan_Tenure_Submitted    52407 non-null float64\n",
      "Interest_Rate            27726 non-null float64\n",
      "Processing_Fee           27420 non-null float64\n",
      "EMI_Loan_Submitted       27726 non-null float64\n",
      "Filled_Form              87020 non-null object\n",
      "Device_Type              87020 non-null object\n",
      "Var2                     87020 non-null object\n",
      "Source                   87020 non-null object\n",
      "Var4                     87020 non-null int64\n",
      "LoggedIn                 87020 non-null int64\n",
      "Disbursed                87020 non-null int64\n",
      "dtypes: float64(8), int64(5), object(13)\n",
      "memory usage: 17.3+ MB\n"
     ]
    }
   ],
   "source": [
    "data.info()"
   ]
  },
  {
   "cell_type": "markdown",
   "metadata": {},
   "source": [
    "Na podstawie powyższych informacji - kolumny do usunięcia ze względu na małą ilość danych:\n",
    "- 'Loan_Amount_Submitted',\n",
    "- 'Loan_Tenure_Submitted',\n",
    "- 'Interest_Rate',\n",
    "- 'Processing_Fee',\n",
    "- 'EMI_Loan_Submitted'"
   ]
  },
  {
   "cell_type": "code",
   "execution_count": 5,
   "metadata": {},
   "outputs": [],
   "source": [
    "columns_to_del = ['Loan_Amount_Submitted','Loan_Tenure_Submitted','Interest_Rate',\n",
    "                  'Processing_Fee','EMI_Loan_Submitted','LoggedIn']"
   ]
  },
  {
   "cell_type": "markdown",
   "metadata": {},
   "source": [
    "### Przepisanie danych do osobnego DataFrame"
   ]
  },
  {
   "cell_type": "code",
   "execution_count": 6,
   "metadata": {},
   "outputs": [],
   "source": [
    "data_new = data.copy()"
   ]
  },
  {
   "cell_type": "code",
   "execution_count": 7,
   "metadata": {
    "scrolled": true
   },
   "outputs": [
    {
     "data": {
      "text/html": [
       "<div>\n",
       "<style scoped>\n",
       "    .dataframe tbody tr th:only-of-type {\n",
       "        vertical-align: middle;\n",
       "    }\n",
       "\n",
       "    .dataframe tbody tr th {\n",
       "        vertical-align: top;\n",
       "    }\n",
       "\n",
       "    .dataframe thead th {\n",
       "        text-align: right;\n",
       "    }\n",
       "</style>\n",
       "<table border=\"1\" class=\"dataframe\">\n",
       "  <thead>\n",
       "    <tr style=\"text-align: right;\">\n",
       "      <th></th>\n",
       "      <th>ID</th>\n",
       "      <th>Gender</th>\n",
       "      <th>City</th>\n",
       "      <th>Monthly_Income</th>\n",
       "      <th>DOB</th>\n",
       "      <th>Lead_Creation_Date</th>\n",
       "      <th>Loan_Amount_Applied</th>\n",
       "      <th>Loan_Tenure_Applied</th>\n",
       "      <th>Existing_EMI</th>\n",
       "      <th>Employer_Name</th>\n",
       "      <th>...</th>\n",
       "      <th>Interest_Rate</th>\n",
       "      <th>Processing_Fee</th>\n",
       "      <th>EMI_Loan_Submitted</th>\n",
       "      <th>Filled_Form</th>\n",
       "      <th>Device_Type</th>\n",
       "      <th>Var2</th>\n",
       "      <th>Source</th>\n",
       "      <th>Var4</th>\n",
       "      <th>LoggedIn</th>\n",
       "      <th>Disbursed</th>\n",
       "    </tr>\n",
       "  </thead>\n",
       "  <tbody>\n",
       "    <tr>\n",
       "      <th>0</th>\n",
       "      <td>ID000002C20</td>\n",
       "      <td>Female</td>\n",
       "      <td>Delhi</td>\n",
       "      <td>20000</td>\n",
       "      <td>23-May-78</td>\n",
       "      <td>15-May-15</td>\n",
       "      <td>300000.0</td>\n",
       "      <td>5.0</td>\n",
       "      <td>0.0</td>\n",
       "      <td>CYBOSOL</td>\n",
       "      <td>...</td>\n",
       "      <td>NaN</td>\n",
       "      <td>NaN</td>\n",
       "      <td>NaN</td>\n",
       "      <td>N</td>\n",
       "      <td>Web-browser</td>\n",
       "      <td>G</td>\n",
       "      <td>S122</td>\n",
       "      <td>1</td>\n",
       "      <td>0</td>\n",
       "      <td>0</td>\n",
       "    </tr>\n",
       "    <tr>\n",
       "      <th>1</th>\n",
       "      <td>ID000004E40</td>\n",
       "      <td>Male</td>\n",
       "      <td>Mumbai</td>\n",
       "      <td>35000</td>\n",
       "      <td>07-Oct-85</td>\n",
       "      <td>04-May-15</td>\n",
       "      <td>200000.0</td>\n",
       "      <td>2.0</td>\n",
       "      <td>0.0</td>\n",
       "      <td>TATA CONSULTANCY SERVICES LTD (TCS)</td>\n",
       "      <td>...</td>\n",
       "      <td>13.25</td>\n",
       "      <td>NaN</td>\n",
       "      <td>6762.9</td>\n",
       "      <td>N</td>\n",
       "      <td>Web-browser</td>\n",
       "      <td>G</td>\n",
       "      <td>S122</td>\n",
       "      <td>3</td>\n",
       "      <td>0</td>\n",
       "      <td>0</td>\n",
       "    </tr>\n",
       "    <tr>\n",
       "      <th>2</th>\n",
       "      <td>ID000007H20</td>\n",
       "      <td>Male</td>\n",
       "      <td>Panchkula</td>\n",
       "      <td>22500</td>\n",
       "      <td>10-Oct-81</td>\n",
       "      <td>19-May-15</td>\n",
       "      <td>600000.0</td>\n",
       "      <td>4.0</td>\n",
       "      <td>0.0</td>\n",
       "      <td>ALCHEMIST HOSPITALS LTD</td>\n",
       "      <td>...</td>\n",
       "      <td>NaN</td>\n",
       "      <td>NaN</td>\n",
       "      <td>NaN</td>\n",
       "      <td>N</td>\n",
       "      <td>Web-browser</td>\n",
       "      <td>B</td>\n",
       "      <td>S143</td>\n",
       "      <td>1</td>\n",
       "      <td>0</td>\n",
       "      <td>0</td>\n",
       "    </tr>\n",
       "    <tr>\n",
       "      <th>3</th>\n",
       "      <td>ID000008I30</td>\n",
       "      <td>Male</td>\n",
       "      <td>Saharsa</td>\n",
       "      <td>35000</td>\n",
       "      <td>30-Nov-87</td>\n",
       "      <td>09-May-15</td>\n",
       "      <td>1000000.0</td>\n",
       "      <td>5.0</td>\n",
       "      <td>0.0</td>\n",
       "      <td>BIHAR GOVERNMENT</td>\n",
       "      <td>...</td>\n",
       "      <td>NaN</td>\n",
       "      <td>NaN</td>\n",
       "      <td>NaN</td>\n",
       "      <td>N</td>\n",
       "      <td>Web-browser</td>\n",
       "      <td>B</td>\n",
       "      <td>S143</td>\n",
       "      <td>3</td>\n",
       "      <td>0</td>\n",
       "      <td>0</td>\n",
       "    </tr>\n",
       "    <tr>\n",
       "      <th>4</th>\n",
       "      <td>ID000009J40</td>\n",
       "      <td>Male</td>\n",
       "      <td>Bengaluru</td>\n",
       "      <td>100000</td>\n",
       "      <td>17-Feb-84</td>\n",
       "      <td>20-May-15</td>\n",
       "      <td>500000.0</td>\n",
       "      <td>2.0</td>\n",
       "      <td>25000.0</td>\n",
       "      <td>GLOBAL EDGE SOFTWARE</td>\n",
       "      <td>...</td>\n",
       "      <td>NaN</td>\n",
       "      <td>NaN</td>\n",
       "      <td>NaN</td>\n",
       "      <td>N</td>\n",
       "      <td>Web-browser</td>\n",
       "      <td>B</td>\n",
       "      <td>S134</td>\n",
       "      <td>3</td>\n",
       "      <td>1</td>\n",
       "      <td>0</td>\n",
       "    </tr>\n",
       "  </tbody>\n",
       "</table>\n",
       "<p>5 rows × 26 columns</p>\n",
       "</div>"
      ],
      "text/plain": [
       "            ID  Gender       City  Monthly_Income        DOB  \\\n",
       "0  ID000002C20  Female      Delhi           20000  23-May-78   \n",
       "1  ID000004E40    Male     Mumbai           35000  07-Oct-85   \n",
       "2  ID000007H20    Male  Panchkula           22500  10-Oct-81   \n",
       "3  ID000008I30    Male    Saharsa           35000  30-Nov-87   \n",
       "4  ID000009J40    Male  Bengaluru          100000  17-Feb-84   \n",
       "\n",
       "  Lead_Creation_Date  Loan_Amount_Applied  Loan_Tenure_Applied  Existing_EMI  \\\n",
       "0          15-May-15             300000.0                  5.0           0.0   \n",
       "1          04-May-15             200000.0                  2.0           0.0   \n",
       "2          19-May-15             600000.0                  4.0           0.0   \n",
       "3          09-May-15            1000000.0                  5.0           0.0   \n",
       "4          20-May-15             500000.0                  2.0       25000.0   \n",
       "\n",
       "                         Employer_Name    ...    Interest_Rate Processing_Fee  \\\n",
       "0                              CYBOSOL    ...              NaN            NaN   \n",
       "1  TATA CONSULTANCY SERVICES LTD (TCS)    ...            13.25            NaN   \n",
       "2              ALCHEMIST HOSPITALS LTD    ...              NaN            NaN   \n",
       "3                     BIHAR GOVERNMENT    ...              NaN            NaN   \n",
       "4                 GLOBAL EDGE SOFTWARE    ...              NaN            NaN   \n",
       "\n",
       "   EMI_Loan_Submitted Filled_Form  Device_Type  Var2  Source  Var4  LoggedIn  \\\n",
       "0                 NaN           N  Web-browser     G    S122     1         0   \n",
       "1              6762.9           N  Web-browser     G    S122     3         0   \n",
       "2                 NaN           N  Web-browser     B    S143     1         0   \n",
       "3                 NaN           N  Web-browser     B    S143     3         0   \n",
       "4                 NaN           N  Web-browser     B    S134     3         1   \n",
       "\n",
       "  Disbursed  \n",
       "0         0  \n",
       "1         0  \n",
       "2         0  \n",
       "3         0  \n",
       "4         0  \n",
       "\n",
       "[5 rows x 26 columns]"
      ]
     },
     "execution_count": 7,
     "metadata": {},
     "output_type": "execute_result"
    }
   ],
   "source": [
    "data_new.head()"
   ]
  },
  {
   "cell_type": "markdown",
   "metadata": {},
   "source": [
    "### Wyliczenie sensownego wieku (w dniach) na podstawie daty urodzenia i daty złożenia wniosku\n",
    "#### Correcting Date of birth"
   ]
  },
  {
   "cell_type": "code",
   "execution_count": 8,
   "metadata": {
    "scrolled": true
   },
   "outputs": [],
   "source": [
    "data_new['DOB_new'] = ['-'.join([item.split('-')[0],item.split('-')[1],'19' + item.split('-')[2]]) for item in data['DOB']]"
   ]
  },
  {
   "cell_type": "code",
   "execution_count": 9,
   "metadata": {},
   "outputs": [],
   "source": [
    "data_new['DOB_new'] = pd.to_datetime(data_new['DOB_new'])"
   ]
  },
  {
   "cell_type": "markdown",
   "metadata": {},
   "source": [
    "#### Correcting Lead Creation Date"
   ]
  },
  {
   "cell_type": "code",
   "execution_count": 10,
   "metadata": {},
   "outputs": [],
   "source": [
    "data_new['Lead_Creation_Date_new'] = pd.to_datetime(data_new['Lead_Creation_Date'])"
   ]
  },
  {
   "cell_type": "markdown",
   "metadata": {},
   "source": [
    "#### Creating Age in Days when lead was created"
   ]
  },
  {
   "cell_type": "code",
   "execution_count": 11,
   "metadata": {},
   "outputs": [],
   "source": [
    "data_new['Age_In_Days'] = (data_new['Lead_Creation_Date_new']-data_new['DOB_new']).astype('timedelta64[D]')"
   ]
  },
  {
   "cell_type": "markdown",
   "metadata": {},
   "source": [
    "### Usunięcie niepotrzebnych kolumn i kolumn tymczasowych"
   ]
  },
  {
   "cell_type": "code",
   "execution_count": 12,
   "metadata": {},
   "outputs": [],
   "source": [
    "data_new = data_new.drop(['ID','DOB','Lead_Creation_Date','DOB_new','Lead_Creation_Date_new'], axis=1)"
   ]
  },
  {
   "cell_type": "code",
   "execution_count": 13,
   "metadata": {},
   "outputs": [],
   "source": [
    "data_new = data_new.drop(columns_to_del, axis=1)"
   ]
  },
  {
   "cell_type": "code",
   "execution_count": 14,
   "metadata": {
    "scrolled": true
   },
   "outputs": [
    {
     "data": {
      "text/plain": [
       "Index(['Gender', 'City', 'Monthly_Income', 'Loan_Amount_Applied',\n",
       "       'Loan_Tenure_Applied', 'Existing_EMI', 'Employer_Name',\n",
       "       'Salary_Account', 'Mobile_Verified', 'Var5', 'Var1', 'Filled_Form',\n",
       "       'Device_Type', 'Var2', 'Source', 'Var4', 'Disbursed', 'Age_In_Days'],\n",
       "      dtype='object')"
      ]
     },
     "execution_count": 14,
     "metadata": {},
     "output_type": "execute_result"
    }
   ],
   "source": [
    "data_new.columns"
   ]
  },
  {
   "cell_type": "markdown",
   "metadata": {},
   "source": [
    "### Czyszczenie danych - przygotowanie pod modelowanie"
   ]
  },
  {
   "cell_type": "code",
   "execution_count": 15,
   "metadata": {
    "scrolled": true
   },
   "outputs": [
    {
     "name": "stdout",
     "output_type": "stream",
     "text": [
      "<class 'pandas.core.frame.DataFrame'>\n",
      "RangeIndex: 87020 entries, 0 to 87019\n",
      "Data columns (total 18 columns):\n",
      "Gender                 87020 non-null object\n",
      "City                   86017 non-null object\n",
      "Monthly_Income         87020 non-null int64\n",
      "Loan_Amount_Applied    86949 non-null float64\n",
      "Loan_Tenure_Applied    86949 non-null float64\n",
      "Existing_EMI           86949 non-null float64\n",
      "Employer_Name          86949 non-null object\n",
      "Salary_Account         75256 non-null object\n",
      "Mobile_Verified        87020 non-null object\n",
      "Var5                   87020 non-null int64\n",
      "Var1                   87020 non-null object\n",
      "Filled_Form            87020 non-null object\n",
      "Device_Type            87020 non-null object\n",
      "Var2                   87020 non-null object\n",
      "Source                 87020 non-null object\n",
      "Var4                   87020 non-null int64\n",
      "Disbursed              87020 non-null int64\n",
      "Age_In_Days            87020 non-null float64\n",
      "dtypes: float64(4), int64(4), object(10)\n",
      "memory usage: 12.0+ MB\n"
     ]
    }
   ],
   "source": [
    "data_new.info()"
   ]
  },
  {
   "cell_type": "code",
   "execution_count": 16,
   "metadata": {
    "scrolled": true
   },
   "outputs": [
    {
     "data": {
      "text/plain": [
       "Gender                     0\n",
       "City                    1003\n",
       "Monthly_Income             0\n",
       "Loan_Amount_Applied       71\n",
       "Loan_Tenure_Applied       71\n",
       "Existing_EMI              71\n",
       "Employer_Name             71\n",
       "Salary_Account         11764\n",
       "Mobile_Verified            0\n",
       "Var5                       0\n",
       "Var1                       0\n",
       "Filled_Form                0\n",
       "Device_Type                0\n",
       "Var2                       0\n",
       "Source                     0\n",
       "Var4                       0\n",
       "Disbursed                  0\n",
       "Age_In_Days                0\n",
       "dtype: int64"
      ]
     },
     "execution_count": 16,
     "metadata": {},
     "output_type": "execute_result"
    }
   ],
   "source": [
    "null_search = data_new.isnull().sum()\n",
    "null_search"
   ]
  },
  {
   "cell_type": "markdown",
   "metadata": {},
   "source": [
    "#### Zgrupowanie mało istotnych wartości dla poszczególnych kolumn oraz uzupełnienie pustych wartości \n",
    "Wszystkie wartości pojawiające się mniej niż 1% w całej próbce zmieniamy na OTHER"
   ]
  },
  {
   "cell_type": "code",
   "execution_count": 17,
   "metadata": {},
   "outputs": [],
   "source": [
    "OTHER_TRESHOLD = 1"
   ]
  },
  {
   "cell_type": "markdown",
   "metadata": {},
   "source": [
    "#### Kolumna: VAR1"
   ]
  },
  {
   "cell_type": "code",
   "execution_count": 18,
   "metadata": {
    "scrolled": true
   },
   "outputs": [
    {
     "data": {
      "text/plain": [
       "array(['HBXX', 'HBXA', 'HAXM', 'HAXB', 'HBXC', 'HBXD', 'HBXH', 'HAXA',\n",
       "       'HBXB', 'HAYT', 'HCXD', 'HVYS', 'HAVC', 'HCXG', 'HAZD', 'HCYS',\n",
       "       'HCXF', 'HAXC', 'HAXF'], dtype=object)"
      ]
     },
     "execution_count": 18,
     "metadata": {},
     "output_type": "execute_result"
    }
   ],
   "source": [
    "data_new['Var1'].unique()"
   ]
  },
  {
   "cell_type": "code",
   "execution_count": 19,
   "metadata": {
    "scrolled": true
   },
   "outputs": [
    {
     "name": "stdout",
     "output_type": "stream",
     "text": [
      "0 ::: HBXX ::: 59294 ::: 68.13835899793152  :::  68.13835899793152\n",
      "1 ::: HBXC ::: 9010 ::: 10.35394162261549  :::  78.49230062054701\n",
      "2 ::: HBXB ::: 4479 ::: 5.147092622385658  :::  83.63939324293267\n",
      "3 ::: HAXA ::: 2909 ::: 3.3429096759365664  :::  86.98230291886924\n",
      "4 ::: HBXA ::: 2123 ::: 2.4396690415996325  :::  89.42197196046887\n",
      "5 ::: HAXB ::: 2011 ::: 2.310962997012181  :::  91.73293495748105\n",
      "6 ::: HBXD ::: 1964 ::: 2.2569524247299473  :::  93.989887382211\n",
      "7 ::: HAXC ::: 1536 ::: 1.7651114686279015  :::  95.7549988508389\n",
      "8 ::: HBXH ::: 970 ::: 1.1146862790163181  :::  96.86968512985523\n",
      "9 ::: HCXF ::: 722 ::: 0.8296943231441047  :::  97.69937945299932\n",
      "10 ::: HAYT ::: 508 ::: 0.5837738450930821  :::  98.2831532980924\n",
      "11 ::: HAVC ::: 384 ::: 0.44127786715697537  :::  98.72443116524938\n",
      "12 ::: HAXM ::: 268 ::: 0.30797517811997244  :::  99.03240634336935\n",
      "13 ::: HCXD ::: 237 ::: 0.27235118363594574  :::  99.3047575270053\n",
      "14 ::: HCYS ::: 217 ::: 0.24936796138818662  :::  99.55412548839348\n",
      "15 ::: HVYS ::: 186 ::: 0.21374396690415995  :::  99.76786945529764\n",
      "16 ::: HAZD ::: 109 ::: 0.12525856125028728  :::  99.89312801654793\n",
      "17 ::: HCXG ::: 78 ::: 0.08963456676626062  :::  99.98276258331418\n",
      "18 ::: HAXF ::: 15 ::: 0.01723741668581935  :::  100.0\n"
     ]
    }
   ],
   "source": [
    "suma = 0\n",
    "for _, item in enumerate(data_new.Var1.value_counts()):\n",
    "    suma += item / data_new.shape[0]\n",
    "    print(_, ':::', data_new.Var1.value_counts().index[_], ':::' , item, ':::',100 * (item / data_new.shape[0]) , ' ::: ' ,str(suma*100))"
   ]
  },
  {
   "cell_type": "code",
   "execution_count": 20,
   "metadata": {},
   "outputs": [],
   "source": [
    "map_var1 = dict()\n",
    "for _, item in enumerate(data_new.Var1.value_counts()):\n",
    "    if 100 * (item / data_new.shape[0]) < OTHER_TRESHOLD:\n",
    "        key = data_new.Var1.value_counts().index[_]\n",
    "        map_var1[key] = 'OTHER'"
   ]
  },
  {
   "cell_type": "code",
   "execution_count": 21,
   "metadata": {},
   "outputs": [],
   "source": [
    "data_new.Var1.replace(to_replace=map_var1, inplace=True)"
   ]
  },
  {
   "cell_type": "code",
   "execution_count": 22,
   "metadata": {
    "scrolled": true
   },
   "outputs": [
    {
     "name": "stdout",
     "output_type": "stream",
     "text": [
      "0 ::: HBXX ::: 59294 ::: 68.13835899793152  :::  68.13835899793152\n",
      "1 ::: HBXC ::: 9010 ::: 10.35394162261549  :::  78.49230062054701\n",
      "2 ::: HBXB ::: 4479 ::: 5.147092622385658  :::  83.63939324293267\n",
      "3 ::: HAXA ::: 2909 ::: 3.3429096759365664  :::  86.98230291886924\n",
      "4 ::: OTHER ::: 2724 ::: 3.1303148701447943  :::  90.11261778901402\n",
      "5 ::: HBXA ::: 2123 ::: 2.4396690415996325  :::  92.55228683061367\n",
      "6 ::: HAXB ::: 2011 ::: 2.310962997012181  :::  94.86324982762584\n",
      "7 ::: HBXD ::: 1964 ::: 2.2569524247299473  :::  97.1202022523558\n",
      "8 ::: HAXC ::: 1536 ::: 1.7651114686279015  :::  98.88531372098369\n",
      "9 ::: HBXH ::: 970 ::: 1.1146862790163181  :::  100.0\n"
     ]
    }
   ],
   "source": [
    "suma = 0\n",
    "for _, item in enumerate(data_new.Var1.value_counts()):\n",
    "    suma += item / data_new.shape[0]\n",
    "    print(_, ':::', data_new.Var1.value_counts().index[_], ':::' , item, ':::',100 * (item / data_new.shape[0]) , ' ::: ' ,str(suma*100))"
   ]
  },
  {
   "cell_type": "markdown",
   "metadata": {},
   "source": [
    "#### Kolumna: VAR2"
   ]
  },
  {
   "cell_type": "code",
   "execution_count": 23,
   "metadata": {},
   "outputs": [
    {
     "name": "stdout",
     "output_type": "stream",
     "text": [
      "0 ::: B ::: 37280 ::: 42.84072626982303  :::  42.84072626982303\n",
      "1 ::: G ::: 33032 ::: 37.95908986439899  :::  80.79981613422203\n",
      "2 ::: C ::: 14210 ::: 16.329579407032867  :::  97.1293955412549\n",
      "3 ::: E ::: 1315 ::: 1.5111468627901632  :::  98.64054240404505\n",
      "4 ::: D ::: 634 ::: 0.7285681452539646  :::  99.36911054929901\n",
      "5 ::: F ::: 544 ::: 0.6251436451390485  :::  99.99425419443806\n",
      "6 ::: A ::: 5 ::: 0.005745805561939783  :::  100.0\n"
     ]
    }
   ],
   "source": [
    "suma = 0\n",
    "for _, item in enumerate(data_new.Var2.value_counts()):\n",
    "    suma += item / data_new.shape[0]\n",
    "    print(_, ':::', data_new.Var2.value_counts().index[_], ':::' , item, ':::',100 * (item / data_new.shape[0]) , ' ::: ' ,str(suma*100))"
   ]
  },
  {
   "cell_type": "code",
   "execution_count": 24,
   "metadata": {},
   "outputs": [],
   "source": [
    "map_var2 = dict()\n",
    "for _, item in enumerate(data_new.Var2.value_counts()):\n",
    "    if 100 * (item / data_new.shape[0]) < OTHER_TRESHOLD:\n",
    "        key = data_new.Var2.value_counts().index[_]\n",
    "        map_var2[key] = 'OTHER'"
   ]
  },
  {
   "cell_type": "code",
   "execution_count": 25,
   "metadata": {},
   "outputs": [],
   "source": [
    "data_new.Var2.replace(to_replace=map_var2, inplace=True)"
   ]
  },
  {
   "cell_type": "code",
   "execution_count": 26,
   "metadata": {
    "scrolled": true
   },
   "outputs": [
    {
     "name": "stdout",
     "output_type": "stream",
     "text": [
      "0 ::: B ::: 37280 ::: 42.84072626982303  :::  42.84072626982303\n",
      "1 ::: G ::: 33032 ::: 37.95908986439899  :::  80.79981613422203\n",
      "2 ::: C ::: 14210 ::: 16.329579407032867  :::  97.1293955412549\n",
      "3 ::: E ::: 1315 ::: 1.5111468627901632  :::  98.64054240404505\n",
      "4 ::: OTHER ::: 1183 ::: 1.3594575959549529  :::  100.0\n"
     ]
    }
   ],
   "source": [
    "suma = 0\n",
    "for _, item in enumerate(data_new.Var2.value_counts()):\n",
    "    suma += item / data_new.shape[0]\n",
    "    print(_, ':::', data_new.Var2.value_counts().index[_], ':::' , item, ':::',100 * (item / data_new.shape[0]) , ' ::: ' ,str(suma*100))"
   ]
  },
  {
   "cell_type": "markdown",
   "metadata": {},
   "source": [
    "#### Kolumna: SALARY_ACCOUNT"
   ]
  },
  {
   "cell_type": "markdown",
   "metadata": {},
   "source": [
    "wyświetlenie ~20 najczęściej pojawiających się banków"
   ]
  },
  {
   "cell_type": "code",
   "execution_count": 27,
   "metadata": {
    "scrolled": true
   },
   "outputs": [
    {
     "name": "stdout",
     "output_type": "stream",
     "text": [
      "0 ::: HDFC Bank ::: 17695 ::: 20.334405883704896  :::  20.334405883704896\n",
      "1 ::: ICICI Bank ::: 13636 ::: 15.669960928522178  :::  36.004366812227076\n",
      "2 ::: State Bank of India ::: 11843 ::: 13.609515054010574  :::  49.61388186623765\n",
      "3 ::: Axis Bank ::: 8783 ::: 10.093082050103424  :::  59.706963916341074\n",
      "4 ::: Citibank ::: 2376 ::: 2.7304068030337856  :::  62.437370719374854\n",
      "5 ::: Kotak Bank ::: 2067 ::: 2.375316019305907  :::  64.81268673868075\n",
      "6 ::: IDBI Bank ::: 1550 ::: 1.7811997242013329  :::  66.5938864628821\n",
      "7 ::: Punjab National Bank ::: 1201 ::: 1.3801424959779363  :::  67.97402895886002\n",
      "8 ::: Bank of India ::: 1170 ::: 1.3445185014939096  :::  69.31854746035393\n",
      "9 ::: Bank of Baroda ::: 1126 ::: 1.2939554125488393  :::  70.61250287290277\n",
      "10 ::: Standard Chartered Bank ::: 995 ::: 1.143415306826017  :::  71.75591817972878\n",
      "11 ::: Canara Bank ::: 990 ::: 1.1376695012640774  :::  72.89358768099287\n",
      "12 ::: Union Bank of India ::: 951 ::: 1.0928522178809468  :::  73.98643989887381\n",
      "13 ::: Yes Bank ::: 779 ::: 0.8951965065502183  :::  74.88163640542403\n",
      "14 ::: ING Vysya ::: 678 ::: 0.7791312341990347  :::  75.66076763962307\n",
      "15 ::: Corporation bank ::: 649 ::: 0.745805561939784  :::  76.40657320156285\n",
      "16 ::: Indian Overseas Bank ::: 612 ::: 0.7032866007814296  :::  77.10985980234429\n",
      "17 ::: State Bank of Hyderabad ::: 597 ::: 0.6860491840956102  :::  77.79590898643988\n",
      "18 ::: Indian Bank ::: 555 ::: 0.637784417375316  :::  78.43369340381521\n",
      "19 ::: Oriental Bank of Commerce ::: 524 ::: 0.6021604228912893  :::  79.03585382670649\n",
      "20 ::: IndusInd Bank ::: 503 ::: 0.5780280395311423  :::  79.61388186623763\n",
      "21 ::: Andhra Bank ::: 485 ::: 0.5573431395081591  :::  80.1712250057458\n"
     ]
    }
   ],
   "source": [
    "suma = 0\n",
    "for _, item in enumerate(data_new.Salary_Account.value_counts()):\n",
    "    suma += item / data_new.shape[0]\n",
    "    print(_, ':::', data_new.Salary_Account.value_counts().index[_], ':::' , item, ':::',100 * (item / data_new.shape[0]) , ' ::: ' ,str(suma*100))\n",
    "    if _ > 20:\n",
    "        break"
   ]
  },
  {
   "cell_type": "code",
   "execution_count": 28,
   "metadata": {},
   "outputs": [],
   "source": [
    "map_salaryacc = dict()\n",
    "for _, item in enumerate(data_new.Salary_Account.value_counts()):\n",
    "    if 100 * (item / data_new.shape[0]) < OTHER_TRESHOLD:\n",
    "        key = data_new.Salary_Account.value_counts().index[_]\n",
    "        map_salaryacc[key] = 'OTHER'"
   ]
  },
  {
   "cell_type": "code",
   "execution_count": 29,
   "metadata": {},
   "outputs": [],
   "source": [
    "data_new.Salary_Account.replace(to_replace=map_salaryacc, inplace=True)"
   ]
  },
  {
   "cell_type": "markdown",
   "metadata": {},
   "source": [
    "##### Puste wartość w kolumnie Salary_Account \n",
    "Puste wartości mogą oznaczać, że klient otrzymuje wypłatę do ręki co może być istotne w modelowaniu, dlatego uzupełniamy wartością \"None\""
   ]
  },
  {
   "cell_type": "code",
   "execution_count": 30,
   "metadata": {},
   "outputs": [],
   "source": [
    "data_new['Salary_Account'].fillna('None',inplace=True)"
   ]
  },
  {
   "cell_type": "code",
   "execution_count": 31,
   "metadata": {
    "scrolled": false
   },
   "outputs": [
    {
     "name": "stdout",
     "output_type": "stream",
     "text": [
      "0 ::: HDFC Bank ::: 17695 ::: 20.334405883704896  :::  20.334405883704896\n",
      "1 ::: ICICI Bank ::: 13636 ::: 15.669960928522178  :::  36.004366812227076\n",
      "2 ::: State Bank of India ::: 11843 ::: 13.609515054010574  :::  49.61388186623765\n",
      "3 ::: None ::: 11764 ::: 13.518731326131924  :::  63.13261319236957\n",
      "4 ::: OTHER ::: 10873 ::: 12.494828774994254  :::  75.62744196736382\n",
      "5 ::: Axis Bank ::: 8783 ::: 10.093082050103424  :::  85.72052401746724\n",
      "6 ::: Citibank ::: 2376 ::: 2.7304068030337856  :::  88.45093082050101\n",
      "7 ::: Kotak Bank ::: 2067 ::: 2.375316019305907  :::  90.82624683980693\n",
      "8 ::: IDBI Bank ::: 1550 ::: 1.7811997242013329  :::  92.60744656400826\n",
      "9 ::: Punjab National Bank ::: 1201 ::: 1.3801424959779363  :::  93.98758905998619\n",
      "10 ::: Bank of India ::: 1170 ::: 1.3445185014939096  :::  95.3321075614801\n",
      "11 ::: Bank of Baroda ::: 1126 ::: 1.2939554125488393  :::  96.62606297402894\n",
      "12 ::: Standard Chartered Bank ::: 995 ::: 1.143415306826017  :::  97.76947828085495\n",
      "13 ::: Canara Bank ::: 990 ::: 1.1376695012640774  :::  98.90714778211903\n",
      "14 ::: Union Bank of India ::: 951 ::: 1.0928522178809468  :::  99.99999999999997\n"
     ]
    }
   ],
   "source": [
    "suma = 0\n",
    "for _, item in enumerate(data_new.Salary_Account.value_counts()):\n",
    "    suma += item / data_new.shape[0]\n",
    "    print(_, ':::', data_new.Salary_Account.value_counts().index[_], ':::' , item, ':::',100 * (item / data_new.shape[0]) , ' ::: ' ,str(suma*100))"
   ]
  },
  {
   "cell_type": "markdown",
   "metadata": {},
   "source": [
    "#### Kolumna: CITY"
   ]
  },
  {
   "cell_type": "markdown",
   "metadata": {},
   "source": [
    "wyświetlenie ~20 najczęściej pojawiających się miast"
   ]
  },
  {
   "cell_type": "code",
   "execution_count": 32,
   "metadata": {},
   "outputs": [
    {
     "name": "stdout",
     "output_type": "stream",
     "text": [
      "0 ::: Delhi ::: 12527 ::: 14.395541254883934  :::  14.395541254883934\n",
      "1 ::: Bengaluru ::: 10824 ::: 12.438519880487245  :::  26.83406113537118\n",
      "2 ::: Mumbai ::: 10795 ::: 12.405194208227993  :::  39.23925534359917\n",
      "3 ::: Hyderabad ::: 7272 ::: 8.356699609285222  :::  47.5959549528844\n",
      "4 ::: Chennai ::: 6916 ::: 7.9475982532751095  :::  55.5435532061595\n",
      "5 ::: Pune ::: 5207 ::: 5.983681912204091  :::  61.527235118363585\n",
      "6 ::: Kolkata ::: 2888 ::: 3.318777292576419  :::  64.84601241094\n",
      "7 ::: Ahmedabad ::: 1788 ::: 2.054700068949667  :::  66.90071247988968\n",
      "8 ::: Jaipur ::: 1331 ::: 1.5295334405883705  :::  68.43024592047804\n",
      "9 ::: Gurgaon ::: 1212 ::: 1.3927832682142036  :::  69.82302918869226\n",
      "10 ::: Coimbatore ::: 1147 ::: 1.3180877959089863  :::  71.14111698460124\n",
      "11 ::: Thane ::: 905 ::: 1.0399908067111008  :::  72.18110779131234\n",
      "12 ::: Chandigarh ::: 870 ::: 0.9997701677775225  :::  73.18087795908987\n",
      "13 ::: Surat ::: 802 ::: 0.9216272121351412  :::  74.102505171225\n",
      "14 ::: Visakhapatnam ::: 764 ::: 0.877959089864399  :::  74.98046426108941\n",
      "15 ::: Indore ::: 734 ::: 0.8434842564927603  :::  75.82394851758217\n",
      "16 ::: Vadodara ::: 624 ::: 0.717076534130085  :::  76.54102505171225\n",
      "17 ::: Nagpur ::: 594 ::: 0.6826017007584464  :::  77.2236267524707\n",
      "18 ::: Lucknow ::: 580 ::: 0.666513445185015  :::  77.89014019765571\n",
      "19 ::: Ghaziabad ::: 560 ::: 0.6435302229372558  :::  78.53367042059297\n",
      "20 ::: Bhopal ::: 513 ::: 0.5895196506550219  :::  79.12319007124799\n",
      "21 ::: Kochi ::: 492 ::: 0.5653872672948748  :::  79.68857733854287\n"
     ]
    }
   ],
   "source": [
    "suma = 0\n",
    "for _, item in enumerate(data_new.City.value_counts()):\n",
    "    suma += item / data_new.shape[0]\n",
    "    print(_, ':::', data_new.City.value_counts().index[_], ':::' , item, ':::',100 * (item / data_new.shape[0]) , ' ::: ' ,str(suma*100))\n",
    "    if _ > 20:\n",
    "        break"
   ]
  },
  {
   "cell_type": "code",
   "execution_count": 33,
   "metadata": {},
   "outputs": [],
   "source": [
    "map_city = dict()\n",
    "for _, item in enumerate(data_new.City.value_counts()):\n",
    "    if 100 * (item / data_new.shape[0]) < OTHER_TRESHOLD:\n",
    "        key = data_new.City.value_counts().index[_]\n",
    "        map_city[key] = 'OTHER'"
   ]
  },
  {
   "cell_type": "code",
   "execution_count": 34,
   "metadata": {},
   "outputs": [],
   "source": [
    "data_new.City.replace(to_replace=map_city, inplace=True)"
   ]
  },
  {
   "cell_type": "markdown",
   "metadata": {},
   "source": [
    "##### Wypełnianie pustych wartości w polu City wpisem 'OTHER'"
   ]
  },
  {
   "cell_type": "code",
   "execution_count": 35,
   "metadata": {},
   "outputs": [],
   "source": [
    "data_new['City'].fillna('OTHER',inplace=True)"
   ]
  },
  {
   "cell_type": "code",
   "execution_count": 36,
   "metadata": {
    "scrolled": true
   },
   "outputs": [
    {
     "data": {
      "text/plain": [
       "OTHER         24208\n",
       "Delhi         12527\n",
       "Bengaluru     10824\n",
       "Mumbai        10795\n",
       "Hyderabad      7272\n",
       "Chennai        6916\n",
       "Pune           5207\n",
       "Kolkata        2888\n",
       "Ahmedabad      1788\n",
       "Jaipur         1331\n",
       "Gurgaon        1212\n",
       "Coimbatore     1147\n",
       "Thane           905\n",
       "Name: City, dtype: int64"
      ]
     },
     "execution_count": 36,
     "metadata": {},
     "output_type": "execute_result"
    }
   ],
   "source": [
    "data_new.City.value_counts()"
   ]
  },
  {
   "cell_type": "markdown",
   "metadata": {},
   "source": [
    "#### Kolumna: EMPLOYER NAME"
   ]
  },
  {
   "cell_type": "code",
   "execution_count": 37,
   "metadata": {
    "scrolled": true
   },
   "outputs": [
    {
     "data": {
      "text/plain": [
       "0                                                     4914\n",
       "TATA CONSULTANCY SERVICES LTD (TCS)                    550\n",
       "COGNIZANT TECHNOLOGY SOLUTIONS INDIA PVT LTD           404\n",
       "ACCENTURE SERVICES PVT LTD                             324\n",
       "GOOGLE                                                 301\n",
       "HCL TECHNOLOGIES LTD                                   250\n",
       "ICICI BANK LTD                                         239\n",
       "INDIAN AIR FORCE                                       191\n",
       "INFOSYS TECHNOLOGIES                                   181\n",
       "GENPACT                                                179\n",
       "IBM CORPORATION                                        173\n",
       "INDIAN ARMY                                            171\n",
       "TYPE SLOWLY FOR AUTO FILL                              162\n",
       "WIPRO TECHNOLOGIES                                     155\n",
       "HDFC BANK LTD                                          148\n",
       "IKYA HUMAN CAPITAL SOLUTIONS LTD                       142\n",
       "STATE GOVERNMENT                                       134\n",
       "INDIAN RAILWAY                                         130\n",
       "INDIAN NAVY                                            128\n",
       "ARMY                                                   126\n",
       "WIPRO BPO                                              116\n",
       "OTHERS                                                 115\n",
       "TECH MAHINDRA LTD                                      113\n",
       "CONVERGYS INDIA SERVICES PVT LTD                       113\n",
       "SERCO BPO PVT LTD                                      108\n",
       "IBM GLOBAL SERVICES INDIA LTD                          104\n",
       "CONCENTRIX DAKSH SERVICES INDIA PVT LTD                 99\n",
       "CAPGEMINI INDIA PVT LTD                                 96\n",
       "RANDSTAD INDIA LTD                                      96\n",
       "ADECCO INDIA PVT LTD                                    95\n",
       "                                                      ... \n",
       "PLATINUS TECHNOLOGIES                                    1\n",
       "SHREE SAI COLLECTION                                     1\n",
       "ARVATO BERTELLSMANN                                      1\n",
       "SHIJIN JOSE                                              1\n",
       "STATE GOVERNMENTGOVERNME                                 1\n",
       "GHMC                                                     1\n",
       "MIRRIAD AVT PVT LTD                                      1\n",
       "EMERGE BPO PVT LTD                                       1\n",
       "VIJAY KOLI                                               1\n",
       "REILLETEC                                                1\n",
       "G.ANAND                                                  1\n",
       "HDFC BANK CSE &AMP; COEX ACCOUNTS                        1\n",
       "SUKMAR BAIDYA                                            1\n",
       "AIMCAD BIOTECH                                           1\n",
       "LOKESH BHUMARKAR                                         1\n",
       "KAMAL NISHTHA AADARSH VIDHYA MANDIR SEC.SCHOOL JOD       1\n",
       "RADAAN MEDIA WORKS INDIA LTD                             1\n",
       "VALUE BUJGET HOUSING CORPORATION                         1\n",
       "TOMASETTO ACHILLE INDIA PVT LTD                          1\n",
       "MAHIMA TEXTILE                                           1\n",
       "ERM INDIA PVT LTD                                        1\n",
       "LENIN KUMAR                                              1\n",
       "JEENA AND COMPANY PVT LTD                                1\n",
       "SSD                                                      1\n",
       "GUJRAT INDUSTRIES POWER COMPNY LTD                       1\n",
       "NORTH EAST REGION FINSERVICES LIMITED                    1\n",
       "MAHESH KABRA                                             1\n",
       "WB GOVT                                                  1\n",
       "SUGUNA MOTORS AND PUMPS                                  1\n",
       "CHOLAMANDALAM DBS FINANCE LTD (CDFL)                     1\n",
       "Name: Employer_Name, Length: 43567, dtype: int64"
      ]
     },
     "execution_count": 37,
     "metadata": {},
     "output_type": "execute_result"
    }
   ],
   "source": [
    "data_new.Employer_Name.value_counts()"
   ]
  },
  {
   "cell_type": "markdown",
   "metadata": {},
   "source": [
    "wyświetlenie ~30 najczęściej pojawiających się pracodawców"
   ]
  },
  {
   "cell_type": "code",
   "execution_count": 38,
   "metadata": {
    "scrolled": true
   },
   "outputs": [
    {
     "name": "stdout",
     "output_type": "stream",
     "text": [
      "0 ::: 0 ::: 4914 ::: 5.64697770627442  :::  5.64697770627442\n",
      "1 ::: TATA CONSULTANCY SERVICES LTD (TCS) ::: 550 ::: 0.6320386118133762  :::  6.2790163180877965\n",
      "2 ::: COGNIZANT TECHNOLOGY SOLUTIONS INDIA PVT LTD ::: 404 ::: 0.4642610894047346  :::  6.74327740749253\n",
      "3 ::: ACCENTURE SERVICES PVT LTD ::: 324 ::: 0.37232820041369796  :::  7.115605607906228\n",
      "4 ::: GOOGLE ::: 301 ::: 0.345897494828775  :::  7.461503102735002\n",
      "5 ::: HCL TECHNOLOGIES LTD ::: 250 ::: 0.2872902780969892  :::  7.748793380831992\n",
      "6 ::: ICICI BANK LTD ::: 239 ::: 0.2746495058607217  :::  8.023442886692713\n",
      "7 ::: INDIAN AIR FORCE ::: 191 ::: 0.21948977246609974  :::  8.242932659158814\n",
      "8 ::: INFOSYS TECHNOLOGIES ::: 181 ::: 0.20799816134222018  :::  8.450930820501034\n",
      "9 ::: GENPACT ::: 179 ::: 0.20569983911744427  :::  8.656630659618477\n",
      "10 ::: IBM CORPORATION ::: 173 ::: 0.19880487244311654  :::  8.855435532061593\n",
      "11 ::: INDIAN ARMY ::: 171 ::: 0.19650655021834063  :::  9.051942082279934\n",
      "12 ::: TYPE SLOWLY FOR AUTO FILL ::: 162 ::: 0.18616410020684898  :::  9.238106182486785\n",
      "13 ::: WIPRO TECHNOLOGIES ::: 155 ::: 0.1781199724201333  :::  9.416226154906918\n",
      "14 ::: HDFC BANK LTD ::: 148 ::: 0.1700758446334176  :::  9.586301999540336\n",
      "15 ::: IKYA HUMAN CAPITAL SOLUTIONS LTD ::: 142 ::: 0.16318087795908987  :::  9.749482877499425\n",
      "16 ::: STATE GOVERNMENT ::: 134 ::: 0.15398758905998622  :::  9.903470466559412\n",
      "17 ::: INDIAN RAILWAY ::: 130 ::: 0.1493909446104344  :::  10.052861411169847\n",
      "18 ::: INDIAN NAVY ::: 128 ::: 0.14709262238565848  :::  10.199954033555505\n",
      "19 ::: ARMY ::: 126 ::: 0.14479430016088257  :::  10.344748333716389\n",
      "20 ::: WIPRO BPO ::: 116 ::: 0.13330268903700299  :::  10.478051022753391\n",
      "21 ::: OTHERS ::: 115 ::: 0.13215352792461502  :::  10.610204550678008\n",
      "22 ::: TECH MAHINDRA LTD ::: 113 ::: 0.1298552056998391  :::  10.740059756377846\n",
      "23 ::: CONVERGYS INDIA SERVICES PVT LTD ::: 113 ::: 0.1298552056998391  :::  10.869914962077685\n",
      "24 ::: SERCO BPO PVT LTD ::: 108 ::: 0.12410940013789934  :::  10.994024362215583\n",
      "25 ::: IBM GLOBAL SERVICES INDIA LTD ::: 104 ::: 0.11951275568834752  :::  11.113537117903931\n",
      "26 ::: CONCENTRIX DAKSH SERVICES INDIA PVT LTD ::: 99 ::: 0.11376695012640771  :::  11.227304068030339\n",
      "27 ::: CAPGEMINI INDIA PVT LTD ::: 96 ::: 0.11031946678924384  :::  11.337623534819583\n",
      "28 ::: RANDSTAD INDIA LTD ::: 96 ::: 0.11031946678924384  :::  11.447943001608825\n",
      "29 ::: ADECCO INDIA PVT LTD ::: 95 ::: 0.10917030567685589  :::  11.557113307285682\n",
      "30 ::: WNS GLOBAL SERVICES PVT LTD ::: 90 ::: 0.10342450011491611  :::  11.6605378074006\n",
      "31 ::: CIPLA LTD ::: 90 ::: 0.10342450011491611  :::  11.763962307515516\n"
     ]
    }
   ],
   "source": [
    "suma = 0\n",
    "for _, item in enumerate(data_new.Employer_Name.value_counts()):\n",
    "    suma += item / data_new.shape[0]\n",
    "    print(_, ':::', data_new.Employer_Name.value_counts().index[_], ':::' , item, ':::',100 * (item / data_new.shape[0]) , ' ::: ' ,str(suma*100))\n",
    "    if _ > 30:\n",
    "        break"
   ]
  },
  {
   "cell_type": "markdown",
   "metadata": {},
   "source": [
    "##### Wypełnienie pustych wierszy w kolumnie wartością \"0\""
   ]
  },
  {
   "cell_type": "code",
   "execution_count": 39,
   "metadata": {},
   "outputs": [],
   "source": [
    "data_new['Employer_Name'].fillna('0',inplace=True)"
   ]
  },
  {
   "cell_type": "markdown",
   "metadata": {},
   "source": [
    "##### Zamiana niewypełnionych i prawdopodobnie niewypełnionych wierszy przy wniosku oraz wypełnionych jako \"OTHERS\" na \"OTHERS\""
   ]
  },
  {
   "cell_type": "code",
   "execution_count": 40,
   "metadata": {},
   "outputs": [],
   "source": [
    "others_emp = ['TYPE SLOWLY FOR AUTO FILL', '0', 'OTHERS']"
   ]
  },
  {
   "cell_type": "code",
   "execution_count": 41,
   "metadata": {},
   "outputs": [],
   "source": [
    "data_new.loc[data_new['Employer_Name'].isin(others_emp), 'Employer_Name'] = 'OTHERS'"
   ]
  },
  {
   "cell_type": "markdown",
   "metadata": {},
   "source": [
    "##### Badanie podobnych wpisów"
   ]
  },
  {
   "cell_type": "code",
   "execution_count": 42,
   "metadata": {
    "scrolled": true
   },
   "outputs": [
    {
     "data": {
      "text/plain": [
       "RANDSTAD INDIA LTD               96\n",
       "RANDSTAD TEAM HR SERVICES LTD     5\n",
       "RANDSTAD INDIA LIMITED            3\n",
       "Name: Employer_Name, dtype: int64"
      ]
     },
     "execution_count": 42,
     "metadata": {},
     "output_type": "execute_result"
    }
   ],
   "source": [
    "data_new.loc[data_new['Employer_Name'].str.contains('RANDSTAD'), 'Employer_Name'].value_counts()"
   ]
  },
  {
   "cell_type": "code",
   "execution_count": 43,
   "metadata": {},
   "outputs": [
    {
     "data": {
      "text/plain": [
       "ADECCO INDIA PVT LTD                           95\n",
       "ADECCO FLEXIONE WORKFORCE SOLUTIONS PVT LTD    12\n",
       "ADECCO                                          2\n",
       "ADECCO INDIA   PVT  LTD                         1\n",
       "ADECCO INDIA PVT. LTD.                          1\n",
       "ADECCO INDIA PUT. LTD.                          1\n",
       "ADECCO PVT LTD                                  1\n",
       "ADECCO INDIA LTD                                1\n",
       "Name: Employer_Name, dtype: int64"
      ]
     },
     "execution_count": 43,
     "metadata": {},
     "output_type": "execute_result"
    }
   ],
   "source": [
    "data_new.loc[data_new['Employer_Name'].str.contains('ADECCO'), 'Employer_Name'].value_counts()"
   ]
  },
  {
   "cell_type": "code",
   "execution_count": 44,
   "metadata": {},
   "outputs": [
    {
     "data": {
      "text/plain": [
       "CAPGEMINI INDIA PVT LTD                      96\n",
       "CAPGEMINI CONSULTING INDIA PVT LTD           59\n",
       "CAPGEMINI                                     7\n",
       "CAPGEMINI BUSINESS SERVICES I LTD             2\n",
       "CAPGEMINI BUSINESS SERVICES LTS               1\n",
       "CAPGEMINI CONSULTING IND...                   1\n",
       "CAPGEMINI BUSINESS INDIA SERVICE LTD          1\n",
       "CAPGEMINI BUSINESS SERVICES INDIA PVT LTD     1\n",
       "CAPGEMINI BUSINESS SERVICE INDIA LIMITED      1\n",
       "CAPGEMINI BUSINESS SERVICE INDIA LTD          1\n",
       "CAPGEMINI INDIA                               1\n",
       "Name: Employer_Name, dtype: int64"
      ]
     },
     "execution_count": 44,
     "metadata": {},
     "output_type": "execute_result"
    }
   ],
   "source": [
    "data_new.loc[data_new['Employer_Name'].str.contains('CAPGEMINI'), 'Employer_Name'].value_counts()"
   ]
  },
  {
   "cell_type": "code",
   "execution_count": 45,
   "metadata": {
    "scrolled": true
   },
   "outputs": [
    {
     "data": {
      "text/plain": [
       "HEWLETT PACKARD GLOBALSOFT PVT LTD                    79\n",
       "HCL - HEWLETT-PACKARD LTD                             21\n",
       "HEWLETT PACKARD INDIA SALES PVT LTD                   12\n",
       "HEWLETT PACKARD FINANCIAL SERVICES INDIA PVT LTD       7\n",
       "HEWLETT-PACKARD GLOBAL SOFT PVT LTD                    5\n",
       "HEWLETT PACKARD GLOBALSOFT LIMITED                     3\n",
       "HEWLETT PACKARD                                        3\n",
       "HEWLETT PACKARD INDIA PVT LTD                          3\n",
       "HEWLETT PACKARD INDIA SOFTWARE OPERATION PVT LTD       3\n",
       "HEWLETT PACKARD GLOBAL E BUSINESS                      2\n",
       "HEWLETT PACKARD GLOBAL E BUSINESS OPERATIONS           2\n",
       "HEWLETT PACKARD GLOBAL SOFT PVT LTD                    1\n",
       "HEWLETT-PACKARD INDIA GLOBAL EBUSINESS                 1\n",
       "HEWLETT PACKARD GLOBAL E BUSINESS OPERATION PVT LT     1\n",
       "HEWLETT PACKARD                                        1\n",
       "HEWLETT PACKARD GLOBEL E BUSSINESS SERVICES PVT LT     1\n",
       "HEWLETT-PACKARD                                        1\n",
       "Name: Employer_Name, dtype: int64"
      ]
     },
     "execution_count": 45,
     "metadata": {},
     "output_type": "execute_result"
    }
   ],
   "source": [
    "data_new.loc[data_new['Employer_Name'].str.contains('HEWLETT'), 'Employer_Name'].value_counts()"
   ]
  },
  {
   "cell_type": "code",
   "execution_count": 46,
   "metadata": {},
   "outputs": [
    {
     "data": {
      "text/plain": [
       "GOOGLE                    301\n",
       "GOOGLE INDIA PVT. LTD       2\n",
       "GOOGLEGOOGLEGOOGLE          2\n",
       "GOOGLEGOOGLE                1\n",
       "GOOGLE INDIA PVT. LTD.      1\n",
       "Name: Employer_Name, dtype: int64"
      ]
     },
     "execution_count": 46,
     "metadata": {},
     "output_type": "execute_result"
    }
   ],
   "source": [
    "data_new.loc[data_new['Employer_Name'].str.contains('GOOGLE'), 'Employer_Name'].value_counts()"
   ]
  },
  {
   "cell_type": "code",
   "execution_count": 47,
   "metadata": {
    "scrolled": true
   },
   "outputs": [
    {
     "data": {
      "text/plain": [
       "IBM CORPORATION                             173\n",
       "IBM GLOBAL SERVICES INDIA LTD               104\n",
       "IBM DAKSH                                    57\n",
       "IBM BUSINESS CONSULTING SERVICES             55\n",
       "IBM INDIA PVT LTD                            40\n",
       "IBM                                          18\n",
       "IBM INDIA                                     8\n",
       "IBM RESEARCH LABS                             8\n",
       "IBM INDIA PVT. LTD.                           2\n",
       "IBM INDIA PRIVATE LIMITED                     2\n",
       "IBM INDIA                                     2\n",
       "IBM INDIA PVT.LTD.                            1\n",
       "IBM INDIA  PVT LTD                            1\n",
       "IBM INDIA PRI                                 1\n",
       "IBM IND PVT LTD                               1\n",
       "IBM INDIA                                     1\n",
       "IBM INDIA PVT.LTD                             1\n",
       "NETWORK SOLUTIONS PVT LTD AN IBM COMPANY      1\n",
       "IBM GLOBAL SERVICES INDI...                   1\n",
       "IBM LTD                                       1\n",
       "IBM INDIA LTD                                 1\n",
       "IBM SURITY                                    1\n",
       "NSIBM                                         1\n",
       "IBM INDIA PT LT                               1\n",
       "SRIKANTH IBM INDIA PVT LTD                    1\n",
       "IBM INDIA LTD.                                1\n",
       "Name: Employer_Name, dtype: int64"
      ]
     },
     "execution_count": 47,
     "metadata": {},
     "output_type": "execute_result"
    }
   ],
   "source": [
    "data_new.loc[data_new['Employer_Name'].str.contains('IBM'), 'Employer_Name'].value_counts()"
   ]
  },
  {
   "cell_type": "code",
   "execution_count": 48,
   "metadata": {
    "scrolled": true
   },
   "outputs": [
    {
     "data": {
      "text/plain": [
       "TATA CONSULTANCY SERVICES LTD (TCS)                           550\n",
       "TCS ESERVE LTD (TATA CONSULTANCY SERVICES BPO)                 87\n",
       "TATA MOTORS LTD                                                60\n",
       "TATA STEEL LTD                                                 21\n",
       "TATA AIG GENERAL INSURANCE COMPANY LTD                         19\n",
       "TATA TELESERVICES LTD                                          18\n",
       "TATA CAPITAL FINANCIAL SERVICES LTD                            16\n",
       "TATA BUSINESS SUPPORT SERVICES LTD                             16\n",
       "TATA CONSULTANCY SERVICES                                      16\n",
       "TATA ELXSI LTD                                                 14\n",
       "TATA AIA LIFE INSURANCE COMPANY LTD                            13\n",
       "TATA ADVANCED MATERIALS PVT LTD                                13\n",
       "TATA COMMUNICATIONS LTD(FORMERLY VIDESH SANCHAR NIGAM LTD)     12\n",
       "TATA CONSULTANCY SERVICES TCS                                  12\n",
       "TATA MOTOR FINANCE LTD                                         12\n",
       "TATA COMMUNICATIONS TRANSFORMATION SERVICES LTD                 9\n",
       "TATA TECHNOLOGIES INDIA LTD                                     9\n",
       "TATA DOCOMO                                                     9\n",
       "TATA ADVANCED SYSTEMS LTD                                       8\n",
       "TATA STARBUCKS LTD                                              7\n",
       "TATA MOTORS                                                     6\n",
       "TATA COMMUNICATIONS LTD                                         6\n",
       "TATA SKY LTD                                                    6\n",
       "TATA CHEMICALS LTD                                              6\n",
       "TATA POWER                                                      5\n",
       "TATA HOUSING DEVELOPMENT COMPANY LTD                            5\n",
       "TATA ASSET MANAGEMENT LTD                                       5\n",
       "TATA STEEL PROCESSING AND DISTRIBUTION LTD                      5\n",
       "TATA INSTITUTE OF SOCIAL SCIENCES                               5\n",
       "TATA HITACHI CONSTRUCTION MACHINERY COMPANY LTD                 5\n",
       "                                                             ... \n",
       "TATA AUTOCOMP GY BATTERIES LTD                                  1\n",
       "TATA BP SOLAR INDIA LTD                                         1\n",
       "TATA CONSULTANSY SERVICES                                       1\n",
       "TATA CONSALTANCY SERVICES                                       1\n",
       "TATA AIG GENERAL INSURANCE CO LTD                               1\n",
       "TATA STEEL INTERNATIONAL INDIA LTD                              1\n",
       "OM SAI CARS  INDIA PVT LTD - TATA-PCD-DEALER                    1\n",
       "TATA MOTORS                                                     1\n",
       "TATA POWER STRATEGIC ELECTRONICS DIVISION                       1\n",
       "TATA BSS LTD.                                                   1\n",
       "C.K.TATA MOTORS                                                 1\n",
       "TATA REALTY AND INFRASTRUCTURE LTD                              1\n",
       "TATA STARBUCKS LTDSTA                                           1\n",
       "TATASTEELLTD                                                    1\n",
       "TATA TELESERVICES LIMITED                                       1\n",
       "TATA INTERNATIONAL LTD                                          1\n",
       "TATA TECHNOLOGY                                                 1\n",
       "TATA CONSULTANCY LTD                                            1\n",
       "TATA MOTORS FINANCE LTD.                                        1\n",
       "TATA AIG GENERAL INSURANCE COMPANY                              1\n",
       "TATA CUNSULTANCY SERVICES                                       1\n",
       "PARIVARTAN AGRO AND REALESTATAE I PVT LTD                       1\n",
       "STATA GOVT. SERVICE                                             1\n",
       "TCS ESERVE LTD (TATA CONSULTANCY SERVICES )                     1\n",
       "TATA SERVICES LTD                                               1\n",
       "TATA CONSULTANY SERVICES                                        1\n",
       "TATA BUSINESS SUPPORT SE...                                     1\n",
       "TATA BLUESCOPESTEEL LTD                                         1\n",
       "TATA HITACHI CONSTRUCTION MACHINERY COMPANY LTDHIT              1\n",
       "TATA AIA LIFE INSURANCE                                         1\n",
       "Name: Employer_Name, Length: 164, dtype: int64"
      ]
     },
     "execution_count": 48,
     "metadata": {},
     "output_type": "execute_result"
    }
   ],
   "source": [
    "data_new.loc[data_new['Employer_Name'].str.contains('TATA'), 'Employer_Name'].value_counts()"
   ]
  },
  {
   "cell_type": "code",
   "execution_count": 49,
   "metadata": {},
   "outputs": [],
   "source": [
    "popular_emp = ['RANDSTAD' , 'ADECCO', 'CAPGEMINI', 'HEWLETT', 'GOOGLE', 'IBM', 'TATA']"
   ]
  },
  {
   "cell_type": "markdown",
   "metadata": {},
   "source": [
    "##### Ujednolicenie popularnych nazw popularnych pracodawców"
   ]
  },
  {
   "cell_type": "code",
   "execution_count": 50,
   "metadata": {},
   "outputs": [
    {
     "name": "stdout",
     "output_type": "stream",
     "text": [
      "['RANDSTAD']\n",
      "['ADECCO']\n",
      "['CAPGEMINI']\n",
      "['HEWLETT']\n",
      "['GOOGLE']\n",
      "['IBM']\n",
      "['TATA']\n"
     ]
    }
   ],
   "source": [
    "for emp in popular_emp:\n",
    "    data_new.loc[data_new['Employer_Name'].str.contains(emp), 'Employer_Name'] = emp\n",
    "    print(data_new.loc[data_new['Employer_Name'].str.contains(emp), 'Employer_Name'].unique())"
   ]
  },
  {
   "cell_type": "markdown",
   "metadata": {},
   "source": [
    "##### Do dalszej analizy branie tylko 20 pracodawców, których pracownicy najczęściej otrzymują pożyczki\n",
    "Czyli przygotowanie najistotniejszych pracodawców i tych mniej istotnych"
   ]
  },
  {
   "cell_type": "code",
   "execution_count": 51,
   "metadata": {
    "scrolled": true
   },
   "outputs": [],
   "source": [
    "emp_importance = data_new.groupby('Employer_Name')['Disbursed'].sum().sort_values(ascending=False)\n",
    "emp_important = list(emp_importance[:20].index)"
   ]
  },
  {
   "cell_type": "code",
   "execution_count": 52,
   "metadata": {},
   "outputs": [],
   "source": [
    "data_new.loc[ ~data_new['Employer_Name'].isin(emp_important), 'Employer_Name'] = 'Not Important Emp'"
   ]
  },
  {
   "cell_type": "code",
   "execution_count": 53,
   "metadata": {
    "scrolled": true
   },
   "outputs": [
    {
     "data": {
      "text/plain": [
       "Not Important Emp                                77949\n",
       "OTHERS                                            5262\n",
       "TATA                                              1158\n",
       "IBM                                                484\n",
       "COGNIZANT TECHNOLOGY SOLUTIONS INDIA PVT LTD       404\n",
       "ACCENTURE SERVICES PVT LTD                         324\n",
       "HCL TECHNOLOGIES LTD                               250\n",
       "GENPACT                                            179\n",
       "CAPGEMINI                                          171\n",
       "HEWLETT                                            146\n",
       "INDIAN RAILWAY                                     130\n",
       "CIPLA LTD                                           90\n",
       "HSBC ELECTRONIC DATA PROCESSING INDIA PVT LTD       78\n",
       "KOTAK MAHINDRA BANK LTD                             76\n",
       "TCS AND ASSOCIATES PVT LTD                          69\n",
       "ERICSSON INDIA GLOBAL SERVICES PVT LTD              65\n",
       "DR REDDYS LABORATORIES LTD                          58\n",
       "BSNL                                                56\n",
       "IDEA CELLULAR LTD                                   46\n",
       "RELIANCE JIO INFOCOMM LTD                           15\n",
       "HCL AVITAS PVT LTD                                  10\n",
       "Name: Employer_Name, dtype: int64"
      ]
     },
     "execution_count": 53,
     "metadata": {},
     "output_type": "execute_result"
    }
   ],
   "source": [
    "data_new.Employer_Name.value_counts()"
   ]
  },
  {
   "cell_type": "markdown",
   "metadata": {},
   "source": [
    "#### Kolumna: SOURCE"
   ]
  },
  {
   "cell_type": "code",
   "execution_count": 54,
   "metadata": {
    "scrolled": true
   },
   "outputs": [
    {
     "data": {
      "text/plain": [
       "array(['S122', 'S143', 'S134', 'S133', 'S159', 'S151', 'S137', 'S127',\n",
       "       'S144', 'S123', 'S156', 'S153', 'S124', 'S161', 'S139', 'S154',\n",
       "       'S157', 'S138', 'S162', 'S141', 'S158', 'S125', 'S129', 'S136',\n",
       "       'S130', 'S155', 'S160', 'S150', 'S135', 'S140'], dtype=object)"
      ]
     },
     "execution_count": 54,
     "metadata": {},
     "output_type": "execute_result"
    }
   ],
   "source": [
    "data_new['Source'].unique()"
   ]
  },
  {
   "cell_type": "code",
   "execution_count": 55,
   "metadata": {
    "scrolled": true
   },
   "outputs": [
    {
     "name": "stdout",
     "output_type": "stream",
     "text": [
      "0 ::: S122 ::: 38567 ::: 44.319696621466335  :::  44.319696621466335\n",
      "1 ::: S133 ::: 29885 ::: 34.342679843714095  :::  78.66237646518042\n",
      "2 ::: S159 ::: 5599 ::: 6.43415306826017  :::  85.09652953344059\n",
      "3 ::: S143 ::: 4332 ::: 4.978165938864628  :::  90.07469547230522\n",
      "4 ::: S127 ::: 1931 ::: 2.2190301080211445  :::  92.29372558032637\n",
      "5 ::: S137 ::: 1724 ::: 1.9811537577568377  :::  94.27487933808321\n",
      "6 ::: S134 ::: 1301 ::: 1.4950586072167318  :::  95.76993794529994\n",
      "7 ::: S161 ::: 769 ::: 0.8837048954263387  :::  96.65364284072628\n",
      "8 ::: S151 ::: 720 ::: 0.8273960009193289  :::  97.48103884164561\n",
      "9 ::: S157 ::: 650 ::: 0.7469547230521719  :::  98.2279935646978\n",
      "10 ::: S153 ::: 494 ::: 0.5676855895196506  :::  98.79567915421744\n",
      "11 ::: S156 ::: 308 ::: 0.35394162261549067  :::  99.14962077683293\n",
      "12 ::: S144 ::: 299 ::: 0.3435991726039991  :::  99.49321994943693\n",
      "13 ::: S158 ::: 208 ::: 0.23902551137669503  :::  99.73224546081364\n",
      "14 ::: S123 ::: 73 ::: 0.08388876120432084  :::  99.81613422201796\n",
      "15 ::: S141 ::: 57 ::: 0.06550218340611354  :::  99.88163640542408\n",
      "16 ::: S162 ::: 36 ::: 0.041369800045966444  :::  99.92300620547005\n",
      "17 ::: S124 ::: 24 ::: 0.02757986669731096  :::  99.95058607216735\n",
      "18 ::: S160 ::: 11 ::: 0.012640772236267524  :::  99.96322684440364\n",
      "19 ::: S150 ::: 10 ::: 0.011491611123879567  :::  99.97471845552751\n",
      "20 ::: S155 ::: 4 ::: 0.004596644449551828  :::  99.97931509997706\n",
      "21 ::: S136 ::: 3 ::: 0.00344748333716387  :::  99.98276258331423\n",
      "22 ::: S139 ::: 3 ::: 0.00344748333716387  :::  99.98621006665138\n",
      "23 ::: S138 ::: 3 ::: 0.00344748333716387  :::  99.98965754998854\n",
      "24 ::: S129 ::: 3 ::: 0.00344748333716387  :::  99.9931050333257\n",
      "25 ::: S135 ::: 2 ::: 0.002298322224775914  :::  99.99540335555048\n",
      "26 ::: S125 ::: 1 ::: 0.001149161112387957  :::  99.99655251666287\n",
      "27 ::: S130 ::: 1 ::: 0.001149161112387957  :::  99.99770167777527\n",
      "28 ::: S140 ::: 1 ::: 0.001149161112387957  :::  99.99885083888765\n",
      "29 ::: S154 ::: 1 ::: 0.001149161112387957  :::  100.00000000000004\n"
     ]
    }
   ],
   "source": [
    "suma = 0\n",
    "for _, item in enumerate(data_new.Source.value_counts()):\n",
    "    suma += item / data_new.shape[0]\n",
    "    print(_, ':::', data_new.Source.value_counts().index[_], ':::' , item, ':::',100 * (item / data_new.shape[0]) , ' ::: ' ,str(suma*100))"
   ]
  },
  {
   "cell_type": "code",
   "execution_count": 56,
   "metadata": {},
   "outputs": [],
   "source": [
    "map_var1 = dict()\n",
    "for _, item in enumerate(data_new.Source.value_counts()):\n",
    "    if 100 * (item / data_new.shape[0]) < OTHER_TRESHOLD:\n",
    "        key = data_new.Source.value_counts().index[_]\n",
    "        map_var1[key] = 'OTHER'"
   ]
  },
  {
   "cell_type": "code",
   "execution_count": 57,
   "metadata": {},
   "outputs": [],
   "source": [
    "data_new.Source.replace(to_replace=map_var1, inplace=True)"
   ]
  },
  {
   "cell_type": "code",
   "execution_count": 58,
   "metadata": {
    "scrolled": true
   },
   "outputs": [
    {
     "name": "stdout",
     "output_type": "stream",
     "text": [
      "0 ::: S122 ::: 38567 ::: 44.319696621466335  :::  44.319696621466335\n",
      "1 ::: S133 ::: 29885 ::: 34.342679843714095  :::  78.66237646518042\n",
      "2 ::: S159 ::: 5599 ::: 6.43415306826017  :::  85.09652953344059\n",
      "3 ::: S143 ::: 4332 ::: 4.978165938864628  :::  90.07469547230522\n",
      "4 ::: OTHER ::: 3681 ::: 4.23006205470007  :::  94.3047575270053\n",
      "5 ::: S127 ::: 1931 ::: 2.2190301080211445  :::  96.52378763502644\n",
      "6 ::: S137 ::: 1724 ::: 1.9811537577568377  :::  98.50494139278328\n",
      "7 ::: S134 ::: 1301 ::: 1.4950586072167318  :::  100.0\n"
     ]
    }
   ],
   "source": [
    "suma = 0\n",
    "for _, item in enumerate(data_new.Source.value_counts()):\n",
    "    suma += item / data_new.shape[0]\n",
    "    print(_, ':::', data_new.Source.value_counts().index[_], ':::' , item, ':::',100 * (item / data_new.shape[0]) , ' ::: ' ,str(suma*100))"
   ]
  },
  {
   "cell_type": "markdown",
   "metadata": {},
   "source": [
    "### Zamiana w kolumnach wartości na liczbowe gdzie można zrobić to \"ręcznie\"\n",
    "#### Kolumna: GENDER\n",
    "Zamiana na wartości liczbowe"
   ]
  },
  {
   "cell_type": "code",
   "execution_count": 59,
   "metadata": {},
   "outputs": [],
   "source": [
    "data_new.Gender.replace(to_replace=dict(Female=0, Male=1), inplace=True)"
   ]
  },
  {
   "cell_type": "markdown",
   "metadata": {},
   "source": [
    "#### Kolumna: FILLED_FORM\n",
    "Zamiana na wartości liczbowe"
   ]
  },
  {
   "cell_type": "code",
   "execution_count": 60,
   "metadata": {},
   "outputs": [],
   "source": [
    "data_new.Filled_Form.replace(to_replace=dict(N=0, Y=1), inplace=True)"
   ]
  },
  {
   "cell_type": "markdown",
   "metadata": {},
   "source": [
    "#### Kolumna: DEVICE TYPE\n",
    "Zamiana na wartości liczbowe"
   ]
  },
  {
   "cell_type": "code",
   "execution_count": 61,
   "metadata": {},
   "outputs": [
    {
     "name": "stdout",
     "output_type": "stream",
     "text": [
      "0 ::: Web-browser ::: 64316 ::: 73.90944610434383  :::  73.90944610434383\n",
      "1 ::: Mobile ::: 22704 ::: 26.09055389565617  :::  100.0\n"
     ]
    }
   ],
   "source": [
    "suma = 0\n",
    "for _, item in enumerate(data_new.Device_Type.value_counts()):\n",
    "    suma += item / data_new.shape[0]\n",
    "    print(_, ':::', data_new.Device_Type.value_counts().index[_], ':::' , item, ':::',100 * (item / data_new.shape[0]) , ' ::: ' ,str(suma*100))"
   ]
  },
  {
   "cell_type": "code",
   "execution_count": 62,
   "metadata": {},
   "outputs": [],
   "source": [
    "data_new.Device_Type.replace(to_replace={'Mobile': 0, 'Web-browser': 1}, inplace=True)"
   ]
  },
  {
   "cell_type": "code",
   "execution_count": 63,
   "metadata": {},
   "outputs": [
    {
     "name": "stdout",
     "output_type": "stream",
     "text": [
      "0 ::: 1 ::: 64316 ::: 73.90944610434383  :::  73.90944610434383\n",
      "1 ::: 0 ::: 22704 ::: 26.09055389565617  :::  100.0\n"
     ]
    }
   ],
   "source": [
    "suma = 0\n",
    "for _, item in enumerate(data_new.Device_Type.value_counts()):\n",
    "    suma += item / data_new.shape[0]\n",
    "    print(_, ':::', data_new.Device_Type.value_counts().index[_], ':::' , item, ':::',100 * (item / data_new.shape[0]) , ' ::: ' ,str(suma*100))"
   ]
  },
  {
   "cell_type": "markdown",
   "metadata": {},
   "source": [
    "#### Kolumna: MOBILE VERIFIED\n",
    "Zamiana na wartości liczbowe"
   ]
  },
  {
   "cell_type": "code",
   "execution_count": 64,
   "metadata": {},
   "outputs": [
    {
     "data": {
      "text/plain": [
       "Y    56481\n",
       "N    30539\n",
       "Name: Mobile_Verified, dtype: int64"
      ]
     },
     "execution_count": 64,
     "metadata": {},
     "output_type": "execute_result"
    }
   ],
   "source": [
    "data_new.Mobile_Verified.value_counts()"
   ]
  },
  {
   "cell_type": "code",
   "execution_count": 65,
   "metadata": {},
   "outputs": [],
   "source": [
    "data_new.Mobile_Verified.replace(to_replace=dict(N=0, Y=1), inplace=True)"
   ]
  },
  {
   "cell_type": "markdown",
   "metadata": {},
   "source": [
    "### Analiza pozostałych pustych wartośći w wierszach"
   ]
  },
  {
   "cell_type": "code",
   "execution_count": 66,
   "metadata": {
    "scrolled": true
   },
   "outputs": [
    {
     "data": {
      "text/plain": [
       "Gender                  0\n",
       "City                    0\n",
       "Monthly_Income          0\n",
       "Loan_Amount_Applied    71\n",
       "Loan_Tenure_Applied    71\n",
       "Existing_EMI           71\n",
       "Employer_Name           0\n",
       "Salary_Account          0\n",
       "Mobile_Verified         0\n",
       "Var5                    0\n",
       "Var1                    0\n",
       "Filled_Form             0\n",
       "Device_Type             0\n",
       "Var2                    0\n",
       "Source                  0\n",
       "Var4                    0\n",
       "Disbursed               0\n",
       "Age_In_Days             0\n",
       "dtype: int64"
      ]
     },
     "execution_count": 66,
     "metadata": {},
     "output_type": "execute_result"
    }
   ],
   "source": [
    "null_search = data_new.isnull().sum()\n",
    "null_search"
   ]
  },
  {
   "cell_type": "markdown",
   "metadata": {},
   "source": [
    "#### Wypełnienie pustych wartości średnimi z danej kolumny"
   ]
  },
  {
   "cell_type": "code",
   "execution_count": 67,
   "metadata": {},
   "outputs": [],
   "source": [
    "list_average = ['Loan_Amount_Applied','Loan_Tenure_Applied','Existing_EMI']\n",
    "\n",
    "for column in list_average:\n",
    "    data_new[column] = data_new[column].fillna(data_new[column].mean())"
   ]
  },
  {
   "cell_type": "markdown",
   "metadata": {},
   "source": [
    "##### weryfikacja"
   ]
  },
  {
   "cell_type": "code",
   "execution_count": 68,
   "metadata": {
    "scrolled": false
   },
   "outputs": [
    {
     "data": {
      "text/plain": [
       "Gender                 0\n",
       "City                   0\n",
       "Monthly_Income         0\n",
       "Loan_Amount_Applied    0\n",
       "Loan_Tenure_Applied    0\n",
       "Existing_EMI           0\n",
       "Employer_Name          0\n",
       "Salary_Account         0\n",
       "Mobile_Verified        0\n",
       "Var5                   0\n",
       "Var1                   0\n",
       "Filled_Form            0\n",
       "Device_Type            0\n",
       "Var2                   0\n",
       "Source                 0\n",
       "Var4                   0\n",
       "Disbursed              0\n",
       "Age_In_Days            0\n",
       "dtype: int64"
      ]
     },
     "execution_count": 68,
     "metadata": {},
     "output_type": "execute_result"
    }
   ],
   "source": [
    "null_search = data_new.isnull().sum()\n",
    "null_search"
   ]
  },
  {
   "cell_type": "markdown",
   "metadata": {},
   "source": [
    "###  Przygotowanie nowego DataFrame do ostatecznego modelowania\n",
    "Zamiana w automatyczny sposób kolumn z kategoriami na wartośći liczbowe"
   ]
  },
  {
   "cell_type": "code",
   "execution_count": 69,
   "metadata": {},
   "outputs": [],
   "source": [
    "data_s = pd.get_dummies(data_new, drop_first=True)"
   ]
  },
  {
   "cell_type": "markdown",
   "metadata": {},
   "source": [
    "##### weryfikacja"
   ]
  },
  {
   "cell_type": "code",
   "execution_count": 70,
   "metadata": {
    "scrolled": false
   },
   "outputs": [
    {
     "data": {
      "text/plain": [
       "78"
      ]
     },
     "execution_count": 70,
     "metadata": {},
     "output_type": "execute_result"
    }
   ],
   "source": [
    "len(data_s.columns)"
   ]
  },
  {
   "cell_type": "code",
   "execution_count": 71,
   "metadata": {
    "scrolled": false
   },
   "outputs": [
    {
     "data": {
      "text/plain": [
       "Index(['Gender', 'Monthly_Income', 'Loan_Amount_Applied',\n",
       "       'Loan_Tenure_Applied', 'Existing_EMI', 'Mobile_Verified', 'Var5',\n",
       "       'Filled_Form', 'Device_Type', 'Var4', 'Disbursed', 'Age_In_Days',\n",
       "       'City_Bengaluru', 'City_Chennai', 'City_Coimbatore', 'City_Delhi',\n",
       "       'City_Gurgaon', 'City_Hyderabad', 'City_Jaipur', 'City_Kolkata',\n",
       "       'City_Mumbai', 'City_OTHER', 'City_Pune', 'City_Thane',\n",
       "       'Employer_Name_BSNL', 'Employer_Name_CAPGEMINI',\n",
       "       'Employer_Name_CIPLA LTD',\n",
       "       'Employer_Name_COGNIZANT TECHNOLOGY SOLUTIONS INDIA PVT LTD',\n",
       "       'Employer_Name_DR REDDYS LABORATORIES LTD',\n",
       "       'Employer_Name_ERICSSON INDIA GLOBAL SERVICES PVT LTD',\n",
       "       'Employer_Name_GENPACT', 'Employer_Name_HCL AVITAS PVT LTD',\n",
       "       'Employer_Name_HCL TECHNOLOGIES LTD', 'Employer_Name_HEWLETT',\n",
       "       'Employer_Name_HSBC ELECTRONIC DATA PROCESSING INDIA PVT LTD',\n",
       "       'Employer_Name_IBM', 'Employer_Name_IDEA CELLULAR LTD',\n",
       "       'Employer_Name_INDIAN RAILWAY', 'Employer_Name_KOTAK MAHINDRA BANK LTD',\n",
       "       'Employer_Name_Not Important Emp', 'Employer_Name_OTHERS',\n",
       "       'Employer_Name_RELIANCE JIO INFOCOMM LTD', 'Employer_Name_TATA',\n",
       "       'Employer_Name_TCS AND ASSOCIATES PVT LTD',\n",
       "       'Salary_Account_Bank of Baroda', 'Salary_Account_Bank of India',\n",
       "       'Salary_Account_Canara Bank', 'Salary_Account_Citibank',\n",
       "       'Salary_Account_HDFC Bank', 'Salary_Account_ICICI Bank',\n",
       "       'Salary_Account_IDBI Bank', 'Salary_Account_Kotak Bank',\n",
       "       'Salary_Account_None', 'Salary_Account_OTHER',\n",
       "       'Salary_Account_Punjab National Bank',\n",
       "       'Salary_Account_Standard Chartered Bank',\n",
       "       'Salary_Account_State Bank of India',\n",
       "       'Salary_Account_Union Bank of India', 'Var1_HAXB', 'Var1_HAXC',\n",
       "       'Var1_HBXA', 'Var1_HBXB', 'Var1_HBXC', 'Var1_HBXD', 'Var1_HBXH',\n",
       "       'Var1_HBXX', 'Var1_OTHER', 'Var2_C', 'Var2_E', 'Var2_G', 'Var2_OTHER',\n",
       "       'Source_S122', 'Source_S127', 'Source_S133', 'Source_S134',\n",
       "       'Source_S137', 'Source_S143', 'Source_S159'],\n",
       "      dtype='object')"
      ]
     },
     "execution_count": 71,
     "metadata": {},
     "output_type": "execute_result"
    }
   ],
   "source": [
    "data_s.columns"
   ]
  },
  {
   "cell_type": "markdown",
   "metadata": {},
   "source": [
    "### Modelowanie"
   ]
  },
  {
   "cell_type": "markdown",
   "metadata": {},
   "source": [
    "Do oceny modelu użyjemy roc_auc_score. \n",
    "\n",
    "AUC - jest to prawdopodobieństwo tego, że klasyfikator przydzieli wyższą rangę dla losowo wybranego przypadku pozytywnego niż negatywnego (zakładając, że wynik pozytywny ma wyższą rangę niż negatywny)."
   ]
  },
  {
   "cell_type": "markdown",
   "metadata": {},
   "source": [
    "#### Podział na X, y oraz zbiór treningowy i testowy"
   ]
  },
  {
   "cell_type": "code",
   "execution_count": 72,
   "metadata": {},
   "outputs": [],
   "source": [
    "y = data_s['Disbursed']\n",
    "X = data_s.drop([\n",
    "        'Disbursed'\n",
    "], axis=1)\n",
    "\n",
    "X_train, X_test, y_train, y_test = train_test_split(X, y, test_size=0.3, random_state=123)"
   ]
  },
  {
   "cell_type": "markdown",
   "metadata": {},
   "source": [
    "#### Jeden model nauczymy i sprawdzimy na teście"
   ]
  },
  {
   "cell_type": "code",
   "execution_count": 73,
   "metadata": {
    "scrolled": true
   },
   "outputs": [
    {
     "name": "stderr",
     "output_type": "stream",
     "text": [
      "C:\\Anaconda\\lib\\site-packages\\sklearn\\linear_model\\logistic.py:433: FutureWarning: Default solver will be changed to 'lbfgs' in 0.22. Specify a solver to silence this warning.\n",
      "  FutureWarning)\n"
     ]
    },
    {
     "data": {
      "text/plain": [
       "Pipeline(memory=None,\n",
       "     steps=[('model', LogisticRegression(C=1.0, class_weight=None, dual=False, fit_intercept=True,\n",
       "          intercept_scaling=1, max_iter=100, multi_class='warn',\n",
       "          n_jobs=None, penalty='l2', random_state=None, solver='warn',\n",
       "          tol=0.0001, verbose=0, warm_start=False))])"
      ]
     },
     "execution_count": 73,
     "metadata": {},
     "output_type": "execute_result"
    }
   ],
   "source": [
    "pipe = Pipeline([(\"model\",LogisticRegression())])\n",
    "pipe.fit(X_train, y_train)"
   ]
  },
  {
   "cell_type": "code",
   "execution_count": 74,
   "metadata": {
    "scrolled": false
   },
   "outputs": [
    {
     "name": "stdout",
     "output_type": "stream",
     "text": [
      "Accuracy Train: 0.9855862363331911\n",
      "Accuracy Test: 0.984869378686892\n",
      "AUC Train:  0.5\n",
      "AUC Test: 0.5\n",
      "F1 Train:  0.0\n",
      "F1 Test: 0.0\n",
      "Suma predykcji: 0\n"
     ]
    },
    {
     "name": "stderr",
     "output_type": "stream",
     "text": [
      "C:\\Anaconda\\lib\\site-packages\\sklearn\\metrics\\classification.py:1143: UndefinedMetricWarning: F-score is ill-defined and being set to 0.0 due to no predicted samples.\n",
      "  'precision', 'predicted', average, warn_for)\n",
      "C:\\Anaconda\\lib\\site-packages\\sklearn\\metrics\\classification.py:1143: UndefinedMetricWarning: F-score is ill-defined and being set to 0.0 due to no predicted samples.\n",
      "  'precision', 'predicted', average, warn_for)\n"
     ]
    }
   ],
   "source": [
    "print('Accuracy Train:', accuracy_score(y_train, pipe.predict(X_train)))\n",
    "print('Accuracy Test:', accuracy_score(y_test, pipe.predict(X_test)))\n",
    "print('AUC Train: ', roc_auc_score(y_train, pipe.predict(X_train)))\n",
    "print('AUC Test:', roc_auc_score(y_test, pipe.predict(X_test)))\n",
    "print('F1 Train: ', f1_score(y_train, pipe.predict(X_train)))\n",
    "print('F1 Test:', f1_score(y_test, pipe.predict(X_test)))\n",
    "\n",
    "print('Suma predykcji:', pipe.predict(X_test).sum())"
   ]
  },
  {
   "cell_type": "markdown",
   "metadata": {},
   "source": [
    "Model zazwyczaj przewiduje wartość '0' (tylko w jednym przypadku dał '1'). auc_score potwierdza, że model nie jest dobry."
   ]
  },
  {
   "cell_type": "markdown",
   "metadata": {},
   "source": [
    "##### Zbadanie liczebności 0 i 1 - wniosków gdzie nieudzielono i udzielono pożyczki"
   ]
  },
  {
   "cell_type": "code",
   "execution_count": 75,
   "metadata": {
    "scrolled": true
   },
   "outputs": [
    {
     "name": "stdout",
     "output_type": "stream",
     "text": [
      "count_class_0:  85747 , count_class_1:  1273\n"
     ]
    },
    {
     "data": {
      "text/plain": [
       "<matplotlib.axes._subplots.AxesSubplot at 0x23ea8986c88>"
      ]
     },
     "execution_count": 75,
     "metadata": {},
     "output_type": "execute_result"
    },
    {
     "data": {
      "image/png": "[encoded data removed]",
      "text/plain": [
       "<Figure size 432x288 with 1 Axes>"
      ]
     },
     "metadata": {
      "needs_background": "light"
     },
     "output_type": "display_data"
    }
   ],
   "source": [
    "count_class_0, count_class_1 = data_s['Disbursed'].value_counts()\n",
    "print('count_class_0: ', count_class_0, ', count_class_1: ', count_class_1)\n",
    "data_s_class_0=data_s[data_s['Disbursed']==0]\n",
    "data_s_class_1=data_s[data_s['Disbursed']==1]\n",
    "data_s['Disbursed'].value_counts().plot(kind='bar', title='Count (Disbursed)')"
   ]
  },
  {
   "cell_type": "code",
   "execution_count": 76,
   "metadata": {},
   "outputs": [
    {
     "data": {
      "text/plain": [
       "1.462882096069869"
      ]
     },
     "execution_count": 76,
     "metadata": {},
     "output_type": "execute_result"
    }
   ],
   "source": [
    "count_class_1 / len(data_s) * 100"
   ]
  },
  {
   "cell_type": "markdown",
   "metadata": {},
   "source": [
    "Wniosków zakończonych sukcesem jest znacznie mniej - poniżej 1,5 % - niezbalansowane dane"
   ]
  },
  {
   "cell_type": "markdown",
   "metadata": {},
   "source": [
    "#### Under & Over Sampling\n",
    "\n",
    "##### Przygotowanie do Under i Over Sampling"
   ]
  },
  {
   "cell_type": "code",
   "execution_count": 77,
   "metadata": {},
   "outputs": [
    {
     "name": "stdout",
     "output_type": "stream",
     "text": [
      "count_class_0:  60036 , count_class_1:  878\n"
     ]
    },
    {
     "data": {
      "text/plain": [
       "<matplotlib.axes._subplots.AxesSubplot at 0x23ea9381160>"
      ]
     },
     "execution_count": 77,
     "metadata": {},
     "output_type": "execute_result"
    },
    {
     "data": {
      "image/png": "[encoded data removed]",
      "text/plain": [
       "<Figure size 432x288 with 1 Axes>"
      ]
     },
     "metadata": {
      "needs_background": "light"
     },
     "output_type": "display_data"
    }
   ],
   "source": [
    "X_concat = pd.concat([X_train, y_train], axis=1)\n",
    "\n",
    "count_class_0, count_class_1 = X_concat['Disbursed'].value_counts()\n",
    "print('count_class_0: ', count_class_0, ', count_class_1: ', count_class_1)\n",
    "data_s_class_0 = X_concat[X_concat['Disbursed']==0]\n",
    "data_s_class_1 = X_concat[X_concat['Disbursed']==1]\n",
    "X_concat['Disbursed'].value_counts().plot(kind='bar', title='Count (Disbursed)')"
   ]
  },
  {
   "cell_type": "markdown",
   "metadata": {},
   "source": [
    "##### Under Sampling"
   ]
  },
  {
   "cell_type": "code",
   "execution_count": 78,
   "metadata": {
    "scrolled": true
   },
   "outputs": [
    {
     "name": "stdout",
     "output_type": "stream",
     "text": [
      "1    878\n",
      "0    878\n",
      "Name: Disbursed, dtype: int64\n"
     ]
    },
    {
     "data": {
      "text/plain": [
       "<matplotlib.axes._subplots.AxesSubplot at 0x23ea93dc978>"
      ]
     },
     "execution_count": 78,
     "metadata": {},
     "output_type": "execute_result"
    },
    {
     "data": {
      "image/png": "[encoded data removed]",
      "text/plain": [
       "<Figure size 432x288 with 1 Axes>"
      ]
     },
     "metadata": {
      "needs_background": "light"
     },
     "output_type": "display_data"
    }
   ],
   "source": [
    "data_s_class_0_under = data_s_class_0.sample(count_class_1)\n",
    "data_s_under = pd.concat([data_s_class_0_under,data_s_class_1],axis=0)\n",
    "print(data_s_under['Disbursed'].value_counts())\n",
    "data_s_under['Disbursed'].value_counts().plot(kind='bar', title='Count (Disbursed)')"
   ]
  },
  {
   "cell_type": "code",
   "execution_count": 79,
   "metadata": {},
   "outputs": [],
   "source": [
    "X_train_under = data_s_under.drop([\"Disbursed\"], axis = 1)\n",
    "y_train_under = data_s_under.Disbursed"
   ]
  },
  {
   "cell_type": "code",
   "execution_count": 80,
   "metadata": {
    "scrolled": true
   },
   "outputs": [
    {
     "name": "stderr",
     "output_type": "stream",
     "text": [
      "C:\\Anaconda\\lib\\site-packages\\sklearn\\linear_model\\logistic.py:433: FutureWarning: Default solver will be changed to 'lbfgs' in 0.22. Specify a solver to silence this warning.\n",
      "  FutureWarning)\n"
     ]
    },
    {
     "data": {
      "text/plain": [
       "Pipeline(memory=None,\n",
       "     steps=[('model', LogisticRegression(C=1.0, class_weight=None, dual=False, fit_intercept=True,\n",
       "          intercept_scaling=1, max_iter=100, multi_class='warn',\n",
       "          n_jobs=None, penalty='l2', random_state=None, solver='warn',\n",
       "          tol=0.0001, verbose=0, warm_start=False))])"
      ]
     },
     "execution_count": 80,
     "metadata": {},
     "output_type": "execute_result"
    }
   ],
   "source": [
    "pipe = Pipeline([(\"model\",LogisticRegression())])\n",
    "pipe.fit(X_train_under, y_train_under)"
   ]
  },
  {
   "cell_type": "code",
   "execution_count": 81,
   "metadata": {
    "scrolled": true
   },
   "outputs": [
    {
     "name": "stdout",
     "output_type": "stream",
     "text": [
      "Accuracy Train: 0.7158314350797267\n",
      "Accuracy Test: 0.6870834290967593\n",
      "AUC Train:  0.7158314350797266\n",
      "AUC Test: 0.7189932004673171\n",
      "F1 Train:  0.7210732252655113\n",
      "F1 Test: 0.06778500513522766\n",
      "Suma predykcji: 8368\n"
     ]
    }
   ],
   "source": [
    "print('Accuracy Train:', accuracy_score(y_train_under, pipe.predict(X_train_under)))\n",
    "print('Accuracy Test:', accuracy_score(y_test, pipe.predict(X_test)))\n",
    "print('AUC Train: ', roc_auc_score(y_train_under, pipe.predict(X_train_under)))\n",
    "print('AUC Test:', roc_auc_score(y_test, pipe.predict(X_test)))\n",
    "print('F1 Train: ', f1_score(y_train_under, pipe.predict(X_train_under)))\n",
    "print('F1 Test:', f1_score(y_test, pipe.predict(X_test)))\n",
    "print('Suma predykcji:', pipe.predict(X_test).sum())"
   ]
  },
  {
   "cell_type": "markdown",
   "metadata": {},
   "source": [
    "##### Over Sampling"
   ]
  },
  {
   "cell_type": "code",
   "execution_count": 82,
   "metadata": {
    "scrolled": true
   },
   "outputs": [
    {
     "name": "stdout",
     "output_type": "stream",
     "text": [
      "1    60036\n",
      "0    60036\n",
      "Name: Disbursed, dtype: int64\n"
     ]
    },
    {
     "data": {
      "text/plain": [
       "<matplotlib.axes._subplots.AxesSubplot at 0x23ea972aac8>"
      ]
     },
     "execution_count": 82,
     "metadata": {},
     "output_type": "execute_result"
    },
    {
     "data": {
      "image/png": "[encoded data removed]",
      "text/plain": [
       "<Figure size 432x288 with 1 Axes>"
      ]
     },
     "metadata": {
      "needs_background": "light"
     },
     "output_type": "display_data"
    }
   ],
   "source": [
    "data_s_class_1_over = data_s_class_1.sample(count_class_0, replace=True) # z powtórzeniami, aby zwielokrotnić dane\n",
    "data_s_over = pd.concat([data_s_class_0, data_s_class_1_over], axis=0)\n",
    "print(data_s_over['Disbursed'].value_counts())\n",
    "data_s_over['Disbursed'].value_counts().plot(kind='bar', title='Count (Disbursed)')"
   ]
  },
  {
   "cell_type": "code",
   "execution_count": 83,
   "metadata": {},
   "outputs": [],
   "source": [
    "X_train_over = data_s_over.drop([\"Disbursed\"], axis = 1)\n",
    "y_train_over = data_s_over.Disbursed"
   ]
  },
  {
   "cell_type": "code",
   "execution_count": 84,
   "metadata": {
    "scrolled": false
   },
   "outputs": [
    {
     "name": "stderr",
     "output_type": "stream",
     "text": [
      "C:\\Anaconda\\lib\\site-packages\\sklearn\\linear_model\\logistic.py:433: FutureWarning: Default solver will be changed to 'lbfgs' in 0.22. Specify a solver to silence this warning.\n",
      "  FutureWarning)\n"
     ]
    },
    {
     "data": {
      "text/plain": [
       "Pipeline(memory=None,\n",
       "     steps=[('model', LogisticRegression(C=1.0, class_weight=None, dual=False, fit_intercept=True,\n",
       "          intercept_scaling=1, max_iter=100, multi_class='warn',\n",
       "          n_jobs=None, penalty='l2', random_state=None, solver='warn',\n",
       "          tol=0.0001, verbose=0, warm_start=False))])"
      ]
     },
     "execution_count": 84,
     "metadata": {},
     "output_type": "execute_result"
    }
   ],
   "source": [
    "pipe = Pipeline([(\"model\",LogisticRegression())])\n",
    "pipe.fit(X_train_over, y_train_over)"
   ]
  },
  {
   "cell_type": "code",
   "execution_count": 85,
   "metadata": {
    "scrolled": true
   },
   "outputs": [
    {
     "name": "stdout",
     "output_type": "stream",
     "text": [
      "Accuracy Train: 0.710073955626624\n",
      "Accuracy Test: 0.6920248218800276\n",
      "AUC Train:  0.710073955626624\n",
      "AUC Test: 0.7239946060618294\n",
      "F1 Train:  0.7159270804432623\n",
      "F1 Test: 0.06922898819171104\n",
      "Suma predykcji: 8243\n"
     ]
    }
   ],
   "source": [
    "print('Accuracy Train:', accuracy_score(y_train_over, pipe.predict(X_train_over)))\n",
    "print('Accuracy Test:', accuracy_score(y_test, pipe.predict(X_test)))\n",
    "print('AUC Train: ', roc_auc_score(y_train_over, pipe.predict(X_train_over)))\n",
    "print('AUC Test:', roc_auc_score(y_test, pipe.predict(X_test)))\n",
    "print('F1 Train: ', f1_score(y_train_over, pipe.predict(X_train_over)))\n",
    "print('F1 Test:', f1_score(y_test, pipe.predict(X_test)))\n",
    "print('Suma predykcji:', pipe.predict(X_test).sum())"
   ]
  },
  {
   "cell_type": "markdown",
   "metadata": {},
   "source": [
    "### Zdefiniowanie automatycznego doboru parametrów do modeli"
   ]
  },
  {
   "cell_type": "markdown",
   "metadata": {},
   "source": [
    "#### Zdefiniowanie funkcji do modelowania z określonymi parametrami"
   ]
  },
  {
   "cell_type": "code",
   "execution_count": 86,
   "metadata": {},
   "outputs": [],
   "source": [
    "def modelowanie(X_train, y_train, X_test, y_test, names, models, parameters, scoring_p, models_run):\n",
    "    best_names = []\n",
    "    best_models = []\n",
    "    best_params = []\n",
    "    acc_test_tbl = []\n",
    "    auc_test_tbl = []\n",
    "    f1_test_tbl = []\n",
    "    \n",
    "    if len(names) != len(models) or len(models) != len(parameters) or len(models) != len(models_run):\n",
    "        raise ValueError(\"Listy wejściowe nie są równej długości!\", len(names), len(models), len(parameters) , len(models_run))\n",
    "    \n",
    "    for name, model, parameter, model_run in zip(names, models, parameters, models_run):\n",
    "        if not model_run:\n",
    "            continue\n",
    "        print(\"Tunuję: \", name)\n",
    "        pipe = Pipeline(model)\n",
    "        gs = GridSearchCV(pipe, parameter, cv=10, scoring=scoring_p, n_jobs=-1)\n",
    "        gs.fit(X_train, y_train)\n",
    "    \n",
    "        for mean, std, params in zip(gs.cv_results_[\"mean_test_score\"], gs.cv_results_[\"std_test_score\"], gs.cv_results_[\"params\"]):\n",
    "            print(\"mean: \", mean, \", std: \", std, params)\n",
    "    \n",
    "        best_names.append(name)\n",
    "        best_models.append(gs.best_estimator_)\n",
    "        best_params.append(gs.best_params_)        \n",
    "    \n",
    "    print()\n",
    "    print(\"Wyniki na testowym:\")\n",
    "\n",
    "    for name, best_model, best_param in zip(best_names, best_models, best_params):\n",
    "        acc_test_score = accuracy_score(y_test, best_model.predict(X_test))\n",
    "        auc_test_score = roc_auc_score(y_test, best_model.predict(X_test))\n",
    "        f1_test_score = f1_score(y_test, best_model.predict(X_test))\n",
    "        print(name, \" (\", best_param, \"):\", acc_test_score, \" :\", auc_test_score, \" :\", f1_test_score)\n",
    "        acc_test_tbl.append(acc_test_score)\n",
    "        auc_test_tbl.append(auc_test_score)\n",
    "        f1_test_tbl.append(f1_test_score)\n",
    "    \n",
    "    compare_dict = {'Method': best_names,\n",
    "                    'Accuracy Score Test': acc_test_tbl,\n",
    "                    'AUC Score test': auc_test_tbl,\n",
    "                    'F1 Score test': f1_test_tbl           \n",
    "                    }\n",
    "    compare_df = pd.DataFrame(compare_dict)\n",
    "    display(compare_df)"
   ]
  },
  {
   "cell_type": "markdown",
   "metadata": {},
   "source": [
    "#### Przygotowanie parametrów"
   ]
  },
  {
   "cell_type": "code",
   "execution_count": 87,
   "metadata": {},
   "outputs": [],
   "source": [
    "names = [\"Regresja logistyczna\", \n",
    "         \"Regresja logistyczna - StandardScaler\", \n",
    "         \"Regresja logistyczna - MaxAbsScaler\", \n",
    "         \"Drzewo decyzyjne\", \n",
    "         \"Naiwny Bayes\", \n",
    "         \"BaggingClassifier\",\n",
    "         \"RandomForest\"\n",
    "        ]\n",
    "\n",
    "models = [\n",
    "    [(\"model\", LogisticRegression())],\n",
    "    [(\"scaler\", StandardScaler()), (\"model\", LogisticRegression())],\n",
    "    [(\"scaler\", MaxAbsScaler()), (\"model\", LogisticRegression())],\n",
    "    [(\"model\", DecisionTreeClassifier())],\n",
    "    [(\"model\", MultinomialNB())],\n",
    "    [(\"model\", BaggingClassifier())],\n",
    "    [(\"model\", RandomForestClassifier())]\n",
    "]\n",
    "\n",
    "models_run = [\n",
    "    True, #LR\n",
    "    True, #LR with StandardScaler\n",
    "    True, #LR with MaxAbsScaler\n",
    "    True, #DTC\n",
    "    True, #MNB\n",
    "    True, #BC\n",
    "    True  #RF\n",
    "]\n",
    "\n",
    "LR_params = [\n",
    "    {\"model__C\": [0.01, 1, 10, 100, 1000], \"model__penalty\": [\"l1\",\"l2\"]}\n",
    "]\n",
    "\n",
    "parameters = [\n",
    "    LR_params, \n",
    "    LR_params,\n",
    "    LR_params,\n",
    "    {\"model__criterion\":[\"gini\",\"entropy\"]},\n",
    "    {},\n",
    "    {\"model__n_estimators\": [10, 100, 1000], \"model__max_samples\": [0.5, 0.8 ,1], \"model__max_features\": [0.5,0.8, 1], \"model__bootstrap\": [False], \"model__bootstrap_features\": [False]},\n",
    "    {\"model__n_estimators\": [10, 100, 1000], \"model__max_depth\": [10, 100, 1000], \"model__min_samples_split\": [2,4,8]}\n",
    "]"
   ]
  },
  {
   "cell_type": "markdown",
   "metadata": {},
   "source": [
    "#### Modelowanie dla under i over sampling"
   ]
  },
  {
   "cell_type": "code",
   "execution_count": 88,
   "metadata": {
    "scrolled": true
   },
   "outputs": [
    {
     "name": "stdout",
     "output_type": "stream",
     "text": [
      "Tunuję:  Regresja logistyczna\n"
     ]
    },
    {
     "name": "stderr",
     "output_type": "stream",
     "text": [
      "C:\\Anaconda\\lib\\site-packages\\sklearn\\linear_model\\logistic.py:433: FutureWarning: Default solver will be changed to 'lbfgs' in 0.22. Specify a solver to silence this warning.\n",
      "  FutureWarning)\n"
     ]
    },
    {
     "name": "stdout",
     "output_type": "stream",
     "text": [
      "mean:  0.781012346384273 , std:  0.01731926535736885 {'model__C': 0.01, 'model__penalty': 'l1'}\n",
      "mean:  0.751462369353737 , std:  0.019512463781373876 {'model__C': 0.01, 'model__penalty': 'l2'}\n",
      "mean:  0.8290185255270479 , std:  0.029571510883520273 {'model__C': 1, 'model__penalty': 'l1'}\n",
      "mean:  0.7511545725894561 , std:  0.0192474926758634 {'model__C': 1, 'model__penalty': 'l2'}\n",
      "mean:  0.8208661511033674 , std:  0.02964817735543861 {'model__C': 10, 'model__penalty': 'l1'}\n",
      "mean:  0.751462369353737 , std:  0.019512463781373876 {'model__C': 10, 'model__penalty': 'l2'}\n",
      "mean:  0.8194092860900261 , std:  0.029775921365670248 {'model__C': 100, 'model__penalty': 'l1'}\n",
      "mean:  0.7557084472880561 , std:  0.02186575012836768 {'model__C': 100, 'model__penalty': 'l2'}\n",
      "mean:  0.8189417146883174 , std:  0.0297395261457741 {'model__C': 1000, 'model__penalty': 'l1'}\n",
      "mean:  0.751462369353737 , std:  0.019512463781373876 {'model__C': 1000, 'model__penalty': 'l2'}\n",
      "Tunuję:  Regresja logistyczna - StandardScaler\n"
     ]
    },
    {
     "name": "stderr",
     "output_type": "stream",
     "text": [
      "C:\\Anaconda\\lib\\site-packages\\sklearn\\preprocessing\\data.py:625: DataConversionWarning: Data with input dtype uint8, int64, float64 were all converted to float64 by StandardScaler.\n",
      "  return self.partial_fit(X, y)\n",
      "C:\\Anaconda\\lib\\site-packages\\sklearn\\base.py:465: DataConversionWarning: Data with input dtype uint8, int64, float64 were all converted to float64 by StandardScaler.\n",
      "  return self.fit(X, y, **fit_params).transform(X)\n",
      "C:\\Anaconda\\lib\\site-packages\\sklearn\\linear_model\\logistic.py:433: FutureWarning: Default solver will be changed to 'lbfgs' in 0.22. Specify a solver to silence this warning.\n",
      "  FutureWarning)\n"
     ]
    },
    {
     "name": "stdout",
     "output_type": "stream",
     "text": [
      "mean:  0.786722355714874 , std:  0.02071599885487904 {'model__C': 0.01, 'model__penalty': 'l1'}\n",
      "mean:  0.8197292816627513 , std:  0.031177266987810887 {'model__C': 0.01, 'model__penalty': 'l2'}\n",
      "mean:  0.8215006379084221 , std:  0.02906804180498252 {'model__C': 1, 'model__penalty': 'l1'}\n",
      "mean:  0.8192938437076761 , std:  0.02973360831586115 {'model__C': 1, 'model__penalty': 'l2'}\n",
      "mean:  0.8191626321339225 , std:  0.02958407715854296 {'model__C': 10, 'model__penalty': 'l1'}\n",
      "mean:  0.8189040769012883 , std:  0.029868477568951644 {'model__C': 10, 'model__penalty': 'l2'}\n",
      "mean:  0.8189426072840573 , std:  0.029821501966958812 {'model__C': 100, 'model__penalty': 'l1'}\n",
      "mean:  0.8189686413264686 , std:  0.029925041742858337 {'model__C': 100, 'model__penalty': 'l2'}\n",
      "mean:  0.8189426072840573 , std:  0.029889573596029083 {'model__C': 1000, 'model__penalty': 'l1'}\n",
      "mean:  0.8189687900924253 , std:  0.02992797092961657 {'model__C': 1000, 'model__penalty': 'l2'}\n",
      "Tunuję:  Regresja logistyczna - MaxAbsScaler\n"
     ]
    },
    {
     "name": "stderr",
     "output_type": "stream",
     "text": [
      "C:\\Anaconda\\lib\\site-packages\\sklearn\\linear_model\\logistic.py:433: FutureWarning: Default solver will be changed to 'lbfgs' in 0.22. Specify a solver to silence this warning.\n",
      "  FutureWarning)\n"
     ]
    },
    {
     "name": "stdout",
     "output_type": "stream",
     "text": [
      "mean:  0.7525224011777502 , std:  0.02240228960682642 {'model__C': 0.01, 'model__penalty': 'l1'}\n",
      "mean:  0.7784264965260174 , std:  0.028203417518157997 {'model__C': 0.01, 'model__penalty': 'l2'}\n",
      "mean:  0.8257688819702802 , std:  0.029568922040254696 {'model__C': 1, 'model__penalty': 'l1'}\n",
      "mean:  0.8143295237347158 , std:  0.029702816181508777 {'model__C': 1, 'model__penalty': 'l2'}\n",
      "mean:  0.8209948336558579 , std:  0.02992653898881144 {'model__C': 10, 'model__penalty': 'l1'}\n",
      "mean:  0.8192026501762579 , std:  0.031109589984831505 {'model__C': 10, 'model__penalty': 'l2'}\n",
      "mean:  0.8190727774961143 , std:  0.02974794829465613 {'model__C': 100, 'model__penalty': 'l1'}\n",
      "mean:  0.8193457630265423 , std:  0.029979399505049416 {'model__C': 100, 'model__penalty': 'l2'}\n",
      "mean:  0.8188648026887363 , std:  0.029854834245764055 {'model__C': 1000, 'model__penalty': 'l1'}\n",
      "mean:  0.818916870773559 , std:  0.029831847502891664 {'model__C': 1000, 'model__penalty': 'l2'}\n",
      "Tunuję:  Drzewo decyzyjne\n",
      "mean:  0.7067198177676538 , std:  0.03223169613292795 {'model__criterion': 'gini'}\n",
      "mean:  0.7010250569476082 , std:  0.03006634010595836 {'model__criterion': 'entropy'}\n",
      "Tunuję:  Naiwny Bayes\n",
      "mean:  0.610954485353099 , std:  0.029317587771682294 {}\n",
      "Tunuję:  BaggingClassifier\n"
     ]
    },
    {
     "name": "stderr",
     "output_type": "stream",
     "text": [
      "C:\\Anaconda\\lib\\site-packages\\sklearn\\model_selection\\_search.py:841: DeprecationWarning: The default of the `iid` parameter will change from True to False in version 0.22 and will be removed in 0.24. This will change numeric results when test-set sizes are unequal.\n",
      "  DeprecationWarning)\n"
     ]
    },
    {
     "name": "stdout",
     "output_type": "stream",
     "text": [
      "mean:  0.8064741605434599 , std:  0.030361695974342764 {'model__bootstrap': False, 'model__bootstrap_features': False, 'model__max_features': 0.5, 'model__max_samples': 0.5, 'model__n_estimators': 10}\n",
      "mean:  0.8490648869497742 , std:  0.025488557670173106 {'model__bootstrap': False, 'model__bootstrap_features': False, 'model__max_features': 0.5, 'model__max_samples': 0.5, 'model__n_estimators': 100}\n",
      "mean:  0.8529688031838295 , std:  0.023002632369691186 {'model__bootstrap': False, 'model__bootstrap_features': False, 'model__max_features': 0.5, 'model__max_samples': 0.5, 'model__n_estimators': 1000}\n",
      "mean:  0.8183726849041829 , std:  0.017612882664190997 {'model__bootstrap': False, 'model__bootstrap_features': False, 'model__max_features': 0.5, 'model__max_samples': 0.8, 'model__n_estimators': 10}\n",
      "mean:  0.848812654270297 , std:  0.023330213075807144 {'model__bootstrap': False, 'model__bootstrap_features': False, 'model__max_features': 0.5, 'model__max_samples': 0.8, 'model__n_estimators': 100}\n",
      "mean:  0.8511062534067404 , std:  0.02125970213171025 {'model__bootstrap': False, 'model__bootstrap_features': False, 'model__max_features': 0.5, 'model__max_samples': 0.8, 'model__n_estimators': 1000}\n",
      "mean:  0.5 , std:  0.0 {'model__bootstrap': False, 'model__bootstrap_features': False, 'model__max_features': 0.5, 'model__max_samples': 1, 'model__n_estimators': 10}\n",
      "mean:  0.5 , std:  0.0 {'model__bootstrap': False, 'model__bootstrap_features': False, 'model__max_features': 0.5, 'model__max_samples': 1, 'model__n_estimators': 100}\n",
      "mean:  0.5 , std:  0.0 {'model__bootstrap': False, 'model__bootstrap_features': False, 'model__max_features': 0.5, 'model__max_samples': 1, 'model__n_estimators': 1000}\n",
      "mean:  0.8248143995925004 , std:  0.027501094115500956 {'model__bootstrap': False, 'model__bootstrap_features': False, 'model__max_features': 0.8, 'model__max_samples': 0.5, 'model__n_estimators': 10}\n",
      "mean:  0.848027095636278 , std:  0.021286500181171775 {'model__bootstrap': False, 'model__bootstrap_features': False, 'model__max_features': 0.8, 'model__max_samples': 0.5, 'model__n_estimators': 100}\n",
      "mean:  0.8521823519540705 , std:  0.020101086656538408 {'model__bootstrap': False, 'model__bootstrap_features': False, 'model__max_features': 0.8, 'model__max_samples': 0.5, 'model__n_estimators': 1000}\n",
      "mean:  0.8236500084499062 , std:  0.023243977470626054 {'model__bootstrap': False, 'model__bootstrap_features': False, 'model__max_features': 0.8, 'model__max_samples': 0.8, 'model__n_estimators': 10}\n",
      "mean:  0.8453633667997228 , std:  0.022894449631640314 {'model__bootstrap': False, 'model__bootstrap_features': False, 'model__max_features': 0.8, 'model__max_samples': 0.8, 'model__n_estimators': 100}\n",
      "mean:  0.847182402534496 , std:  0.0207349673081223 {'model__bootstrap': False, 'model__bootstrap_features': False, 'model__max_features': 0.8, 'model__max_samples': 0.8, 'model__n_estimators': 1000}\n",
      "mean:  0.5 , std:  0.0 {'model__bootstrap': False, 'model__bootstrap_features': False, 'model__max_features': 0.8, 'model__max_samples': 1, 'model__n_estimators': 10}\n",
      "mean:  0.5 , std:  0.0 {'model__bootstrap': False, 'model__bootstrap_features': False, 'model__max_features': 0.8, 'model__max_samples': 1, 'model__n_estimators': 100}\n",
      "mean:  0.5 , std:  0.0 {'model__bootstrap': False, 'model__bootstrap_features': False, 'model__max_features': 0.8, 'model__max_samples': 1, 'model__n_estimators': 1000}\n",
      "mean:  0.6556049508120241 , std:  0.07932298049959506 {'model__bootstrap': False, 'model__bootstrap_features': False, 'model__max_features': 1, 'model__max_samples': 0.5, 'model__n_estimators': 10}\n",
      "mean:  0.7658214826372276 , std:  0.03336941758158067 {'model__bootstrap': False, 'model__bootstrap_features': False, 'model__max_features': 1, 'model__max_samples': 0.5, 'model__n_estimators': 100}\n",
      "mean:  0.8041298322158034 , std:  0.02798608613861171 {'model__bootstrap': False, 'model__bootstrap_features': False, 'model__max_features': 1, 'model__max_samples': 0.5, 'model__n_estimators': 1000}\n",
      "mean:  0.6789587513656714 , std:  0.0770297459539795 {'model__bootstrap': False, 'model__bootstrap_features': False, 'model__max_features': 1, 'model__max_samples': 0.8, 'model__n_estimators': 10}\n",
      "mean:  0.7480475212021241 , std:  0.03748761690272747 {'model__bootstrap': False, 'model__bootstrap_features': False, 'model__max_features': 1, 'model__max_samples': 0.8, 'model__n_estimators': 100}\n",
      "mean:  0.8025149777565143 , std:  0.03390956933948955 {'model__bootstrap': False, 'model__bootstrap_features': False, 'model__max_features': 1, 'model__max_samples': 0.8, 'model__n_estimators': 1000}\n",
      "mean:  0.5 , std:  0.0 {'model__bootstrap': False, 'model__bootstrap_features': False, 'model__max_features': 1, 'model__max_samples': 1, 'model__n_estimators': 10}\n",
      "mean:  0.5 , std:  0.0 {'model__bootstrap': False, 'model__bootstrap_features': False, 'model__max_features': 1, 'model__max_samples': 1, 'model__n_estimators': 100}\n",
      "mean:  0.5 , std:  0.0 {'model__bootstrap': False, 'model__bootstrap_features': False, 'model__max_features': 1, 'model__max_samples': 1, 'model__n_estimators': 1000}\n",
      "Tunuję:  RandomForest\n",
      "mean:  0.8398251821490373 , std:  0.026371981417654733 {'model__max_depth': 10, 'model__min_samples_split': 2, 'model__n_estimators': 10}\n",
      "mean:  0.8482518809967557 , std:  0.025995235982028433 {'model__max_depth': 10, 'model__min_samples_split': 2, 'model__n_estimators': 100}\n",
      "mean:  0.853161752629587 , std:  0.024363810035039787 {'model__max_depth': 10, 'model__min_samples_split': 2, 'model__n_estimators': 1000}\n",
      "mean:  0.8333855501841129 , std:  0.02339647630883564 {'model__max_depth': 10, 'model__min_samples_split': 4, 'model__n_estimators': 10}\n",
      "mean:  0.8515073264258324 , std:  0.02261359446488415 {'model__max_depth': 10, 'model__min_samples_split': 4, 'model__n_estimators': 100}\n",
      "mean:  0.8528862380778962 , std:  0.02453927509380884 {'model__max_depth': 10, 'model__min_samples_split': 4, 'model__n_estimators': 1000}\n",
      "mean:  0.8365216109329886 , std:  0.037411790953737 {'model__max_depth': 10, 'model__min_samples_split': 8, 'model__n_estimators': 10}\n",
      "mean:  0.8490193645670435 , std:  0.024014709431323455 {'model__max_depth': 10, 'model__min_samples_split': 8, 'model__n_estimators': 100}\n",
      "mean:  0.8526379476962699 , std:  0.025150370462713123 {'model__max_depth': 10, 'model__min_samples_split': 8, 'model__n_estimators': 1000}\n",
      "mean:  0.8272519297919896 , std:  0.02207309326596784 {'model__max_depth': 100, 'model__min_samples_split': 2, 'model__n_estimators': 10}\n",
      "mean:  0.8502377577518965 , std:  0.028678260934142774 {'model__max_depth': 100, 'model__min_samples_split': 2, 'model__n_estimators': 100}\n",
      "mean:  0.8562843500593873 , std:  0.022866160722014705 {'model__max_depth': 100, 'model__min_samples_split': 2, 'model__n_estimators': 1000}\n",
      "mean:  0.8285585411891279 , std:  0.027660570475243385 {'model__max_depth': 100, 'model__min_samples_split': 4, 'model__n_estimators': 10}\n",
      "mean:  0.8538093308388257 , std:  0.025413221809909556 {'model__max_depth': 100, 'model__min_samples_split': 4, 'model__n_estimators': 100}\n",
      "mean:  0.8563142520166713 , std:  0.02286767529434948 {'model__max_depth': 100, 'model__min_samples_split': 4, 'model__n_estimators': 1000}\n",
      "mean:  0.8388950973881457 , std:  0.023805403266584188 {'model__max_depth': 100, 'model__min_samples_split': 8, 'model__n_estimators': 10}\n",
      "mean:  0.8530626745024672 , std:  0.02166426747346952 {'model__max_depth': 100, 'model__min_samples_split': 8, 'model__n_estimators': 100}\n",
      "mean:  0.8557447759346667 , std:  0.022077785907007305 {'model__max_depth': 100, 'model__min_samples_split': 8, 'model__n_estimators': 1000}\n",
      "mean:  0.8255897677584897 , std:  0.029418777923021222 {'model__max_depth': 1000, 'model__min_samples_split': 2, 'model__n_estimators': 10}\n",
      "mean:  0.8520552314441248 , std:  0.025241107403909308 {'model__max_depth': 1000, 'model__min_samples_split': 2, 'model__n_estimators': 100}\n",
      "mean:  0.8564783408668415 , std:  0.022374475017882235 {'model__max_depth': 1000, 'model__min_samples_split': 2, 'model__n_estimators': 1000}\n",
      "mean:  0.8335250182684594 , std:  0.029197747442224697 {'model__max_depth': 1000, 'model__min_samples_split': 4, 'model__n_estimators': 10}\n",
      "mean:  0.852547051696765 , std:  0.02528244665537266 {'model__max_depth': 1000, 'model__min_samples_split': 4, 'model__n_estimators': 100}\n",
      "mean:  0.8559463538059093 , std:  0.021499635253676184 {'model__max_depth': 1000, 'model__min_samples_split': 4, 'model__n_estimators': 1000}\n",
      "mean:  0.8289979214420539 , std:  0.028138140939002163 {'model__max_depth': 1000, 'model__min_samples_split': 8, 'model__n_estimators': 10}\n",
      "mean:  0.8533337260754589 , std:  0.02282307981619891 {'model__max_depth': 1000, 'model__min_samples_split': 8, 'model__n_estimators': 100}\n",
      "mean:  0.8567858400992092 , std:  0.022852672461306792 {'model__max_depth': 1000, 'model__min_samples_split': 8, 'model__n_estimators': 1000}\n",
      "\n",
      "Wyniki na testowym:\n",
      "Regresja logistyczna  ( {'model__C': 1, 'model__penalty': 'l1'} ): 0.7298322224775914  : 0.751913356298762  : 0.07984344422700587\n",
      "Regresja logistyczna - StandardScaler  ( {'model__C': 1, 'model__penalty': 'l1'} ): 0.730023749329656  : 0.7470250875234901  : 0.07893361212754835\n"
     ]
    },
    {
     "name": "stderr",
     "output_type": "stream",
     "text": [
      "C:\\Anaconda\\lib\\site-packages\\sklearn\\pipeline.py:331: DataConversionWarning: Data with input dtype uint8, int64, float64 were all converted to float64 by StandardScaler.\n",
      "  Xt = transform.transform(Xt)\n",
      "C:\\Anaconda\\lib\\site-packages\\sklearn\\pipeline.py:331: DataConversionWarning: Data with input dtype uint8, int64, float64 were all converted to float64 by StandardScaler.\n",
      "  Xt = transform.transform(Xt)\n",
      "C:\\Anaconda\\lib\\site-packages\\sklearn\\pipeline.py:331: DataConversionWarning: Data with input dtype uint8, int64, float64 were all converted to float64 by StandardScaler.\n",
      "  Xt = transform.transform(Xt)\n"
     ]
    },
    {
     "name": "stdout",
     "output_type": "stream",
     "text": [
      "Regresja logistyczna - MaxAbsScaler  ( {'model__C': 1, 'model__penalty': 'l1'} ): 0.7283766184018999  : 0.7499279971287471  : 0.07921049214387742\n",
      "Drzewo decyzyjne  ( {'model__criterion': 'gini'} ): 0.681644066498123  : 0.6875650918264311  : 0.06185799751664973\n",
      "Naiwny Bayes  ( {} ): 0.6811844020531679  : 0.6075636739237354  : 0.04803843074459568\n",
      "BaggingClassifier  ( {'model__bootstrap': False, 'model__bootstrap_features': False, 'model__max_features': 0.5, 'model__max_samples': 0.5, 'model__n_estimators': 1000} ): 0.7035164330039071  : 0.767219960525195  : 0.07835198856870683\n",
      "RandomForest  ( {'model__max_depth': 1000, 'model__min_samples_split': 8, 'model__n_estimators': 1000} ): 0.702443882632345  : 0.7766464533478012  : 0.07983890073442312\n"
     ]
    },
    {
     "data": {
      "text/html": [
       "<div>\n",
       "<style scoped>\n",
       "    .dataframe tbody tr th:only-of-type {\n",
       "        vertical-align: middle;\n",
       "    }\n",
       "\n",
       "    .dataframe tbody tr th {\n",
       "        vertical-align: top;\n",
       "    }\n",
       "\n",
       "    .dataframe thead th {\n",
       "        text-align: right;\n",
       "    }\n",
       "</style>\n",
       "<table border=\"1\" class=\"dataframe\">\n",
       "  <thead>\n",
       "    <tr style=\"text-align: right;\">\n",
       "      <th></th>\n",
       "      <th>Method</th>\n",
       "      <th>Accuracy Score Test</th>\n",
       "      <th>AUC Score test</th>\n",
       "      <th>F1 Score test</th>\n",
       "    </tr>\n",
       "  </thead>\n",
       "  <tbody>\n",
       "    <tr>\n",
       "      <th>0</th>\n",
       "      <td>Regresja logistyczna</td>\n",
       "      <td>0.729832</td>\n",
       "      <td>0.751913</td>\n",
       "      <td>0.079843</td>\n",
       "    </tr>\n",
       "    <tr>\n",
       "      <th>1</th>\n",
       "      <td>Regresja logistyczna - StandardScaler</td>\n",
       "      <td>0.730024</td>\n",
       "      <td>0.747025</td>\n",
       "      <td>0.078934</td>\n",
       "    </tr>\n",
       "    <tr>\n",
       "      <th>2</th>\n",
       "      <td>Regresja logistyczna - MaxAbsScaler</td>\n",
       "      <td>0.728377</td>\n",
       "      <td>0.749928</td>\n",
       "      <td>0.079210</td>\n",
       "    </tr>\n",
       "    <tr>\n",
       "      <th>3</th>\n",
       "      <td>Drzewo decyzyjne</td>\n",
       "      <td>0.681644</td>\n",
       "      <td>0.687565</td>\n",
       "      <td>0.061858</td>\n",
       "    </tr>\n",
       "    <tr>\n",
       "      <th>4</th>\n",
       "      <td>Naiwny Bayes</td>\n",
       "      <td>0.681184</td>\n",
       "      <td>0.607564</td>\n",
       "      <td>0.048038</td>\n",
       "    </tr>\n",
       "    <tr>\n",
       "      <th>5</th>\n",
       "      <td>BaggingClassifier</td>\n",
       "      <td>0.703516</td>\n",
       "      <td>0.767220</td>\n",
       "      <td>0.078352</td>\n",
       "    </tr>\n",
       "    <tr>\n",
       "      <th>6</th>\n",
       "      <td>RandomForest</td>\n",
       "      <td>0.702444</td>\n",
       "      <td>0.776646</td>\n",
       "      <td>0.079839</td>\n",
       "    </tr>\n",
       "  </tbody>\n",
       "</table>\n",
       "</div>"
      ],
      "text/plain": [
       "                                  Method  Accuracy Score Test  AUC Score test  \\\n",
       "0                   Regresja logistyczna             0.729832        0.751913   \n",
       "1  Regresja logistyczna - StandardScaler             0.730024        0.747025   \n",
       "2    Regresja logistyczna - MaxAbsScaler             0.728377        0.749928   \n",
       "3                       Drzewo decyzyjne             0.681644        0.687565   \n",
       "4                           Naiwny Bayes             0.681184        0.607564   \n",
       "5                      BaggingClassifier             0.703516        0.767220   \n",
       "6                           RandomForest             0.702444        0.776646   \n",
       "\n",
       "   F1 Score test  \n",
       "0       0.079843  \n",
       "1       0.078934  \n",
       "2       0.079210  \n",
       "3       0.061858  \n",
       "4       0.048038  \n",
       "5       0.078352  \n",
       "6       0.079839  "
      ]
     },
     "metadata": {},
     "output_type": "display_data"
    }
   ],
   "source": [
    "modelowanie(X_train_under, y_train_under, X_test, y_test, names, models, parameters, \"roc_auc\", models_run)"
   ]
  },
  {
   "cell_type": "code",
   "execution_count": 89,
   "metadata": {
    "scrolled": true
   },
   "outputs": [
    {
     "name": "stdout",
     "output_type": "stream",
     "text": [
      "Tunuję:  Regresja logistyczna\n"
     ]
    },
    {
     "name": "stderr",
     "output_type": "stream",
     "text": [
      "C:\\Anaconda\\lib\\site-packages\\sklearn\\linear_model\\logistic.py:433: FutureWarning: Default solver will be changed to 'lbfgs' in 0.22. Specify a solver to silence this warning.\n",
      "  FutureWarning)\n"
     ]
    },
    {
     "name": "stdout",
     "output_type": "stream",
     "text": [
      "mean:  0.832471005024036 , std:  0.0030867725725779458 {'model__C': 0.01, 'model__penalty': 'l1'}\n",
      "mean:  0.7727469948770508 , std:  0.0031993750216617657 {'model__C': 0.01, 'model__penalty': 'l2'}\n",
      "mean:  0.8363980569527228 , std:  0.0031909688838678424 {'model__C': 1, 'model__penalty': 'l1'}\n",
      "mean:  0.7693593206481665 , std:  0.00922691352235505 {'model__C': 1, 'model__penalty': 'l2'}\n",
      "mean:  0.8363679986885743 , std:  0.003184649124751555 {'model__C': 10, 'model__penalty': 'l1'}\n",
      "mean:  0.7712607465865069 , std:  0.0062719277221458015 {'model__C': 10, 'model__penalty': 'l2'}\n",
      "mean:  0.8363692786796375 , std:  0.0031851540792211907 {'model__C': 100, 'model__penalty': 'l1'}\n",
      "mean:  0.771697069579746 , std:  0.006137484332157961 {'model__C': 100, 'model__penalty': 'l2'}\n",
      "mean:  0.83637159558081 , std:  0.003178965224632141 {'model__C': 1000, 'model__penalty': 'l1'}\n",
      "mean:  0.7727064866519671 , std:  0.0031531621470248564 {'model__C': 1000, 'model__penalty': 'l2'}\n",
      "Tunuję:  Regresja logistyczna - StandardScaler\n"
     ]
    },
    {
     "name": "stderr",
     "output_type": "stream",
     "text": [
      "C:\\Anaconda\\lib\\site-packages\\sklearn\\preprocessing\\data.py:625: DataConversionWarning: Data with input dtype uint8, int64, float64 were all converted to float64 by StandardScaler.\n",
      "  return self.partial_fit(X, y)\n",
      "C:\\Anaconda\\lib\\site-packages\\sklearn\\base.py:465: DataConversionWarning: Data with input dtype uint8, int64, float64 were all converted to float64 by StandardScaler.\n",
      "  return self.fit(X, y, **fit_params).transform(X)\n",
      "C:\\Anaconda\\lib\\site-packages\\sklearn\\linear_model\\logistic.py:433: FutureWarning: Default solver will be changed to 'lbfgs' in 0.22. Specify a solver to silence this warning.\n",
      "  FutureWarning)\n"
     ]
    },
    {
     "name": "stdout",
     "output_type": "stream",
     "text": [
      "mean:  0.836321654476525 , std:  0.0029991368413270847 {'model__C': 0.01, 'model__penalty': 'l1'}\n",
      "mean:  0.8364119236696912 , std:  0.003022619264761246 {'model__C': 0.01, 'model__penalty': 'l2'}\n",
      "mean:  0.8363923424061798 , std:  0.003186759495368395 {'model__C': 1, 'model__penalty': 'l1'}\n",
      "mean:  0.8364107230896418 , std:  0.003181257503823729 {'model__C': 1, 'model__penalty': 'l2'}\n",
      "mean:  0.8363813946714556 , std:  0.003189031042850637 {'model__C': 10, 'model__penalty': 'l1'}\n",
      "mean:  0.8363842107596596 , std:  0.003188979087695066 {'model__C': 10, 'model__penalty': 'l2'}\n",
      "mean:  0.8363812058695527 , std:  0.00319136258894618 {'model__C': 100, 'model__penalty': 'l1'}\n",
      "mean:  0.8363818385788899 , std:  0.0031901270396820004 {'model__C': 100, 'model__penalty': 'l2'}\n",
      "mean:  0.8363801350411599 , std:  0.0031898197442819915 {'model__C': 1000, 'model__penalty': 'l1'}\n",
      "mean:  0.8363812032274637 , std:  0.0031901502066134786 {'model__C': 1000, 'model__penalty': 'l2'}\n",
      "Tunuję:  Regresja logistyczna - MaxAbsScaler\n"
     ]
    },
    {
     "name": "stderr",
     "output_type": "stream",
     "text": [
      "C:\\Anaconda\\lib\\site-packages\\sklearn\\linear_model\\logistic.py:433: FutureWarning: Default solver will be changed to 'lbfgs' in 0.22. Specify a solver to silence this warning.\n",
      "  FutureWarning)\n"
     ]
    },
    {
     "name": "stdout",
     "output_type": "stream",
     "text": [
      "mean:  0.8177740170449407 , std:  0.003018890656106844 {'model__C': 0.01, 'model__penalty': 'l1'}\n",
      "mean:  0.8190631695819655 , std:  0.002960144920008409 {'model__C': 0.01, 'model__penalty': 'l2'}\n",
      "mean:  0.8356844860441976 , std:  0.0029539158337508254 {'model__C': 1, 'model__penalty': 'l1'}\n",
      "mean:  0.8232160772843375 , std:  0.0029546956256266054 {'model__C': 1, 'model__penalty': 'l2'}\n",
      "mean:  0.8366395980476107 , std:  0.0031350618417673418 {'model__C': 10, 'model__penalty': 'l1'}\n",
      "mean:  0.8267056995154587 , std:  0.0030015508155172435 {'model__C': 10, 'model__penalty': 'l2'}\n",
      "mean:  0.8364168462301171 , std:  0.003182542653779791 {'model__C': 100, 'model__penalty': 'l1'}\n",
      "mean:  0.8336552298251736 , std:  0.0029922474462602835 {'model__C': 100, 'model__penalty': 'l2'}\n",
      "mean:  0.836386788281152 , std:  0.003189077426632313 {'model__C': 1000, 'model__penalty': 'l1'}\n",
      "mean:  0.8365355136921765 , std:  0.003038927621563135 {'model__C': 1000, 'model__penalty': 'l2'}\n",
      "Tunuję:  Drzewo decyzyjne\n",
      "mean:  0.9916935218274787 , std:  0.001096111994203054 {'model__criterion': 'gini'}\n",
      "mean:  0.9913914946649358 , std:  0.000772160503364931 {'model__criterion': 'entropy'}\n",
      "Tunuję:  Naiwny Bayes\n",
      "mean:  0.5509276463259781 , std:  0.0075262228452419744 {}\n",
      "Tunuję:  BaggingClassifier\n",
      "mean:  0.9999376340859055 , std:  5.7139940327003684e-05 {'model__bootstrap': False, 'model__bootstrap_features': False, 'model__max_features': 0.5, 'model__max_samples': 0.5, 'model__n_estimators': 10}\n",
      "mean:  0.9999394217235832 , std:  7.308649068210414e-05 {'model__bootstrap': False, 'model__bootstrap_features': False, 'model__max_features': 0.5, 'model__max_samples': 0.5, 'model__n_estimators': 100}\n",
      "mean:  0.9999391141362868 , std:  6.570849520168283e-05 {'model__bootstrap': False, 'model__bootstrap_features': False, 'model__max_features': 0.5, 'model__max_samples': 0.5, 'model__n_estimators': 1000}\n",
      "mean:  0.9999214932647975 , std:  7.520062490590759e-05 {'model__bootstrap': False, 'model__bootstrap_features': False, 'model__max_features': 0.5, 'model__max_samples': 0.8, 'model__n_estimators': 10}\n",
      "mean:  0.9999367136391369 , std:  6.855154204029618e-05 {'model__bootstrap': False, 'model__bootstrap_features': False, 'model__max_features': 0.5, 'model__max_samples': 0.8, 'model__n_estimators': 100}\n",
      "mean:  0.9999435224871626 , std:  6.163748442061673e-05 {'model__bootstrap': False, 'model__bootstrap_features': False, 'model__max_features': 0.5, 'model__max_samples': 0.8, 'model__n_estimators': 1000}\n",
      "mean:  0.5 , std:  0.0 {'model__bootstrap': False, 'model__bootstrap_features': False, 'model__max_features': 0.5, 'model__max_samples': 1, 'model__n_estimators': 10}\n",
      "mean:  0.5 , std:  0.0 {'model__bootstrap': False, 'model__bootstrap_features': False, 'model__max_features': 0.5, 'model__max_samples': 1, 'model__n_estimators': 100}\n",
      "mean:  0.5 , std:  0.0 {'model__bootstrap': False, 'model__bootstrap_features': False, 'model__max_features': 0.5, 'model__max_samples': 1, 'model__n_estimators': 1000}\n",
      "mean:  0.9999290394406987 , std:  7.786402677456435e-05 {'model__bootstrap': False, 'model__bootstrap_features': False, 'model__max_features': 0.8, 'model__max_samples': 0.5, 'model__n_estimators': 10}\n",
      "mean:  0.9999586790700994 , std:  5.517388924182834e-05 {'model__bootstrap': False, 'model__bootstrap_features': False, 'model__max_features': 0.8, 'model__max_samples': 0.5, 'model__n_estimators': 100}\n",
      "mean:  0.9999490239250013 , std:  6.543924697532468e-05 {'model__bootstrap': False, 'model__bootstrap_features': False, 'model__max_features': 0.8, 'model__max_samples': 0.5, 'model__n_estimators': 1000}\n",
      "mean:  0.9999177328137677 , std:  8.701083955423033e-05 {'model__bootstrap': False, 'model__bootstrap_features': False, 'model__max_features': 0.8, 'model__max_samples': 0.8, 'model__n_estimators': 10}\n",
      "mean:  0.9999284894732927 , std:  7.544512269382634e-05 {'model__bootstrap': False, 'model__bootstrap_features': False, 'model__max_features': 0.8, 'model__max_samples': 0.8, 'model__n_estimators': 100}\n",
      "mean:  0.9999555892916235 , std:  5.789083725545112e-05 {'model__bootstrap': False, 'model__bootstrap_features': False, 'model__max_features': 0.8, 'model__max_samples': 0.8, 'model__n_estimators': 1000}\n",
      "mean:  0.5 , std:  0.0 {'model__bootstrap': False, 'model__bootstrap_features': False, 'model__max_features': 0.8, 'model__max_samples': 1, 'model__n_estimators': 10}\n",
      "mean:  0.5 , std:  0.0 {'model__bootstrap': False, 'model__bootstrap_features': False, 'model__max_features': 0.8, 'model__max_samples': 1, 'model__n_estimators': 100}\n",
      "mean:  0.5 , std:  0.0 {'model__bootstrap': False, 'model__bootstrap_features': False, 'model__max_features': 0.8, 'model__max_samples': 1, 'model__n_estimators': 1000}\n",
      "mean:  0.7242612621754724 , std:  0.14511230003071227 {'model__bootstrap': False, 'model__bootstrap_features': False, 'model__max_features': 1, 'model__max_samples': 0.5, 'model__n_estimators': 10}\n",
      "mean:  0.9150914022364519 , std:  0.06787309293232191 {'model__bootstrap': False, 'model__bootstrap_features': False, 'model__max_features': 1, 'model__max_samples': 0.5, 'model__n_estimators': 100}\n",
      "mean:  0.9530270031846615 , std:  0.014263159293200142 {'model__bootstrap': False, 'model__bootstrap_features': False, 'model__max_features': 1, 'model__max_samples': 0.5, 'model__n_estimators': 1000}\n",
      "mean:  0.6575899430788793 , std:  0.1181158074074628 {'model__bootstrap': False, 'model__bootstrap_features': False, 'model__max_features': 1, 'model__max_samples': 0.8, 'model__n_estimators': 10}\n",
      "mean:  0.9080876814511959 , std:  0.04922296024209381 {'model__bootstrap': False, 'model__bootstrap_features': False, 'model__max_features': 1, 'model__max_samples': 0.8, 'model__n_estimators': 100}\n",
      "mean:  0.9581622393096068 , std:  0.012112591082213235 {'model__bootstrap': False, 'model__bootstrap_features': False, 'model__max_features': 1, 'model__max_samples': 0.8, 'model__n_estimators': 1000}\n",
      "mean:  0.5 , std:  0.0 {'model__bootstrap': False, 'model__bootstrap_features': False, 'model__max_features': 1, 'model__max_samples': 1, 'model__n_estimators': 10}\n",
      "mean:  0.5 , std:  0.0 {'model__bootstrap': False, 'model__bootstrap_features': False, 'model__max_features': 1, 'model__max_samples': 1, 'model__n_estimators': 100}\n",
      "mean:  0.5 , std:  0.0 {'model__bootstrap': False, 'model__bootstrap_features': False, 'model__max_features': 1, 'model__max_samples': 1, 'model__n_estimators': 1000}\n",
      "Tunuję:  RandomForest\n",
      "mean:  0.920965196133509 , std:  0.003587198202172181 {'model__max_depth': 10, 'model__min_samples_split': 2, 'model__n_estimators': 10}\n",
      "mean:  0.9348026408660307 , std:  0.0025772128478948435 {'model__max_depth': 10, 'model__min_samples_split': 2, 'model__n_estimators': 100}\n",
      "mean:  0.9352502246221354 , std:  0.0025711407656419417 {'model__max_depth': 10, 'model__min_samples_split': 2, 'model__n_estimators': 1000}\n",
      "mean:  0.9240699099099752 , std:  0.0037050650542393006 {'model__max_depth': 10, 'model__min_samples_split': 4, 'model__n_estimators': 10}\n",
      "mean:  0.9336344957207432 , std:  0.00352295344397076 {'model__max_depth': 10, 'model__min_samples_split': 4, 'model__n_estimators': 100}\n",
      "mean:  0.9353766283255058 , std:  0.0024220638339679315 {'model__max_depth': 10, 'model__min_samples_split': 4, 'model__n_estimators': 1000}\n",
      "mean:  0.9219598434126761 , std:  0.005739668413805944 {'model__max_depth': 10, 'model__min_samples_split': 8, 'model__n_estimators': 10}\n",
      "mean:  0.9346836298728056 , std:  0.004060157664822709 {'model__max_depth': 10, 'model__min_samples_split': 8, 'model__n_estimators': 100}\n",
      "mean:  0.9351923940416252 , std:  0.0027273458354040024 {'model__max_depth': 10, 'model__min_samples_split': 8, 'model__n_estimators': 1000}\n",
      "mean:  0.9998991873946571 , std:  9.020531983521264e-05 {'model__max_depth': 100, 'model__min_samples_split': 2, 'model__n_estimators': 10}\n",
      "mean:  0.9999160507595891 , std:  7.499035412765331e-05 {'model__max_depth': 100, 'model__min_samples_split': 2, 'model__n_estimators': 100}\n",
      "mean:  0.9999491157792971 , std:  5.5480220807703384e-05 {'model__max_depth': 100, 'model__min_samples_split': 2, 'model__n_estimators': 1000}\n",
      "mean:  0.9999075836939524 , std:  8.753960767749516e-05 {'model__max_depth': 100, 'model__min_samples_split': 4, 'model__n_estimators': 10}\n",
      "mean:  0.9999243804823588 , std:  6.971986523438644e-05 {'model__max_depth': 100, 'model__min_samples_split': 4, 'model__n_estimators': 100}\n",
      "mean:  0.9999408318385616 , std:  6.537932133747061e-05 {'model__max_depth': 100, 'model__min_samples_split': 4, 'model__n_estimators': 1000}\n",
      "mean:  0.9999075545637328 , std:  7.929195598488737e-05 {'model__max_depth': 100, 'model__min_samples_split': 8, 'model__n_estimators': 10}\n",
      "mean:  0.9999326186369009 , std:  7.29281687958618e-05 {'model__max_depth': 100, 'model__min_samples_split': 8, 'model__n_estimators': 100}\n",
      "mean:  0.9999408845523238 , std:  6.538367639943776e-05 {'model__max_depth': 100, 'model__min_samples_split': 8, 'model__n_estimators': 1000}\n",
      "mean:  0.9999077945665632 , std:  8.743102882969476e-05 {'model__max_depth': 1000, 'model__min_samples_split': 2, 'model__n_estimators': 10}\n",
      "mean:  0.9999243000199625 , std:  6.964348684850025e-05 {'model__max_depth': 1000, 'model__min_samples_split': 2, 'model__n_estimators': 100}\n",
      "mean:  0.9999408679039755 , std:  6.54115905943737e-05 {'model__max_depth': 1000, 'model__min_samples_split': 2, 'model__n_estimators': 1000}\n",
      "mean:  0.9999076821904419 , std:  8.758596062467617e-05 {'model__max_depth': 1000, 'model__min_samples_split': 4, 'model__n_estimators': 10}\n",
      "mean:  0.9999244248765683 , std:  6.967095217970859e-05 {'model__max_depth': 1000, 'model__min_samples_split': 4, 'model__n_estimators': 100}\n",
      "mean:  0.999940903975397 , std:  6.540058522712547e-05 {'model__max_depth': 1000, 'model__min_samples_split': 4, 'model__n_estimators': 1000}\n",
      "mean:  0.9998908105082679 , std:  9.946897982126293e-05 {'model__max_depth': 1000, 'model__min_samples_split': 8, 'model__n_estimators': 10}\n",
      "mean:  0.9999325686974012 , std:  7.295249413299326e-05 {'model__max_depth': 1000, 'model__min_samples_split': 8, 'model__n_estimators': 100}\n",
      "mean:  0.9999408318385616 , std:  6.537932133744802e-05 {'model__max_depth': 1000, 'model__min_samples_split': 8, 'model__n_estimators': 1000}\n",
      "\n",
      "Wyniki na testowym:\n",
      "Regresja logistyczna  ( {'model__C': 1, 'model__penalty': 'l1'} ): 0.746916417681759  : 0.7543548075024775  : 0.08350672770148426\n",
      "Regresja logistyczna - StandardScaler  ( {'model__C': 0.01, 'model__penalty': 'l2'} ): 0.7458821726806099  : "
     ]
    },
    {
     "name": "stderr",
     "output_type": "stream",
     "text": [
      "C:\\Anaconda\\lib\\site-packages\\sklearn\\pipeline.py:331: DataConversionWarning: Data with input dtype uint8, int64, float64 were all converted to float64 by StandardScaler.\n",
      "  Xt = transform.transform(Xt)\n",
      "C:\\Anaconda\\lib\\site-packages\\sklearn\\pipeline.py:331: DataConversionWarning: Data with input dtype uint8, int64, float64 were all converted to float64 by StandardScaler.\n",
      "  Xt = transform.transform(Xt)\n",
      "C:\\Anaconda\\lib\\site-packages\\sklearn\\pipeline.py:331: DataConversionWarning: Data with input dtype uint8, int64, float64 were all converted to float64 by StandardScaler.\n",
      "  Xt = transform.transform(Xt)\n"
     ]
    },
    {
     "name": "stdout",
     "output_type": "stream",
     "text": [
      "0.7563224921215319  : 0.08370165745856353\n",
      "Regresja logistyczna - MaxAbsScaler  ( {'model__C': 10, 'model__penalty': 'l1'} ): 0.7470696391634107  : 0.753186219364317  : 0.08329862557267805\n",
      "Drzewo decyzyjne  ( {'model__criterion': 'gini'} ): 0.970160116448326  : 0.5187062721024199  : 0.05115712545676005\n",
      "Naiwny Bayes  ( {} ): 0.5314104037386042  : 0.547729066365231  : 0.03517627573152458\n",
      "BaggingClassifier  ( {'model__bootstrap': False, 'model__bootstrap_features': False, 'model__max_features': 0.8, 'model__max_samples': 0.5, 'model__n_estimators': 100} ): 0.9841415766490462  : 0.500876884198213  : 0.004807692307692308\n",
      "RandomForest  ( {'model__max_depth': 100, 'model__min_samples_split': 2, 'model__n_estimators': 1000} ): 0.9844097142419367  : 0.5022593885590023  : 0.009732360097323601\n"
     ]
    },
    {
     "data": {
      "text/html": [
       "<div>\n",
       "<style scoped>\n",
       "    .dataframe tbody tr th:only-of-type {\n",
       "        vertical-align: middle;\n",
       "    }\n",
       "\n",
       "    .dataframe tbody tr th {\n",
       "        vertical-align: top;\n",
       "    }\n",
       "\n",
       "    .dataframe thead th {\n",
       "        text-align: right;\n",
       "    }\n",
       "</style>\n",
       "<table border=\"1\" class=\"dataframe\">\n",
       "  <thead>\n",
       "    <tr style=\"text-align: right;\">\n",
       "      <th></th>\n",
       "      <th>Method</th>\n",
       "      <th>Accuracy Score Test</th>\n",
       "      <th>AUC Score test</th>\n",
       "      <th>F1 Score test</th>\n",
       "    </tr>\n",
       "  </thead>\n",
       "  <tbody>\n",
       "    <tr>\n",
       "      <th>0</th>\n",
       "      <td>Regresja logistyczna</td>\n",
       "      <td>0.746916</td>\n",
       "      <td>0.754355</td>\n",
       "      <td>0.083507</td>\n",
       "    </tr>\n",
       "    <tr>\n",
       "      <th>1</th>\n",
       "      <td>Regresja logistyczna - StandardScaler</td>\n",
       "      <td>0.745882</td>\n",
       "      <td>0.756322</td>\n",
       "      <td>0.083702</td>\n",
       "    </tr>\n",
       "    <tr>\n",
       "      <th>2</th>\n",
       "      <td>Regresja logistyczna - MaxAbsScaler</td>\n",
       "      <td>0.747070</td>\n",
       "      <td>0.753186</td>\n",
       "      <td>0.083299</td>\n",
       "    </tr>\n",
       "    <tr>\n",
       "      <th>3</th>\n",
       "      <td>Drzewo decyzyjne</td>\n",
       "      <td>0.970160</td>\n",
       "      <td>0.518706</td>\n",
       "      <td>0.051157</td>\n",
       "    </tr>\n",
       "    <tr>\n",
       "      <th>4</th>\n",
       "      <td>Naiwny Bayes</td>\n",
       "      <td>0.531410</td>\n",
       "      <td>0.547729</td>\n",
       "      <td>0.035176</td>\n",
       "    </tr>\n",
       "    <tr>\n",
       "      <th>5</th>\n",
       "      <td>BaggingClassifier</td>\n",
       "      <td>0.984142</td>\n",
       "      <td>0.500877</td>\n",
       "      <td>0.004808</td>\n",
       "    </tr>\n",
       "    <tr>\n",
       "      <th>6</th>\n",
       "      <td>RandomForest</td>\n",
       "      <td>0.984410</td>\n",
       "      <td>0.502259</td>\n",
       "      <td>0.009732</td>\n",
       "    </tr>\n",
       "  </tbody>\n",
       "</table>\n",
       "</div>"
      ],
      "text/plain": [
       "                                  Method  Accuracy Score Test  AUC Score test  \\\n",
       "0                   Regresja logistyczna             0.746916        0.754355   \n",
       "1  Regresja logistyczna - StandardScaler             0.745882        0.756322   \n",
       "2    Regresja logistyczna - MaxAbsScaler             0.747070        0.753186   \n",
       "3                       Drzewo decyzyjne             0.970160        0.518706   \n",
       "4                           Naiwny Bayes             0.531410        0.547729   \n",
       "5                      BaggingClassifier             0.984142        0.500877   \n",
       "6                           RandomForest             0.984410        0.502259   \n",
       "\n",
       "   F1 Score test  \n",
       "0       0.083507  \n",
       "1       0.083702  \n",
       "2       0.083299  \n",
       "3       0.051157  \n",
       "4       0.035176  \n",
       "5       0.004808  \n",
       "6       0.009732  "
      ]
     },
     "metadata": {},
     "output_type": "display_data"
    }
   ],
   "source": [
    "modelowanie(X_train_over, y_train_over, X_test, y_test, names, models, parameters, \"roc_auc\", models_run)"
   ]
  },
  {
   "cell_type": "markdown",
   "metadata": {},
   "source": [
    "##### Najlepszy wynik został osiągnięty w Under Sampling dla RandomForest - 0.776646"
   ]
  },
  {
   "cell_type": "code",
   "execution_count": null,
   "metadata": {},
   "outputs": [],
   "source": []
  },
  {
   "cell_type": "code",
   "execution_count": null,
   "metadata": {},
   "outputs": [],
   "source": []
  }
 ],
 "metadata": {
  "kernelspec": {
   "display_name": "Python 3",
   "language": "python",
   "name": "python3"
  },
  "language_info": {
   "codemirror_mode": {
    "name": "ipython",
    "version": 3
   },
   "file_extension": ".py",
   "mimetype": "text/x-python",
   "name": "python",
   "nbconvert_exporter": "python",
   "pygments_lexer": "ipython3",
   "version": "3.7.1"
  }
 },
 "nbformat": 4,
 "nbformat_minor": 2
}
